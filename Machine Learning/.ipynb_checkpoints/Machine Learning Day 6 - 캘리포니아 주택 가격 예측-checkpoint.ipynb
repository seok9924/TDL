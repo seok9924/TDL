{
 "cells": [
  {
   "cell_type": "markdown",
   "id": "a3bce32a",
   "metadata": {},
   "source": [
    "# 캘리포니아 주택 가격 예측 모델 만들기"
   ]
  },
  {
   "cell_type": "code",
   "execution_count": 1,
   "id": "cca0f968",
   "metadata": {},
   "outputs": [],
   "source": [
    "import numpy as np\n",
    "import pandas as pd\n",
    "import matplotlib.pyplot as plt\n",
    "import sklearn"
   ]
  },
  {
   "cell_type": "markdown",
   "id": "2d962c43",
   "metadata": {},
   "source": [
    "## 1. 데이터 가져오기"
   ]
  },
  {
   "cell_type": "code",
   "execution_count": null,
   "id": "dc8e6e82",
   "metadata": {},
   "outputs": [],
   "source": []
  },
  {
   "cell_type": "markdown",
   "id": "e42316a8",
   "metadata": {},
   "source": [
    "## 2. 데이터 훑어보기"
   ]
  },
  {
   "cell_type": "code",
   "execution_count": null,
   "id": "0c7a8f62",
   "metadata": {},
   "outputs": [],
   "source": []
  },
  {
   "cell_type": "markdown",
   "id": "fff95f42",
   "metadata": {},
   "source": [
    "## 3. 데이터 세트 분리\n",
    "- 훈련 데이터/ 테스트 데이터"
   ]
  },
  {
   "cell_type": "code",
   "execution_count": null,
   "id": "777f2ff1",
   "metadata": {},
   "outputs": [],
   "source": []
  },
  {
   "cell_type": "markdown",
   "id": "21666991",
   "metadata": {},
   "source": [
    "## 4. 데이터 탐색"
   ]
  },
  {
   "cell_type": "markdown",
   "id": "6c3d73bf",
   "metadata": {},
   "source": [
    "**탐색적 데이터분석**\n",
    "- 어떤 특성을 선택할지, 제거할지, 조합을 통해서 더 좋은 특성을 만들 수 있는지를 분석\n",
    "- 시각화(데이터의 경향성, 왜곡, 특잇값, 통계적정보)\n",
    "- 상관관계, 누락데이터(결측치)를 종합적으로 분석\n",
    "- 탐색적 데이터 분석의 결과로 모델링 방향을 결정할 수 있음"
   ]
  },
  {
   "cell_type": "code",
   "execution_count": null,
   "id": "419972f0",
   "metadata": {},
   "outputs": [],
   "source": []
  },
  {
   "cell_type": "markdown",
   "id": "24bcec66",
   "metadata": {},
   "source": [
    "### 4.1 지리적 데이터 시각화"
   ]
  },
  {
   "cell_type": "code",
   "execution_count": null,
   "id": "227eafab",
   "metadata": {},
   "outputs": [],
   "source": []
  },
  {
   "cell_type": "markdown",
   "id": "ba178228",
   "metadata": {},
   "source": [
    "### 4.2 상관관계 조사"
   ]
  },
  {
   "cell_type": "markdown",
   "id": "cd6042a3",
   "metadata": {},
   "source": [
    "- 상관계수"
   ]
  },
  {
   "cell_type": "code",
   "execution_count": null,
   "id": "b4d0d41e",
   "metadata": {},
   "outputs": [],
   "source": []
  },
  {
   "cell_type": "markdown",
   "id": "0fd04365",
   "metadata": {},
   "source": [
    "- 산점도"
   ]
  },
  {
   "cell_type": "code",
   "execution_count": null,
   "id": "fb825098",
   "metadata": {},
   "outputs": [],
   "source": []
  },
  {
   "cell_type": "markdown",
   "id": "5609f050",
   "metadata": {},
   "source": [
    "### 4.3 특성 조합을 실험"
   ]
  },
  {
   "cell_type": "code",
   "execution_count": null,
   "id": "4ae14def",
   "metadata": {},
   "outputs": [],
   "source": []
  },
  {
   "cell_type": "markdown",
   "id": "48fc7bbc",
   "metadata": {},
   "source": [
    "## 5. 데이터 전처리"
   ]
  },
  {
   "cell_type": "markdown",
   "id": "c69eae1c",
   "metadata": {},
   "source": [
    "### 5.1 데이터 전처리(1) - 결손값 처리"
   ]
  },
  {
   "cell_type": "code",
   "execution_count": null,
   "id": "b44438a3",
   "metadata": {},
   "outputs": [],
   "source": []
  },
  {
   "cell_type": "markdown",
   "id": "b8420796",
   "metadata": {},
   "source": [
    "### 5.2 데이터 전처리(2) - 데이터 인코딩\n",
    "- 데이터 인코딩을 하는 이유는 머신러닝에서 수치값만 기대하기 때문"
   ]
  },
  {
   "cell_type": "code",
   "execution_count": null,
   "id": "d3ea7c53",
   "metadata": {},
   "outputs": [],
   "source": []
  },
  {
   "cell_type": "markdown",
   "id": "7e21a40d",
   "metadata": {},
   "source": [
    "#### (1) 레이블 인코딩"
   ]
  },
  {
   "cell_type": "code",
   "execution_count": null,
   "id": "ea365710",
   "metadata": {},
   "outputs": [],
   "source": []
  },
  {
   "cell_type": "code",
   "execution_count": null,
   "id": "ba9b7c22",
   "metadata": {},
   "outputs": [],
   "source": []
  },
  {
   "cell_type": "markdown",
   "id": "1cdbf7c5",
   "metadata": {},
   "source": [
    "#### (2) 원핫 인코딩"
   ]
  },
  {
   "cell_type": "code",
   "execution_count": null,
   "id": "38b842ac",
   "metadata": {},
   "outputs": [],
   "source": []
  },
  {
   "cell_type": "code",
   "execution_count": null,
   "id": "34c8edc6",
   "metadata": {},
   "outputs": [],
   "source": []
  },
  {
   "cell_type": "markdown",
   "id": "28a85e39",
   "metadata": {},
   "source": [
    "### 5.3 데이터 전처리(3) - 특성 스케일링\n",
    "- 표준화 (Z score Standardize) : 평균 0, 표준편차 1\n",
    "- 정규화 (Min Max Scaling) : 0~1 사이로 정규화 (참고 : 특잇값에 영향을 받음)\n",
    "- 로그 스케일링 : 데이터의 분포가 왜곡되어 있을때 주로 사용"
   ]
  },
  {
   "cell_type": "code",
   "execution_count": null,
   "id": "cf340c9e",
   "metadata": {},
   "outputs": [],
   "source": []
  },
  {
   "cell_type": "code",
   "execution_count": null,
   "id": "6a32247e",
   "metadata": {},
   "outputs": [],
   "source": []
  },
  {
   "cell_type": "markdown",
   "id": "732fafe8",
   "metadata": {},
   "source": [
    "### 5.4 데이터 전처리(4) - 변환 파이프라인"
   ]
  },
  {
   "cell_type": "code",
   "execution_count": null,
   "id": "254fbb45",
   "metadata": {},
   "outputs": [],
   "source": []
  },
  {
   "cell_type": "code",
   "execution_count": null,
   "id": "8ffdcdd9",
   "metadata": {},
   "outputs": [],
   "source": []
  },
  {
   "cell_type": "markdown",
   "id": "226a047c",
   "metadata": {},
   "source": [
    "## 6. 모델 선택과 훈련"
   ]
  },
  {
   "cell_type": "code",
   "execution_count": null,
   "id": "684a39ad",
   "metadata": {},
   "outputs": [],
   "source": []
  },
  {
   "cell_type": "code",
   "execution_count": null,
   "id": "eb466a04",
   "metadata": {},
   "outputs": [],
   "source": []
  },
  {
   "cell_type": "markdown",
   "id": "7b90bbe8",
   "metadata": {},
   "source": [
    "## 7. 모델 세부 튜닝"
   ]
  },
  {
   "cell_type": "code",
   "execution_count": null,
   "id": "f139148c",
   "metadata": {},
   "outputs": [],
   "source": []
  },
  {
   "cell_type": "code",
   "execution_count": null,
   "id": "82c6b571",
   "metadata": {},
   "outputs": [],
   "source": []
  },
  {
   "cell_type": "markdown",
   "id": "0bb5a870",
   "metadata": {},
   "source": [
    "## 8. 모델 예측과 성능 평가"
   ]
  },
  {
   "cell_type": "code",
   "execution_count": null,
   "id": "eb223746",
   "metadata": {},
   "outputs": [],
   "source": []
  },
  {
   "cell_type": "code",
   "execution_count": null,
   "id": "b350a327",
   "metadata": {},
   "outputs": [],
   "source": []
  },
  {
   "cell_type": "markdown",
   "id": "4cdb3b9d",
   "metadata": {},
   "source": [
    "## 9. 모델 저장"
   ]
  },
  {
   "cell_type": "code",
   "execution_count": null,
   "id": "81dbf54f",
   "metadata": {},
   "outputs": [],
   "source": []
  },
  {
   "cell_type": "code",
   "execution_count": null,
   "id": "747d1536",
   "metadata": {},
   "outputs": [],
   "source": []
  }
 ],
 "metadata": {
  "kernelspec": {
   "display_name": "Python 3 (ipykernel)",
   "language": "python",
   "name": "python3"
  },
  "language_info": {
   "codemirror_mode": {
    "name": "ipython",
    "version": 3
   },
   "file_extension": ".py",
   "mimetype": "text/x-python",
   "name": "python",
   "nbconvert_exporter": "python",
   "pygments_lexer": "ipython3",
   "version": "3.8.8"
  }
 },
 "nbformat": 4,
 "nbformat_minor": 5
}
