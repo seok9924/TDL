{
 "cells": [
  {
   "cell_type": "markdown",
   "id": "3f4afc23",
   "metadata": {},
   "source": [
    "**셀레니움**\n",
    "- 웹페이지 테스트 자동화 프레임워크 \n",
    "- 셀레니움 사용하면 완전한 형태의 웹 페이지 소스를 볼 수 있기 때문에 스크래핑할 때 유용"
   ]
  },
  {
   "cell_type": "markdown",
   "id": "d0658579",
   "metadata": {},
   "source": [
    "**사용 예**\n",
    "- 자바스크립트가 동적으로 만든 데이터 스크래핑할 때\n",
    "- 사이트의 다양한 HTML 요소에 클릭, 키보드 입력 등 이벤트를 줄 때\n"
   ]
  },
  {
   "cell_type": "markdown",
   "id": "435ed807",
   "metadata": {},
   "source": [
    "**사용 방법**\n",
    "- 셀레니움을 사용하려면 사용중인 웹 브라우저의 드라이버 파일을 다운로드 해야함\n",
    "- 크롬드라이버 파일 다운\n",
    "\n",
    "https://chromedriver.chromium.org/downloads 에서 chrome 버전과 운영체제에 맞는 드라이버 다운로드 \n",
    "chrome://version/\n",
    "압축 푼 뒤 응용 프로그램을 현재 작업 디렉토리에 카피 "
   ]
  },
  {
   "cell_type": "markdown",
   "id": "82b71e30",
   "metadata": {},
   "source": [
    "*selenium 다운*\n",
    "conda install selenium\n",
    "\n",
    "**참고사이트 \n",
    "\n",
    "https://www.selenium.dev/documentation/webdriver/"
   ]
  },
  {
   "cell_type": "code",
   "execution_count": 30,
   "id": "c15aacb9",
   "metadata": {},
   "outputs": [],
   "source": [
    "import selenium\n",
    "import time"
   ]
  },
  {
   "cell_type": "code",
   "execution_count": 3,
   "id": "ef88313c",
   "metadata": {},
   "outputs": [],
   "source": [
    "from selenium import webdriver"
   ]
  },
  {
   "cell_type": "code",
   "execution_count": 4,
   "id": "46bd14ef",
   "metadata": {},
   "outputs": [],
   "source": [
    "driver=webdriver.Chrome() #driver가 있는 path를  넣어줄 수 있음 "
   ]
  },
  {
   "cell_type": "code",
   "execution_count": 5,
   "id": "8698b8e1",
   "metadata": {},
   "outputs": [],
   "source": [
    "driver.get(\"http://naver.com\")"
   ]
  },
  {
   "cell_type": "code",
   "execution_count": 6,
   "id": "abcfdede",
   "metadata": {},
   "outputs": [],
   "source": [
    "driver.back()"
   ]
  },
  {
   "cell_type": "code",
   "execution_count": 7,
   "id": "76425d41",
   "metadata": {},
   "outputs": [],
   "source": [
    "driver.forward()"
   ]
  },
  {
   "cell_type": "code",
   "execution_count": 8,
   "id": "e8398580",
   "metadata": {},
   "outputs": [],
   "source": [
    "driver.refresh()"
   ]
  },
  {
   "cell_type": "code",
   "execution_count": 9,
   "id": "c877232c",
   "metadata": {},
   "outputs": [],
   "source": [
    "driver.close()# 브라우저만 종료 "
   ]
  },
  {
   "cell_type": "code",
   "execution_count": 10,
   "id": "507da00b",
   "metadata": {},
   "outputs": [],
   "source": [
    "driver.quit() #브라우저 종료 뿐만이 아니라 리소스 까지 다 종료"
   ]
  },
  {
   "cell_type": "markdown",
   "id": "8693cea4",
   "metadata": {},
   "source": [
    "- 더 자세한 내용은 \n",
    "https://www.selenium.dev/documentation/webdriver/elements/"
   ]
  },
  {
   "cell_type": "code",
   "execution_count": 11,
   "id": "175384f7",
   "metadata": {},
   "outputs": [],
   "source": [
    "driver= webdriver.Chrome()"
   ]
  },
  {
   "cell_type": "code",
   "execution_count": 12,
   "id": "30a395b8",
   "metadata": {},
   "outputs": [],
   "source": [
    "driver.get(\"http://naver.com\")"
   ]
  },
  {
   "cell_type": "code",
   "execution_count": 13,
   "id": "3328ea83",
   "metadata": {},
   "outputs": [],
   "source": [
    "elem=driver.find_element_by_id('query')\n",
    "#  Element를 찾는데 필요한 함수들\n",
    "#driver.find_element_by_id\n",
    "#driver.find_element_by_name\n",
    "#driver.find_element_by_tag_name\n",
    "#driver.find_element_by_xpath\n",
    "#driver.find_element_by_class_name"
   ]
  },
  {
   "cell_type": "code",
   "execution_count": 15,
   "id": "0900aa7c",
   "metadata": {},
   "outputs": [],
   "source": [
    "elem.send_keys(\"파이썬\")"
   ]
  },
  {
   "cell_type": "code",
   "execution_count": 17,
   "id": "dd8317b9",
   "metadata": {},
   "outputs": [],
   "source": [
    "from selenium.webdriver.common.keys import Keys\n",
    "elem.send_keys(Keys.ENTER)"
   ]
  },
  {
   "cell_type": "code",
   "execution_count": 21,
   "id": "76e3533d",
   "metadata": {},
   "outputs": [],
   "source": [
    "options = webdriver.ChromeOptions()\n",
    "options.add_argument('user-agent=Mozilla/5.0 (Windows NT 10.0; Win64; x64) AppleWebKit/537.36 (KHTML, like Gecko) Chrome/106.0.0.0 Safari/537.36')\n",
    "\n",
    "driver= webdriver.Chrome(options=options)\n",
    "\n",
    "driver.get(\"http://naver.com\")\n",
    "driver.find_element_by_xpath('/html/body/div[2]/div[3]/div[3]/div/div[2]/a').click()\n"
   ]
  },
  {
   "cell_type": "code",
   "execution_count": 29,
   "id": "2d320863",
   "metadata": {},
   "outputs": [],
   "source": [
    "driver.find_element_by_xpath('//*[@id=\"id_line\"]').click()\n",
    "driver.find_element_by_id('id').send_keys('1111')\n",
    "time.sleep(2)\n",
    "driver.find_element_by_xpath('//*[@id=\"pw\"]').click()\n",
    "driver.find_element_by_id('pw').send_keys(\"2111\")\n"
   ]
  },
  {
   "cell_type": "code",
   "execution_count": 31,
   "id": "0847cbae",
   "metadata": {},
   "outputs": [],
   "source": [
    "driver.quit()"
   ]
  },
  {
   "cell_type": "markdown",
   "id": "0b011067",
   "metadata": {},
   "source": [
    "# Workshop2 \n",
    "**구글 이미지 검색**"
   ]
  },
  {
   "cell_type": "code",
   "execution_count": 38,
   "id": "95002e7b",
   "metadata": {},
   "outputs": [],
   "source": [
    "import selenium\n",
    "import time\n",
    "from selenium.webdriver.common.keys import Keys\n",
    "driver= webdriver.Chrome()\n",
    "driver.get(\"https://www.google.co.kr/imghp?hl=ko&authuser=0&ogbl\")\n",
    "driver.find_element_by_xpath('/html/body/div[1]/div[3]/form/div[1]/div[1]/div[1]/div/div[2]/input').click()\n",
    "driver.find_element_by_name('q').send_keys(\"딸기\"+Keys.ENTER)\n",
    "\n"
   ]
  },
  {
   "cell_type": "code",
   "execution_count": 39,
   "id": "1b4d7735",
   "metadata": {},
   "outputs": [],
   "source": [
    "# 작은 이미지 클릭\n",
    "image_elem= driver.find_element_by_css_selector('img.rg_i.Q4LuWd')\n",
    "image_elem.click()\n"
   ]
  },
  {
   "cell_type": "code",
   "execution_count": 40,
   "id": "342bcbb5",
   "metadata": {},
   "outputs": [],
   "source": [
    "image_elem= driver.find_element_by_xpath('//*[@id=\"Sva75c\"]/div/div/div[3]/div[2]/c-wiz/div/div[1]/div[1]/div[3]/div/a/img')\n",
    "image_url= image_elem.get_attribute('src')"
   ]
  },
  {
   "cell_type": "code",
   "execution_count": 45,
   "id": "548fe34a",
   "metadata": {},
   "outputs": [],
   "source": [
    "import requests\n",
    "\n",
    "url = \"https://search.daum.net/search?w=tot&q={}%EB%85%84%EC%98%81%ED%99%94%EC%88%9C%EC%9C%84&DA=MOR&rtmaxcoll=MOR\"\n",
    "user_agent = \"Mozilla/5.0 (Windows NT 10.0; Win64; x64) AppleWebKit/537.36 (KHTML, like Gecko) Chrome/106.0.0.0 Safari/537.36 Edg/106.0.1370.47\"\n",
    "\n",
    "headers = {\"User-Agent\" : user_agent}\n",
    "response = requests.get(url, headers)\n",
    "response.raise_for_status()\n",
    "with open('./strawberry/1.jpg', 'wb') as fd:\n",
    "            fd.write(response.content)"
   ]
  },
  {
   "cell_type": "code",
   "execution_count": null,
   "id": "c5c36a47",
   "metadata": {},
   "outputs": [],
   "source": []
  }
 ],
 "metadata": {
  "kernelspec": {
   "display_name": "Python 3",
   "language": "python",
   "name": "python3"
  },
  "language_info": {
   "codemirror_mode": {
    "name": "ipython",
    "version": 3
   },
   "file_extension": ".py",
   "mimetype": "text/x-python",
   "name": "python",
   "nbconvert_exporter": "python",
   "pygments_lexer": "ipython3",
   "version": "3.8.8"
  }
 },
 "nbformat": 4,
 "nbformat_minor": 5
}
