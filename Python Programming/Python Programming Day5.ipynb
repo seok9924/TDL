{
 "cells": [
  {
   "cell_type": "markdown",
   "id": "5e2f1c14",
   "metadata": {},
   "source": [
    "# 위치 인수와 키워드 인수 \n"
   ]
  },
  {
   "cell_type": "code",
   "execution_count": 5,
   "id": "a2e649ab",
   "metadata": {},
   "outputs": [],
   "source": [
    "x=[10,20,30]\n",
    "def print_numbers(a,b,c) :\n",
    "    print(a,b,c)"
   ]
  },
  {
   "cell_type": "code",
   "execution_count": 6,
   "id": "657a7b70",
   "metadata": {},
   "outputs": [
    {
     "name": "stdout",
     "output_type": "stream",
     "text": [
      "10 20 30\n"
     ]
    }
   ],
   "source": [
    "print_numbers(*x) # *는 언패킹한다는 의미 *애스터리스크"
   ]
  },
  {
   "cell_type": "code",
   "execution_count": 8,
   "id": "8ea2b731",
   "metadata": {},
   "outputs": [],
   "source": [
    "# 가변  인수 \n",
    "def print_numbers(*args) : # args는 집합체로 원소의 개수가 가변적임\n",
    "    print(*args)"
   ]
  },
  {
   "cell_type": "code",
   "execution_count": 9,
   "id": "ab4c4b1b",
   "metadata": {},
   "outputs": [
    {
     "name": "stdout",
     "output_type": "stream",
     "text": [
      "10 20 30\n"
     ]
    }
   ],
   "source": [
    "print_numbers(*x)"
   ]
  },
  {
   "cell_type": "code",
   "execution_count": 10,
   "id": "0e493186",
   "metadata": {},
   "outputs": [
    {
     "name": "stdout",
     "output_type": "stream",
     "text": [
      "200 300 400 500\n"
     ]
    }
   ],
   "source": [
    "print_numbers(200,300,400,500)"
   ]
  },
  {
   "cell_type": "code",
   "execution_count": 19,
   "id": "88570154",
   "metadata": {},
   "outputs": [
    {
     "name": "stdout",
     "output_type": "stream",
     "text": [
      "최세현\n",
      "31\n",
      "삼성동\n"
     ]
    }
   ],
   "source": [
    "def personal_info(name,age,address=\"서초동\"):\n",
    "    print(name)\n",
    "    print(age)\n",
    "    print(address)\n",
    "personal_info(\"최세현\",31,\"삼성동\")"
   ]
  },
  {
   "cell_type": "code",
   "execution_count": 20,
   "id": "680bc001",
   "metadata": {},
   "outputs": [
    {
     "name": "stdout",
     "output_type": "stream",
     "text": [
      "31\n",
      "삼성동\n",
      "최세현\n"
     ]
    }
   ],
   "source": [
    "personal_info(address=\"최세현\",name=31,age=\"삼성동\")"
   ]
  },
  {
   "cell_type": "code",
   "execution_count": 25,
   "id": "fd5bd073",
   "metadata": {},
   "outputs": [
    {
     "name": "stdout",
     "output_type": "stream",
     "text": [
      "장경희\n",
      "30\n",
      "서초동\n"
     ]
    }
   ],
   "source": [
    "d1= {'name':'장경희', 'age':30 , 'address': '서초동'}\n",
    "\n",
    "personal_info(**d1) #언패킹 두번했을 경우 값이 출력"
   ]
  },
  {
   "cell_type": "code",
   "execution_count": 32,
   "id": "e30fa123",
   "metadata": {},
   "outputs": [
    {
     "name": "stdout",
     "output_type": "stream",
     "text": [
      "name 장경희\n",
      "age 30\n",
      "address 서초동\n"
     ]
    }
   ],
   "source": [
    "# 키워드 인수를 가변적으로 처리 \n",
    "def personal_info(**kwargs) : #kwargs에는 가변적인 개수의 키와 값의 쌍이 들어간다\n",
    "    for k,v in kwargs.items():\n",
    "        print(k,v)\n",
    "personal_info(**d1)"
   ]
  },
  {
   "cell_type": "code",
   "execution_count": 35,
   "id": "c982badc",
   "metadata": {},
   "outputs": [],
   "source": [
    "def hello(count) :\n",
    "    if count ==0:\n",
    "        return \n",
    "    print(\"hello world\",count)\n",
    "    count-=1\n",
    "    hello(count)"
   ]
  },
  {
   "cell_type": "code",
   "execution_count": 36,
   "id": "f99a4c02",
   "metadata": {},
   "outputs": [
    {
     "name": "stdout",
     "output_type": "stream",
     "text": [
      "hello world 5\n",
      "hello world 4\n",
      "hello world 3\n",
      "hello world 2\n",
      "hello world 1\n"
     ]
    }
   ],
   "source": [
    "hello(5)"
   ]
  },
  {
   "cell_type": "code",
   "execution_count": 39,
   "id": "00270390",
   "metadata": {},
   "outputs": [
    {
     "name": "stdout",
     "output_type": "stream",
     "text": [
      "55\n"
     ]
    }
   ],
   "source": [
    "sum=0\n",
    "for i in range(10,0,-1):\n",
    "    sum+=i\n",
    "print(sum)"
   ]
  },
  {
   "cell_type": "code",
   "execution_count": 45,
   "id": "4ba6ad75",
   "metadata": {},
   "outputs": [
    {
     "name": "stdout",
     "output_type": "stream",
     "text": [
      "55\n"
     ]
    }
   ],
   "source": [
    "sum=0\n",
    "def sumf(count) :\n",
    "    if count ==1:\n",
    "        return 1\n",
    "    return count+sumf(count-1)\n",
    "    \n",
    "print(sumf(10))"
   ]
  },
  {
   "cell_type": "code",
   "execution_count": 46,
   "id": "5e986278",
   "metadata": {},
   "outputs": [
    {
     "name": "stdout",
     "output_type": "stream",
     "text": [
      "120\n"
     ]
    }
   ],
   "source": [
    "def factorial(count) :\n",
    "    if count ==1 :\n",
    "        return 1 \n",
    "    return count*factorial(count-1)\n",
    "print(factorial(5))"
   ]
  },
  {
   "cell_type": "code",
   "execution_count": 51,
   "id": "51077181",
   "metadata": {},
   "outputs": [
    {
     "name": "stdout",
     "output_type": "stream",
     "text": [
      "2 * 9 = 18\n",
      "2 * 8 = 16\n",
      "2 * 7 = 14\n",
      "2 * 6 = 12\n",
      "2 * 5 = 10\n",
      "2 * 4 = 8\n",
      "2 * 3 = 6\n",
      "2 * 2 = 4\n",
      "2 * 1 = 2\n",
      "None\n"
     ]
    }
   ],
   "source": [
    "# 구구단 출력\n",
    "x= 2 \n",
    "def gugu(count) :\n",
    "    if count==0 :\n",
    "        return \n",
    "    print(x,\"*\",count,\"=\",x*count)\n",
    "    count-=1\n",
    "    gugu(count)\n",
    "print(gugu(9))\n"
   ]
  },
  {
   "cell_type": "code",
   "execution_count": 53,
   "id": "e2bfa2ea",
   "metadata": {},
   "outputs": [
    {
     "name": "stdout",
     "output_type": "stream",
     "text": [
      "2-----------단\n",
      "2 * 1 = 2\n",
      "2 * 2 = 4\n",
      "2 * 3 = 6\n",
      "2 * 4 = 8\n",
      "2 * 5 = 10\n",
      "2 * 6 = 12\n",
      "2 * 7 = 14\n",
      "2 * 8 = 16\n",
      "2 * 9 = 18\n",
      "3-----------단\n",
      "3 * 1 = 3\n",
      "3 * 2 = 6\n",
      "3 * 3 = 9\n",
      "3 * 4 = 12\n",
      "3 * 5 = 15\n",
      "3 * 6 = 18\n",
      "3 * 7 = 21\n",
      "3 * 8 = 24\n",
      "3 * 9 = 27\n",
      "4-----------단\n",
      "4 * 1 = 4\n",
      "4 * 2 = 8\n",
      "4 * 3 = 12\n",
      "4 * 4 = 16\n",
      "4 * 5 = 20\n",
      "4 * 6 = 24\n",
      "4 * 7 = 28\n",
      "4 * 8 = 32\n",
      "4 * 9 = 36\n",
      "5-----------단\n",
      "5 * 1 = 5\n",
      "5 * 2 = 10\n",
      "5 * 3 = 15\n",
      "5 * 4 = 20\n",
      "5 * 5 = 25\n",
      "5 * 6 = 30\n",
      "5 * 7 = 35\n",
      "5 * 8 = 40\n",
      "5 * 9 = 45\n",
      "6-----------단\n",
      "6 * 1 = 6\n",
      "6 * 2 = 12\n",
      "6 * 3 = 18\n",
      "6 * 4 = 24\n",
      "6 * 5 = 30\n",
      "6 * 6 = 36\n",
      "6 * 7 = 42\n",
      "6 * 8 = 48\n",
      "6 * 9 = 54\n",
      "7-----------단\n",
      "7 * 1 = 7\n",
      "7 * 2 = 14\n",
      "7 * 3 = 21\n",
      "7 * 4 = 28\n",
      "7 * 5 = 35\n",
      "7 * 6 = 42\n",
      "7 * 7 = 49\n",
      "7 * 8 = 56\n",
      "7 * 9 = 63\n",
      "8-----------단\n",
      "8 * 1 = 8\n",
      "8 * 2 = 16\n",
      "8 * 3 = 24\n",
      "8 * 4 = 32\n",
      "8 * 5 = 40\n",
      "8 * 6 = 48\n",
      "8 * 7 = 56\n",
      "8 * 8 = 64\n",
      "8 * 9 = 72\n",
      "9-----------단\n",
      "9 * 1 = 9\n",
      "9 * 2 = 18\n",
      "9 * 3 = 27\n",
      "9 * 4 = 36\n",
      "9 * 5 = 45\n",
      "9 * 6 = 54\n",
      "9 * 7 = 63\n",
      "9 * 8 = 72\n",
      "9 * 9 = 81\n"
     ]
    }
   ],
   "source": [
    "def gugudan(x,y) :\n",
    "    print(x,\"*\",y,\"=\",x*y)\n",
    "    if y<9:\n",
    "        gugudan(x,y+1)\n",
    "for i in range(2,10) :\n",
    "    print(\"%d-----------단\" %i)\n",
    "    gugudan(i,1)"
   ]
  },
  {
   "cell_type": "markdown",
   "id": "e4e49a15",
   "metadata": {},
   "source": [
    "# 람다 표현식"
   ]
  },
  {
   "cell_type": "code",
   "execution_count": 54,
   "id": "0f399b40",
   "metadata": {},
   "outputs": [
    {
     "data": {
      "text/plain": [
       "12"
      ]
     },
     "execution_count": 54,
     "metadata": {},
     "output_type": "execute_result"
    }
   ],
   "source": [
    "def plus_ten(x) :\n",
    "    return x+10\n",
    "plus_ten(2)"
   ]
  },
  {
   "cell_type": "code",
   "execution_count": 55,
   "id": "461b1250",
   "metadata": {},
   "outputs": [],
   "source": [
    "# lambda 매개변수 : 10\n",
    "plus_ten = lambda x:x+10"
   ]
  },
  {
   "cell_type": "code",
   "execution_count": 56,
   "id": "d4841872",
   "metadata": {},
   "outputs": [
    {
     "data": {
      "text/plain": [
       "12"
      ]
     },
     "execution_count": 56,
     "metadata": {},
     "output_type": "execute_result"
    }
   ],
   "source": [
    "plus_ten(2)"
   ]
  },
  {
   "cell_type": "code",
   "execution_count": 62,
   "id": "7eefa873",
   "metadata": {},
   "outputs": [],
   "source": [
    "a=[1,2,3,4,5,6,7,8,9,10]"
   ]
  },
  {
   "cell_type": "code",
   "execution_count": 59,
   "id": "04abdfad",
   "metadata": {},
   "outputs": [
    {
     "name": "stdout",
     "output_type": "stream",
     "text": [
      "[True]\n"
     ]
    }
   ],
   "source": []
  },
  {
   "cell_type": "code",
   "execution_count": 63,
   "id": "207a117c",
   "metadata": {},
   "outputs": [],
   "source": [
    "myformat= lambda x : str(x) if x%3 ==0 else x"
   ]
  },
  {
   "cell_type": "code",
   "execution_count": 64,
   "id": "5acf6504",
   "metadata": {},
   "outputs": [
    {
     "data": {
      "text/plain": [
       "[1, 2, '3', 4, 5, '6', 7, 8, '9', 10]"
      ]
     },
     "execution_count": 64,
     "metadata": {},
     "output_type": "execute_result"
    }
   ],
   "source": [
    "list(map(myformat,a))"
   ]
  },
  {
   "cell_type": "code",
   "execution_count": 65,
   "id": "6d6c106b",
   "metadata": {},
   "outputs": [],
   "source": [
    "a=[1,2,3,4,5]\n",
    "b=[2,4,6,8,10]\n",
    "mul= lambda x,y :x*y"
   ]
  },
  {
   "cell_type": "code",
   "execution_count": 66,
   "id": "95b83773",
   "metadata": {},
   "outputs": [
    {
     "data": {
      "text/plain": [
       "[2, 8, 18, 32, 50]"
      ]
     },
     "execution_count": 66,
     "metadata": {},
     "output_type": "execute_result"
    }
   ],
   "source": [
    "list(map(mul,a,b))"
   ]
  },
  {
   "cell_type": "markdown",
   "id": "1e287d7c",
   "metadata": {},
   "source": [
    "- map(함수, 반복가능한 객체) : 반복 가능한 객체에 함수를 일괄 적용\n",
    "- filter(함수, 반복 가능한 객체) : 반복 가능한 객체에 함수에서 출력하는 조건에 맞는것만 가져옴"
   ]
  },
  {
   "cell_type": "code",
   "execution_count": 67,
   "id": "748153ac",
   "metadata": {},
   "outputs": [],
   "source": [
    "def f(x):\n",
    "    return 5<x<10"
   ]
  },
  {
   "cell_type": "code",
   "execution_count": 68,
   "id": "d80c1c99",
   "metadata": {},
   "outputs": [
    {
     "data": {
      "text/plain": [
       "[6, 7, 8, 9]"
      ]
     },
     "execution_count": 68,
     "metadata": {},
     "output_type": "execute_result"
    }
   ],
   "source": [
    "a= [x for x in range(1,15)]\n",
    "list(filter(f,a))"
   ]
  },
  {
   "cell_type": "markdown",
   "id": "fa1fbeae",
   "metadata": {},
   "source": [
    "**거리계산**\n",
    "- 리스트를 이용하여 점 사이의 거리를 계산 해 보자.\n",
    "- 직교 좌표 위에서 A는 (1, 1), B는 (3, 2), C는 (5,7)일 때 X(2, 3)와  A/B/C와의 거리를 각각 구하여라.\n",
    "- 위 코드블럭을 이용하여 distMeasure 함수를 정의하라."
   ]
  },
  {
   "cell_type": "code",
   "execution_count": 69,
   "id": "5830ac58",
   "metadata": {},
   "outputs": [],
   "source": [
    "points=[(1,1),(3,2),(5,7),]\n",
    "X=(2,3)\n",
    "def distMeasuer(x1,y1,x2,y2) :\n",
    "    a=x1-x2\n",
    "    b=y1-y2\n",
    "    return (a**2+b**2)**(1/2)\n"
   ]
  },
  {
   "cell_type": "code",
   "execution_count": 81,
   "id": "224ef6bd",
   "metadata": {},
   "outputs": [
    {
     "name": "stdout",
     "output_type": "stream",
     "text": [
      "2.24\n",
      "1.41\n",
      "5.0\n"
     ]
    }
   ],
   "source": [
    "points=[(1,1),(3,2),(5,7),]\n",
    "\n",
    "X=(2,3)\n",
    "def distMeasuer(X,*points) :\n",
    "    x1=X[0]\n",
    "    y1=X[1]\n",
    "    for x2,y2 in points :\n",
    "        a=x1-x2\n",
    "        b=y1-y2 \n",
    "        print(round((a**2+b**2)**(1/2),2))\n",
    "\n",
    "    \n",
    " #   return (a**2+b**2)**(1/2)\n",
    "distMeasuer(X,*points)"
   ]
  },
  {
   "cell_type": "code",
   "execution_count": 82,
   "id": "33997688",
   "metadata": {},
   "outputs": [
    {
     "data": {
      "text/plain": [
       "[2.23606797749979, 1.4142135623730951, 5.0]"
      ]
     },
     "execution_count": 82,
     "metadata": {},
     "output_type": "execute_result"
    }
   ],
   "source": [
    "points=[(1,1),(3,2),(5,7),]\n",
    "X=(2,3)\n",
    "\n",
    "def distMeasure_1p(point) :\n",
    "    dist=((point[0]-X[0])**2+(point[1]-X[1])**2)**(1/2)\n",
    "    return dist\n",
    "\n",
    "list(map(distMeasure_1p,points))\n",
    "    \n",
    "    "
   ]
  },
  {
   "cell_type": "markdown",
   "id": "9e6ed7d1",
   "metadata": {},
   "source": [
    "**이미지 파일만 가져오기**\n",
    "- 다음 소스 코드를 완성하여 확장자가 .jpg, .png인 이미지 파일만 출력되게 만드세요. 여기서는 람다 표현식을 사용해야 하며 출력 결과는 리스트 형태라야 합니다. 람다 표현식에서 확장자를 검사할 때는 문자열 메서드를 활용하세요.\n",
    "```\n",
    "files = ['font', '1.png', '10.jpg', '11.gif', '2.jpg', '3.png', 'table.xslx', 'spec.docx']\n",
    "실행결과\n",
    "['1.png', '10.jpg', '2.jpg', '3.png']\n",
    "```\n"
   ]
  },
  {
   "cell_type": "code",
   "execution_count": 124,
   "id": "707a9384",
   "metadata": {},
   "outputs": [],
   "source": [
    "files = ['font', '1.png', '10.jpg', '11.gif', '2.jpg', '3.png', 'table.xslx', 'spec.docx']\n",
    "def files2(file):\n",
    "    if ('jpg' in file )or('png'in file) :\n",
    "        return file #filter 일때는 True 일때만 제출함 \n",
    "    "
   ]
  },
  {
   "cell_type": "code",
   "execution_count": null,
   "id": "d009c8e5",
   "metadata": {},
   "outputs": [],
   "source": [
    "files = ['font', '1.png', '10.jpg', '11.gif', '2.jpg', '3.png', 'table.xslx', 'spec.docx']\n",
    "def files2(file):\n",
    "    if file.find('.jpg') != -1 or file.find('.png')!=-1 :\n",
    "        return True #filter 일때는 True 일때만 제출함 \n",
    "    "
   ]
  },
  {
   "cell_type": "code",
   "execution_count": 126,
   "id": "5863e8fb",
   "metadata": {},
   "outputs": [
    {
     "data": {
      "text/plain": [
       "['1.png', '10.jpg', '2.jpg', '3.png']"
      ]
     },
     "execution_count": 126,
     "metadata": {},
     "output_type": "execute_result"
    }
   ],
   "source": [
    "list(filter(files2,files))"
   ]
  },
  {
   "cell_type": "code",
   "execution_count": 133,
   "id": "f7fde256",
   "metadata": {},
   "outputs": [
    {
     "ename": "SyntaxError",
     "evalue": "invalid syntax (<ipython-input-133-68159c0aabdb>, line 1)",
     "output_type": "error",
     "traceback": [
      "\u001b[1;36m  File \u001b[1;32m\"<ipython-input-133-68159c0aabdb>\"\u001b[1;36m, line \u001b[1;32m1\u001b[0m\n\u001b[1;33m    list(filter(lambda x : x if ('jpg' in x )or('png'in x) else  ,files))\u001b[0m\n\u001b[1;37m                                                                 ^\u001b[0m\n\u001b[1;31mSyntaxError\u001b[0m\u001b[1;31m:\u001b[0m invalid syntax\n"
     ]
    }
   ],
   "source": [
    "list(filter(lambda x : x if ('jpg' in x )or('png'in x) else  ,files))"
   ]
  },
  {
   "cell_type": "code",
   "execution_count": 147,
   "id": "b7ca3d3c",
   "metadata": {},
   "outputs": [
    {
     "data": {
      "text/plain": [
       "['1.png', '10.jpg', '2.jpg', '3.png']"
      ]
     },
     "execution_count": 147,
     "metadata": {},
     "output_type": "execute_result"
    }
   ],
   "source": [
    "filter_exam=lambda file : file.find('.jpg') != -1 or file.find('.png')!=-1 \n",
    "list(filter(filter_exam,files))"
   ]
  },
  {
   "cell_type": "markdown",
   "id": "428f8a57",
   "metadata": {},
   "source": [
    "**파일 이름을 한꺼번에 바꾸기**\n",
    "- 표준 입력으로 숫자.확장자 형식으로 된 파일 이름 여러 개가 입력됩니다. 파일 이름이 숫자 3개이면서 앞에 0이 들어가는 형식으로 출력되게 만드세요. 예를 들어 1.png는 001.png, 99.docx는 099.docx, 100.xlsx는 100.xlsx처럼 출력되어야 합니다. 그리고 람다 표현식을 사용해야 하며 출력 결과는 리스트 형태라야 합니다. 람다 표현식에서 파일명을 처리할 때는 문자열 포매팅과 문자열 메서드를 활용하세요.\n",
    "```\n",
    "입력 예\n",
    "1.jpg 10.png 11.png 2.jpg 3.png\n",
    "결과\n",
    "['001.jpg', '010.png', '011.png', '002.jpg', '003.png']\n",
    "입력 예\n",
    "97.xlsx 98.docx 99.docx 100.xlsx 101.docx 102.docx\n",
    "결과\n",
    "['097.xlsx', '098.docx', '099.docx', '100.xlsx', '101.docx', '102.docx']"
   ]
  },
  {
   "cell_type": "code",
   "execution_count": 151,
   "id": "e64cf524",
   "metadata": {},
   "outputs": [],
   "source": [
    "fjpg=['1.jpg', '10.png', '11.png', '2.jpg', '3.png']\n",
    "name=[]\n",
    "ext=[]\n",
    "for i in fjpg :\n",
    "    k,s= i.split('.')\n",
    "    name.append(int(k))\n",
    "    ext.append(s)\n"
   ]
  },
  {
   "cell_type": "code",
   "execution_count": 149,
   "id": "6ad6fabf",
   "metadata": {},
   "outputs": [
    {
     "ename": "SyntaxError",
     "evalue": "invalid syntax (<ipython-input-149-dc613e1a2a22>, line 1)",
     "output_type": "error",
     "traceback": [
      "\u001b[1;36m  File \u001b[1;32m\"<ipython-input-149-dc613e1a2a22>\"\u001b[1;36m, line \u001b[1;32m1\u001b[0m\n\u001b[1;33m    list(map(lambda x: k,s=x.split('.')'{0:03d}'.format(int(k))+'.'+s,),fjpg)\u001b[0m\n\u001b[1;37m                                       ^\u001b[0m\n\u001b[1;31mSyntaxError\u001b[0m\u001b[1;31m:\u001b[0m invalid syntax\n"
     ]
    }
   ],
   "source": [
    "names=[]\n",
    "exts=[]\n",
    "def spli"
   ]
  },
  {
   "cell_type": "code",
   "execution_count": 152,
   "id": "d04a5d76",
   "metadata": {},
   "outputs": [
    {
     "data": {
      "text/plain": [
       "['001,jpg', '010,png', '011,png', '002,jpg', '003,png']"
      ]
     },
     "execution_count": 152,
     "metadata": {},
     "output_type": "execute_result"
    }
   ],
   "source": [
    "list(map(lambda name, ext: \"{:03d},{}\".format(name,ext),name,ext )) #name 과 익스텐션을 나눠주면 됨"
   ]
  },
  {
   "cell_type": "markdown",
   "id": "f431446e",
   "metadata": {},
   "source": [
    "# 변수의 사용 범위\n"
   ]
  },
  {
   "cell_type": "code",
   "execution_count": 153,
   "id": "c66831dc",
   "metadata": {},
   "outputs": [
    {
     "name": "stdout",
     "output_type": "stream",
     "text": [
      "foo() 10\n",
      "main() 10\n"
     ]
    }
   ],
   "source": [
    "x= 10 \n",
    "def foo():\n",
    "    print(\"foo()\",x)\n",
    "foo()\n",
    "print(\"main()\",x)"
   ]
  },
  {
   "cell_type": "code",
   "execution_count": 154,
   "id": "5ed4ad66",
   "metadata": {},
   "outputs": [
    {
     "name": "stdout",
     "output_type": "stream",
     "text": [
      "foo() 20\n",
      "main() 20\n"
     ]
    }
   ],
   "source": [
    "x= 10 #전역변수 \n",
    "def foo():\n",
    "    global x\n",
    "    x=20\n",
    "    print(\"foo()\",x)\n",
    "foo()\n",
    "print(\"main()\",x)"
   ]
  },
  {
   "cell_type": "markdown",
   "id": "c53635b2",
   "metadata": {},
   "source": [
    "# 클래스\n",
    "\n",
    "class 클래스이름:\n",
    "    def 메서드(self):\n",
    "        코드\n",
    "    "
   ]
  },
  {
   "cell_type": "code",
   "execution_count": 162,
   "id": "749e7cac",
   "metadata": {},
   "outputs": [],
   "source": [
    "class Person:\n",
    "    def greeting(self):\n",
    "        print(\"hello\")"
   ]
  },
  {
   "cell_type": "code",
   "execution_count": 163,
   "id": "888ae5a3",
   "metadata": {},
   "outputs": [],
   "source": [
    "james= Person()\n",
    "mary=Person()\n"
   ]
  },
  {
   "cell_type": "code",
   "execution_count": 165,
   "id": "ce04d9de",
   "metadata": {},
   "outputs": [
    {
     "name": "stdout",
     "output_type": "stream",
     "text": [
      "hello\n"
     ]
    }
   ],
   "source": [
    "james.greeting()\n"
   ]
  },
  {
   "cell_type": "code",
   "execution_count": 166,
   "id": "7a72f00b",
   "metadata": {},
   "outputs": [],
   "source": [
    "class Person :\n",
    "    def __init__(self):\n",
    "        self.hello= '안녕하세요' #속성\n",
    "    def greeting(self):\n",
    "        print(self.hello)"
   ]
  },
  {
   "cell_type": "code",
   "execution_count": 167,
   "id": "fa72293c",
   "metadata": {},
   "outputs": [
    {
     "name": "stdout",
     "output_type": "stream",
     "text": [
      "안녕하세요\n"
     ]
    }
   ],
   "source": [
    "james= Person()\n",
    "mary=Person()\n",
    "james.greeting()"
   ]
  },
  {
   "attachments": {
    "image.png": {
     "image/png": "[encoded data removed]"
    }
   },
   "cell_type": "markdown",
   "id": "8424e17b",
   "metadata": {},
   "source": [
    "![image.png](attachment:image.png)"
   ]
  },
  {
   "cell_type": "markdown",
   "id": "c608bf73",
   "metadata": {},
   "source": [
    "---\n",
    "\n",
    "class 클래스이름:\n",
    "    def__init__(self, 매개변수1,매개변수2,.....):\n",
    "    self.속성1=매개변수\n",
    "    self.속정2=매개변수\n",
    "    "
   ]
  },
  {
   "cell_type": "markdown",
   "id": "f1e1284d",
   "metadata": {},
   "source": [
    "- 클래스 속성: 모든 인스턴스들이 공유 인스턴스 전체가 사용해야 하는 값을 저장할 경우에 사용\n",
    "- 인스턴스 속성: 인스턴스별로 독립되어 있음. 각 인스턴스 값을 따로 저장할 때 사용 "
   ]
  },
  {
   "cell_type": "code",
   "execution_count": 171,
   "id": "2f00221e",
   "metadata": {},
   "outputs": [],
   "source": [
    "class Person:\n",
    "    def __init__(self,hello_msg,name,age,address):\n",
    "        self.hello=hello_msg\n",
    "        self.name=name\n",
    "        self.age=age\n",
    "        self.address=address\n",
    "        \n",
    "    def greeting(self):\n",
    "        print(\"{} 저는{}입니다 나이는{}입니다 {}에 삽니다\".format(self.hello,self.name,self.age,self.address))"
   ]
  },
  {
   "cell_type": "code",
   "execution_count": 173,
   "id": "8f7fa9cf",
   "metadata": {},
   "outputs": [
    {
     "name": "stdout",
     "output_type": "stream",
     "text": [
      "시발 저는기절입니다 나이는19입니다 삼성동에 삽니다\n"
     ]
    }
   ],
   "source": [
    "james=Person(\"시발\",\"기절\",19,\"삼성동\")\n",
    "james.greeting()"
   ]
  },
  {
   "cell_type": "code",
   "execution_count": 194,
   "id": "ef482b9f",
   "metadata": {},
   "outputs": [],
   "source": [
    "class Person:\n",
    "    def __init__(self,hello_msg,name,age,address,wallet):\n",
    "        self.hello=hello_msg\n",
    "        self.name=name\n",
    "        self.age=age\n",
    "        self.address=address\n",
    "        self.__wallet=wallet #비공개 속성\n",
    "        \n",
    "    def greeting(self):\n",
    "        print(\"{} 저는{}입니다 나이는{}입니다 {}에 삽니다\".format(self.hello,self.name,self.age,self.address))\n",
    "    def pay(self,amount) :\n",
    "        self.__wallet=self.__wallet-amount\n",
    "        print(\"지값에{}원 남았습니다\".format(self.__wallet))"
   ]
  },
  {
   "cell_type": "code",
   "execution_count": 195,
   "id": "5cb44762",
   "metadata": {},
   "outputs": [],
   "source": [
    "selly=Person(\"안녕하세요\",\"셀리\",21,\"십섬동\",10000)"
   ]
  },
  {
   "cell_type": "code",
   "execution_count": 196,
   "id": "00c4edbb",
   "metadata": {},
   "outputs": [
    {
     "name": "stdout",
     "output_type": "stream",
     "text": [
      "안녕하세요 저는셀리입니다 나이는21입니다 십섬동에 삽니다\n"
     ]
    }
   ],
   "source": [
    "selly.greeting()"
   ]
  },
  {
   "cell_type": "code",
   "execution_count": 197,
   "id": "bc204efe",
   "metadata": {},
   "outputs": [
    {
     "name": "stdout",
     "output_type": "stream",
     "text": [
      "지값에8000원 남았습니다\n"
     ]
    }
   ],
   "source": [
    "selly.pay(2000)"
   ]
  },
  {
   "cell_type": "code",
   "execution_count": 198,
   "id": "c2b1907b",
   "metadata": {},
   "outputs": [],
   "source": [
    "class Person:\n",
    "    bag=[]\n",
    "    def put_bag(self,stuff):\n",
    "        Person.bag.append(stuff)"
   ]
  },
  {
   "cell_type": "code",
   "execution_count": 199,
   "id": "b98031aa",
   "metadata": {},
   "outputs": [],
   "source": [
    "james=Person()"
   ]
  },
  {
   "cell_type": "code",
   "execution_count": 200,
   "id": "5f9cc6f7",
   "metadata": {},
   "outputs": [],
   "source": [
    "james.put_bag(\"책\")"
   ]
  },
  {
   "cell_type": "code",
   "execution_count": 201,
   "id": "948d8e26",
   "metadata": {},
   "outputs": [
    {
     "data": {
      "text/plain": [
       "['책']"
      ]
     },
     "execution_count": 201,
     "metadata": {},
     "output_type": "execute_result"
    }
   ],
   "source": [
    "james.bag"
   ]
  },
  {
   "cell_type": "code",
   "execution_count": 203,
   "id": "a56f882b",
   "metadata": {},
   "outputs": [],
   "source": [
    "maria=Person()\n",
    "maria.put_bag(\"열쇠\")"
   ]
  },
  {
   "cell_type": "code",
   "execution_count": 204,
   "id": "92ac8e6f",
   "metadata": {},
   "outputs": [
    {
     "data": {
      "text/plain": [
       "['책', '열쇠']"
      ]
     },
     "execution_count": 204,
     "metadata": {},
     "output_type": "execute_result"
    }
   ],
   "source": [
    "maria.bag"
   ]
  },
  {
   "cell_type": "code",
   "execution_count": 205,
   "id": "8ab8afc7",
   "metadata": {},
   "outputs": [],
   "source": [
    "class Person:\n",
    "    def __init__(self):\n",
    "        self.bag=[]\n",
    "    def put_bag(self,stuff):\n",
    "        self.bag.append(stuff)"
   ]
  },
  {
   "cell_type": "code",
   "execution_count": 206,
   "id": "bf595a2d",
   "metadata": {},
   "outputs": [],
   "source": [
    "maria=Person()\n",
    "maria.put_bag(\"열쇠\")"
   ]
  },
  {
   "cell_type": "code",
   "execution_count": 207,
   "id": "a3221358",
   "metadata": {},
   "outputs": [],
   "source": [
    "james=Person()\n",
    "james.put_bag(\"책\")"
   ]
  },
  {
   "cell_type": "code",
   "execution_count": 210,
   "id": "11e63c05",
   "metadata": {},
   "outputs": [
    {
     "data": {
      "text/plain": [
       "['열쇠']"
      ]
     },
     "execution_count": 210,
     "metadata": {},
     "output_type": "execute_result"
    }
   ],
   "source": [
    "james.bag\n",
    "maria.bag"
   ]
  },
  {
   "cell_type": "markdown",
   "id": "eddd2970",
   "metadata": {},
   "source": [
    "# 클래스 상속 사용하기\n",
    "- class 기반 클래스 이름:\n",
    "   - 코드\n",
    "- class 파생 클래스이름(기반클래스)    "
   ]
  },
  {
   "cell_type": "code",
   "execution_count": 222,
   "id": "8c41eac3",
   "metadata": {},
   "outputs": [],
   "source": [
    "class Person:\n",
    "    def __init__(self):\n",
    "        print(\"Person Initialized\")\n",
    "    def greeting(self):\n",
    "        print(\"안녕하세요\")"
   ]
  },
  {
   "cell_type": "code",
   "execution_count": 223,
   "id": "a7665836",
   "metadata": {},
   "outputs": [],
   "source": [
    "class Student(Person):\n",
    "    def __init__(self):\n",
    "        print(\"Student Initialized\")\n",
    "    def study(self):\n",
    "        print(\"공부중입니다\")"
   ]
  },
  {
   "cell_type": "code",
   "execution_count": 224,
   "id": "39967625",
   "metadata": {},
   "outputs": [
    {
     "name": "stdout",
     "output_type": "stream",
     "text": [
      "Student Initialized\n",
      "안녕하세요\n",
      "공부중입니다\n"
     ]
    }
   ],
   "source": [
    "james= Student()   #자식 클래스에 __init가 정의되어 있지 않다면 부모 클래스 __init 를 사용\n",
    "james.greeting()\n",
    "james.study()"
   ]
  },
  {
   "cell_type": "code",
   "execution_count": 227,
   "id": "8236e15f",
   "metadata": {},
   "outputs": [
    {
     "name": "stdout",
     "output_type": "stream",
     "text": [
      "Person Initialized\n",
      "Student Initialized\n",
      "안녕하세요\n"
     ]
    }
   ],
   "source": [
    "class Person:\n",
    "    def __init__(self):\n",
    "        print(\"Person Initialized\")\n",
    "        self.hello=\"안녕하세요\"\n",
    "    def greeting(self):\n",
    "        print(self.hello)\n",
    "        \n",
    "class Student(Person):\n",
    "    def __init__(self):\n",
    "        super().__init__()#부모 클래스의 __init을 강제로 호출\n",
    "        print(\"Student Initialized\")\n",
    "    def study(self):\n",
    "        print(\"공부중입니다\")\n",
    "james=Student()\n",
    "james.greeting()"
   ]
  },
  {
   "cell_type": "markdown",
   "id": "41ed4e58",
   "metadata": {},
   "source": [
    "**메소드 오버라이딩**"
   ]
  },
  {
   "cell_type": "code",
   "execution_count": 228,
   "id": "50f17286",
   "metadata": {},
   "outputs": [],
   "source": [
    "class Person:\n",
    "    def greeting(self):\n",
    "        print(\"안녕하세요\")\n",
    "class Student(Person) :\n",
    "    def greeting(self):\n",
    "        print(\"안녕하세요 저는 인공지능 과정 25기 학생입니다.\")"
   ]
  },
  {
   "cell_type": "code",
   "execution_count": 229,
   "id": "5d21e7e6",
   "metadata": {},
   "outputs": [
    {
     "name": "stdout",
     "output_type": "stream",
     "text": [
      "안녕하세요 저는 인공지능 과정 25기 학생입니다.\n"
     ]
    }
   ],
   "source": [
    "james=Student()\n",
    "james.greeting()"
   ]
  },
  {
   "cell_type": "code",
   "execution_count": 231,
   "id": "6e094049",
   "metadata": {},
   "outputs": [],
   "source": [
    "class Person:\n",
    "    def greeting(self):\n",
    "        print(\"안녕하세요\")\n",
    "class Student(Person) :\n",
    "    def greeting(self):\n",
    "        super().greeting()\n",
    "        print(\"저는 인공지능 과정 25기 학생입니다.\")"
   ]
  },
  {
   "cell_type": "code",
   "execution_count": 232,
   "id": "1bd8f9ec",
   "metadata": {},
   "outputs": [
    {
     "name": "stdout",
     "output_type": "stream",
     "text": [
      "안녕하세요\n",
      "안녕하세요 저는 인공지능 과정 25기 학생입니다.\n"
     ]
    }
   ],
   "source": [
    "james=Student()\n",
    "james.greeting()"
   ]
  },
  {
   "cell_type": "markdown",
   "id": "83447062",
   "metadata": {},
   "source": [
    "# 다중 상속 사용하기\n",
    "class 기반클래스 1\n",
    "코드 \n",
    "class 기반클래스2\n",
    "코드\n",
    "class 파생클라스 (기반클래스1,기반클래스2)\n",
    "ㅊ코드"
   ]
  },
  {
   "cell_type": "code",
   "execution_count": 233,
   "id": "14e79d61",
   "metadata": {},
   "outputs": [],
   "source": [
    "class Person:\n",
    "    def greeting(self):\n",
    "        print(\"안녕하세요\")\n",
    "class University: \n",
    "    def manage_credit(self):\n",
    "        print(\"학점관리\")\n",
    "class Undergraduated(Person,University):\n",
    "    def study(self):\n",
    "        print(\"공부하기\")"
   ]
  },
  {
   "cell_type": "code",
   "execution_count": 234,
   "id": "e6ceef74",
   "metadata": {},
   "outputs": [
    {
     "name": "stdout",
     "output_type": "stream",
     "text": [
      "공부하기\n",
      "학점관리\n",
      "안녕하세요\n"
     ]
    }
   ],
   "source": [
    "james=Undergraduated()\n",
    "james.study()\n",
    "james.manage_credit()\n",
    "james.greeting()"
   ]
  },
  {
   "cell_type": "markdown",
   "id": "4f9a55ac",
   "metadata": {},
   "source": [
    "**추상클래스**"
   ]
  },
  {
   "cell_type": "code",
   "execution_count": 235,
   "id": "c66223ed",
   "metadata": {},
   "outputs": [],
   "source": [
    "from abc import *"
   ]
  },
  {
   "cell_type": "markdown",
   "id": "894cb96c",
   "metadata": {},
   "source": [
    "class 추상클래스(metaclass=ABCMeta):\n",
    "    @abstractclassmethod\n",
    "    def 메서드이름(self):\n",
    "        코드"
   ]
  },
  {
   "cell_type": "code",
   "execution_count": 236,
   "id": "5bee9748",
   "metadata": {},
   "outputs": [],
   "source": [
    "class StudentBase(metaclass=ABCMeta):\n",
    "    @abstractclassmethod\n",
    "    def study(self):\n",
    "        pass\n",
    "    \n",
    "    @abstractclassmethod\n",
    "    def gotoschool(self):\n",
    "        pass"
   ]
  },
  {
   "cell_type": "code",
   "execution_count": 237,
   "id": "9d77ffce",
   "metadata": {},
   "outputs": [],
   "source": [
    "class Student(StudentBase):\n",
    "    def __init__(self):\n",
    "        super().__init__()\n",
    "        \n",
    "    def study(self):\n",
    "        print(\"공부하기\")\n",
    "\n",
    "    def gotoschool(self):\n",
    "        print(\"학교가기\")"
   ]
  },
  {
   "cell_type": "code",
   "execution_count": 238,
   "id": "e5ffeaf9",
   "metadata": {},
   "outputs": [],
   "source": [
    "james=Student()"
   ]
  },
  {
   "cell_type": "code",
   "execution_count": 240,
   "id": "2cca8c73",
   "metadata": {},
   "outputs": [
    {
     "name": "stdout",
     "output_type": "stream",
     "text": [
      "학교가기\n",
      "공부하기\n"
     ]
    }
   ],
   "source": [
    "james.gotoschool()\n",
    "james.study()"
   ]
  },
  {
   "cell_type": "markdown",
   "id": "bcd3d936",
   "metadata": {},
   "source": [
    "**리스트에 기능 추가하기**\n",
    "- 아래 예시와 같이 리스트(list)에 replace 메서드를 추가한 AdvancedList 클래스를 작성하세요. AdvancedList는 list를 상속받아서 만들고, replace 메서드는 리스트에서 특정 값으로 된 요소를 찾아서 다른 값으로 바꾸도록 만드세요.\n",
    "```\n",
    "x = AdvancedList([1, 2, 3, 1, 2, 3, 1, 2, 3])\n",
    "x.replace(1, 100)\n",
    "print(x)\n",
    "결과\n",
    "[100, 2, 3, 100, 2, 3, 100, 2, 3]\n",
    "```"
   ]
  },
  {
   "cell_type": "code",
   "execution_count": 270,
   "id": "b238c690",
   "metadata": {},
   "outputs": [],
   "source": [
    "class AdvancedList(list):\n",
    "    def replace(self,get,change) : #self : list형의 데이터(예: )\n",
    "         for idx,v in enumerate(self) :\n",
    "            if v==get :\n",
    "                self[idx]=change\n",
    "        "
   ]
  },
  {
   "cell_type": "code",
   "execution_count": 281,
   "id": "c6c76c49",
   "metadata": {},
   "outputs": [],
   "source": [
    "class AdvancedList(list):\n",
    "    def replace(self,get,change) : #self : list형의 데이터(예: )\n",
    "        while get in self :\n",
    "            idx=self.index(get)\n",
    "            self[idx]=change\n",
    "        "
   ]
  },
  {
   "cell_type": "code",
   "execution_count": 282,
   "id": "ef7e5ff8",
   "metadata": {},
   "outputs": [],
   "source": [
    "x=AdvancedList([1, 2, 3, 1, 2, 3, 1, 2, 3])"
   ]
  },
  {
   "cell_type": "code",
   "execution_count": 283,
   "id": "715f0961",
   "metadata": {},
   "outputs": [
    {
     "name": "stdout",
     "output_type": "stream",
     "text": [
      "[100, 2, 3, 100, 2, 3, 100, 2, 3]\n"
     ]
    }
   ],
   "source": [
    "x.replace(1, 100)\n",
    "print(x)"
   ]
  },
  {
   "cell_type": "code",
   "execution_count": 251,
   "id": "ca54dac6",
   "metadata": {},
   "outputs": [
    {
     "data": {
      "text/plain": [
       "'3.png'"
      ]
     },
     "execution_count": 251,
     "metadata": {},
     "output_type": "execute_result"
    }
   ],
   "source": [
    "i"
   ]
  },
  {
   "cell_type": "code",
   "execution_count": null,
   "id": "69d2cd97",
   "metadata": {},
   "outputs": [],
   "source": []
  }
 ],
 "metadata": {
  "kernelspec": {
   "display_name": "Python 3",
   "language": "python",
   "name": "python3"
  },
  "language_info": {
   "codemirror_mode": {
    "name": "ipython",
    "version": 3
   },
   "file_extension": ".py",
   "mimetype": "text/x-python",
   "name": "python",
   "nbconvert_exporter": "python",
   "pygments_lexer": "ipython3",
   "version": "3.8.8"
  }
 },
 "nbformat": 4,
 "nbformat_minor": 5
}
