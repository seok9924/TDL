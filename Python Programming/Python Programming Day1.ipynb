{
 "cells": [
  {
   "cell_type": "markdown",
   "id": "de51e6a6",
   "metadata": {},
   "source": [
    "# 많이 사용하는 단축키\n",
    "- escape 키를 누르고 m 마크다운 y 코드\n",
    "- shift+enter : 실행하고 밑에 셀 없으면 추가 \n",
    "- alt + enter : 실행하고 셀 무조건 추가\n",
    "- a 위로 셀 추가\n",
    "- b 아래 셀 추가 \n",
    "- x 셀 제거 \n",
    "- dd 셀 제거 \n",
    "- ctrl+shift+ - : 커서가 위치한 곳에서 셀 나뉨\n",
    "- shift+ m 선택한 셀들 병합\n",
    "- esc : 에디터 모드 셀포커스 모드 전환\n"
   ]
  },
  {
   "cell_type": "markdown",
   "id": "d9290350",
   "metadata": {
    "scrolled": true
   },
   "source": [
    "# Python Code 실행하기\n",
    "## Python Code 실행하기\n",
    "### Python Code 실행하기\n",
    "#### Python Code 실행하기\n",
    "##### Python Code 실행하기\n",
    "###### Python Code 실행하기\n",
    "####### Python Code 실행하기\n"
   ]
  },
  {
   "cell_type": "markdown",
   "id": "300f4fc0",
   "metadata": {},
   "source": [
    "**프로그램 실행 방법**"
   ]
  },
  {
   "cell_type": "code",
   "execution_count": null,
   "id": "a5547acb",
   "metadata": {},
   "outputs": [],
   "source": [
    "print(\"Hello World\") #shift+ Enter 실행시키는 단축키"
   ]
  },
  {
   "cell_type": "markdown",
   "id": "251624a8",
   "metadata": {},
   "source": [
    "**프로그램 실행 방법 option2**"
   ]
  },
  {
   "cell_type": "code",
   "execution_count": 7,
   "id": "a45a1dd1",
   "metadata": {},
   "outputs": [
    {
     "name": "stdout",
     "output_type": "stream",
     "text": [
      "hello world\n"
     ]
    }
   ],
   "source": [
    "%run \"hello.py\" #run 이란 매직명령어로 파이썬 스크립트 실행"
   ]
  },
  {
   "attachments": {
    "image.png": {
     "image/png": "[encoded data removed]"
    }
   },
   "cell_type": "markdown",
   "id": "f225d007",
   "metadata": {},
   "source": [
    "# 프로그램 실행방법 option3\n",
    "![image.png](attachment:image.png)"
   ]
  },
  {
   "cell_type": "code",
   "execution_count": null,
   "id": "3a21f1fe",
   "metadata": {},
   "outputs": [],
   "source": [
    "#cmd ckd anaconda prompt \n",
    "#python hello.py"
   ]
  },
  {
   "cell_type": "code",
   "execution_count": 8,
   "id": "2d2eb637",
   "metadata": {},
   "outputs": [
    {
     "data": {
      "text/plain": [
       "'C:\\\\Users\\\\choi\\\\Documents\\\\인공지능25기\\\\Python Programming'"
      ]
     },
     "execution_count": 8,
     "metadata": {},
     "output_type": "execute_result"
    }
   ],
   "source": [
    "%pwd"
   ]
  },
  {
   "cell_type": "markdown",
   "id": "bb503aa1",
   "metadata": {},
   "source": [
    "# MarkDown language \n",
    "\n",
    "[MarkDown Cheetseat](https://www.markdownguide.org/cheat-sheet/)"
   ]
  },
  {
   "cell_type": "markdown",
   "id": "f4bb110d",
   "metadata": {},
   "source": [
    "![Python logo](\"Python-logo-notext.jpg\")"
   ]
  },
  {
   "cell_type": "code",
   "execution_count": 11,
   "id": "0078908d",
   "metadata": {},
   "outputs": [
    {
     "data": {
      "image/jpeg": "[encoded data removed]",
      "text/plain": [
       "<IPython.core.display.Image object>"
      ]
     },
     "execution_count": 11,
     "metadata": {
      "image/jpeg": {
       "width": 100
      }
     },
     "output_type": "execute_result"
    }
   ],
   "source": [
    "from IPython.display import Image\n",
    "Image(\"Python-logo-notext.jpg\",width=100)\n"
   ]
  },
  {
   "cell_type": "markdown",
   "id": "66063648",
   "metadata": {},
   "source": [
    "# 탭 완성기능"
   ]
  },
  {
   "cell_type": "code",
   "execution_count": 19,
   "id": "c90025c5",
   "metadata": {},
   "outputs": [],
   "source": [
    "an_apple = \"apple\""
   ]
  },
  {
   "cell_type": "code",
   "execution_count": 23,
   "id": "42a03416",
   "metadata": {},
   "outputs": [
    {
     "name": "stdout",
     "output_type": "stream",
     "text": [
      "apple\n"
     ]
    },
    {
     "data": {
      "text/plain": [
       "(None, str)"
      ]
     },
     "execution_count": 23,
     "metadata": {},
     "output_type": "execute_result"
    }
   ],
   "source": [
    "print(an_apple),type(an_apple)"
   ]
  },
  {
   "cell_type": "code",
   "execution_count": 25,
   "id": "f03c8c42",
   "metadata": {},
   "outputs": [],
   "source": [
    "an_example=42"
   ]
  },
  {
   "cell_type": "code",
   "execution_count": 28,
   "id": "5bab6d0a",
   "metadata": {},
   "outputs": [
    {
     "name": "stdout",
     "output_type": "stream",
     "text": [
      "42\n"
     ]
    },
    {
     "data": {
      "text/plain": [
       "(None, int)"
      ]
     },
     "execution_count": 28,
     "metadata": {},
     "output_type": "execute_result"
    }
   ],
   "source": [
    "print(an_example),type(an_example)"
   ]
  },
  {
   "cell_type": "code",
   "execution_count": 29,
   "id": "51794650",
   "metadata": {},
   "outputs": [],
   "source": [
    "score= [90,100,85]"
   ]
  },
  {
   "cell_type": "code",
   "execution_count": 30,
   "id": "09157491",
   "metadata": {},
   "outputs": [
    {
     "data": {
      "text/plain": [
       "[90, 100, 85]"
      ]
     },
     "execution_count": 30,
     "metadata": {},
     "output_type": "execute_result"
    }
   ],
   "source": [
    "score"
   ]
  },
  {
   "cell_type": "code",
   "execution_count": 31,
   "id": "11766dfc",
   "metadata": {},
   "outputs": [],
   "source": [
    "score.append(102)"
   ]
  },
  {
   "cell_type": "code",
   "execution_count": 33,
   "id": "e9761cae",
   "metadata": {},
   "outputs": [
    {
     "data": {
      "text/plain": [
       "[90, 100, 85, 102]"
      ]
     },
     "execution_count": 33,
     "metadata": {},
     "output_type": "execute_result"
    }
   ],
   "source": [
    "score #tab 키 누르면 리스트 객체에서 제공하는 여러 메서드들이 보여짐\n"
   ]
  },
  {
   "attachments": {
    "image.png": {
     "image/png": "[encoded data removed]"
    }
   },
   "cell_type": "markdown",
   "id": "f3b8f6ee",
   "metadata": {},
   "source": [
    "# 도움말\n",
    "![image.png](attachment:image.png)\n",
    "mutable 쓰기 가능\n"
   ]
  },
  {
   "cell_type": "code",
   "execution_count": 34,
   "id": "02784955",
   "metadata": {},
   "outputs": [],
   "source": [
    "score?"
   ]
  },
  {
   "cell_type": "code",
   "execution_count": 36,
   "id": "72702125",
   "metadata": {},
   "outputs": [
    {
     "ename": "SyntaxError",
     "evalue": "invalid syntax (<ipython-input-36-d76d05b9f121>, line 1)",
     "output_type": "error",
     "traceback": [
      "\u001b[1;36m  File \u001b[1;32m\"<ipython-input-36-d76d05b9f121>\"\u001b[1;36m, line \u001b[1;32m1\u001b[0m\n\u001b[1;33m    print?  # 파이썬에서 제공하는 함수\u001b[0m\n\u001b[1;37m         ^\u001b[0m\n\u001b[1;31mSyntaxError\u001b[0m\u001b[1;31m:\u001b[0m invalid syntax\n"
     ]
    }
   ],
   "source": [
    "print?  # 파이썬에서 제공하는 함수 "
   ]
  },
  {
   "cell_type": "code",
   "execution_count": 41,
   "id": "f6643cd9",
   "metadata": {},
   "outputs": [
    {
     "data": {
      "text/plain": [
       "17"
      ]
     },
     "execution_count": 41,
     "metadata": {},
     "output_type": "execute_result"
    }
   ],
   "source": [
    "# 내가 만든 함수 \n",
    "\n",
    "# 정의\n",
    "def add_numbers(a,b) :\n",
    "    \"\"\"\n",
    "    Add two numbers together\n",
    "    return a+b\n",
    "    \"\"\"\n",
    "    return a+b\n",
    "# 호출\n",
    "add_numbers(10,7)"
   ]
  },
  {
   "cell_type": "code",
   "execution_count": 42,
   "id": "e5322bda",
   "metadata": {},
   "outputs": [
    {
     "data": {
      "text/plain": [
       "7"
      ]
     },
     "execution_count": 42,
     "metadata": {},
     "output_type": "execute_result"
    }
   ],
   "source": [
    "add_numbers(3,4)"
   ]
  },
  {
   "cell_type": "code",
   "execution_count": 43,
   "id": "71283982",
   "metadata": {},
   "outputs": [],
   "source": [
    "add_numbers?"
   ]
  },
  {
   "attachments": {
    "image.png": {
     "image/png": "[encoded data removed]"
    }
   },
   "cell_type": "markdown",
   "id": "ef73d77d",
   "metadata": {},
   "source": [
    "?? 는 소스코드 까지 보임\n",
    "![image.png](attachment:image.png)"
   ]
  },
  {
   "cell_type": "code",
   "execution_count": 44,
   "id": "055002fa",
   "metadata": {},
   "outputs": [],
   "source": [
    "add_numbers??"
   ]
  },
  {
   "cell_type": "markdown",
   "id": "500dbde4",
   "metadata": {},
   "source": [
    "# 매직 명령어"
   ]
  },
  {
   "cell_type": "code",
   "execution_count": 45,
   "id": "1b1026de",
   "metadata": {},
   "outputs": [
    {
     "name": "stdout",
     "output_type": "stream",
     "text": [
      "hello world\n"
     ]
    }
   ],
   "source": [
    "%run hello.py # 파이썬 스크립트를 실행할 때 사용한다"
   ]
  },
  {
   "cell_type": "code",
   "execution_count": 46,
   "id": "3e554742",
   "metadata": {},
   "outputs": [
    {
     "data": {
      "text/plain": [
       "'C:\\\\Users\\\\choi\\\\Documents\\\\인공지능25기\\\\Python Programming'"
      ]
     },
     "execution_count": 46,
     "metadata": {},
     "output_type": "execute_result"
    }
   ],
   "source": [
    "%pwd  #현재 워킹 디렉토리를 보고싶을 때"
   ]
  },
  {
   "cell_type": "code",
   "execution_count": null,
   "id": "5ff5d883",
   "metadata": {},
   "outputs": [],
   "source": [
    "# %load hello.py\n",
    "print(\"hello world\") #파이썬 스크립트 내용이 불려져 온다"
   ]
  },
  {
   "cell_type": "code",
   "execution_count": 49,
   "id": "80e40e1c",
   "metadata": {},
   "outputs": [
    {
     "name": "stdout",
     "output_type": "stream",
     "text": [
      "Wall time: 0 ns\n"
     ]
    }
   ],
   "source": [
    "a=2\n",
    "b=3\n",
    "\n",
    "%time c=a+b # time 뒤에 나오는 statement 를 수행하는데 걸린 시간 "
   ]
  },
  {
   "cell_type": "code",
   "execution_count": 50,
   "id": "aee896ff",
   "metadata": {},
   "outputs": [
    {
     "name": "stdout",
     "output_type": "stream",
     "text": [
      "47.3 ns ± 0.838 ns per loop (mean ± std. dev. of 7 runs, 10000000 loops each)\n"
     ]
    }
   ],
   "source": [
    "%timeit c = a+b #timeit 뒤에 나오는 statement 를 여러번 수행해서 평균 시간을 출력"
   ]
  },
  {
   "cell_type": "code",
   "execution_count": 51,
   "id": "8a4964c9",
   "metadata": {},
   "outputs": [
    {
     "name": "stdout",
     "output_type": "stream",
     "text": [
      "여기는요\n"
     ]
    }
   ],
   "source": [
    "#들여쓰기\n",
    "a=2\n",
    "if a== 3:\n",
    "    print(\"a는 3입니다\")\n",
    "    print(\"a가 3이면 이부분이 실행되는지 확인중입니다\")\n",
    "print(\"여기는요\")\n",
    "\n"
   ]
  },
  {
   "cell_type": "markdown",
   "id": "d180a614",
   "metadata": {},
   "source": [
    "# 숫자계산하기"
   ]
  },
  {
   "cell_type": "code",
   "execution_count": 52,
   "id": "dd3218fc",
   "metadata": {},
   "outputs": [
    {
     "data": {
      "text/plain": [
       "2"
      ]
     },
     "execution_count": 52,
     "metadata": {},
     "output_type": "execute_result"
    }
   ],
   "source": [
    "1+1 "
   ]
  },
  {
   "cell_type": "code",
   "execution_count": 53,
   "id": "98c7db4a",
   "metadata": {},
   "outputs": [
    {
     "data": {
      "text/plain": [
       "4"
      ]
     },
     "execution_count": 53,
     "metadata": {},
     "output_type": "execute_result"
    }
   ],
   "source": [
    "2+2"
   ]
  },
  {
   "cell_type": "code",
   "execution_count": 54,
   "id": "3c711a75",
   "metadata": {},
   "outputs": [
    {
     "data": {
      "text/plain": [
       "6"
      ]
     },
     "execution_count": 54,
     "metadata": {},
     "output_type": "execute_result"
    }
   ],
   "source": [
    "2*3"
   ]
  },
  {
   "cell_type": "code",
   "execution_count": 55,
   "id": "3198cfb0",
   "metadata": {},
   "outputs": [
    {
     "data": {
      "text/plain": [
       "2.5"
      ]
     },
     "execution_count": 55,
     "metadata": {},
     "output_type": "execute_result"
    }
   ],
   "source": [
    "5/2\n"
   ]
  },
  {
   "cell_type": "code",
   "execution_count": 56,
   "id": "ca2b296b",
   "metadata": {},
   "outputs": [
    {
     "data": {
      "text/plain": [
       "0"
      ]
     },
     "execution_count": 56,
     "metadata": {},
     "output_type": "execute_result"
    }
   ],
   "source": [
    "4%2"
   ]
  },
  {
   "cell_type": "code",
   "execution_count": 57,
   "id": "bdf250eb",
   "metadata": {},
   "outputs": [
    {
     "data": {
      "text/plain": [
       "2"
      ]
     },
     "execution_count": 57,
     "metadata": {},
     "output_type": "execute_result"
    }
   ],
   "source": [
    "5//2"
   ]
  },
  {
   "cell_type": "code",
   "execution_count": 58,
   "id": "9176e560",
   "metadata": {},
   "outputs": [
    {
     "data": {
      "text/plain": [
       "1024"
      ]
     },
     "execution_count": 58,
     "metadata": {},
     "output_type": "execute_result"
    }
   ],
   "source": [
    "#2의 10제곱은\n",
    "2**10\n"
   ]
  },
  {
   "cell_type": "code",
   "execution_count": 59,
   "id": "150214fb",
   "metadata": {},
   "outputs": [
    {
     "name": "stdout",
     "output_type": "stream",
     "text": [
      "<class 'int'>\n"
     ]
    }
   ],
   "source": [
    "a=2 \n",
    "print(type(a))"
   ]
  },
  {
   "cell_type": "code",
   "execution_count": 60,
   "id": "99e2f536",
   "metadata": {},
   "outputs": [
    {
     "name": "stdout",
     "output_type": "stream",
     "text": [
      "<class 'float'>\n"
     ]
    }
   ],
   "source": [
    "b=2.3\n",
    "print(type(b))"
   ]
  },
  {
   "cell_type": "code",
   "execution_count": 62,
   "id": "5815ff51",
   "metadata": {},
   "outputs": [
    {
     "data": {
      "text/plain": [
       "2.0"
      ]
     },
     "execution_count": 62,
     "metadata": {},
     "output_type": "execute_result"
    }
   ],
   "source": [
    "#자료형 변환 (type casting)\n",
    "#a : int->>>> float\n",
    "float(a)"
   ]
  },
  {
   "cell_type": "code",
   "execution_count": 63,
   "id": "393a7fbf",
   "metadata": {},
   "outputs": [
    {
     "data": {
      "text/plain": [
       "2"
      ]
     },
     "execution_count": 63,
     "metadata": {},
     "output_type": "execute_result"
    }
   ],
   "source": [
    "int(b)"
   ]
  },
  {
   "cell_type": "code",
   "execution_count": 64,
   "id": "f8688028",
   "metadata": {},
   "outputs": [
    {
     "data": {
      "text/plain": [
       "str"
      ]
     },
     "execution_count": 64,
     "metadata": {},
     "output_type": "execute_result"
    }
   ],
   "source": [
    "s='10'\n",
    "type(s)"
   ]
  },
  {
   "cell_type": "code",
   "execution_count": 65,
   "id": "995e9f5d",
   "metadata": {},
   "outputs": [],
   "source": [
    "a=3"
   ]
  },
  {
   "cell_type": "code",
   "execution_count": 66,
   "id": "fc59ca09",
   "metadata": {},
   "outputs": [
    {
     "data": {
      "text/plain": [
       "True"
      ]
     },
     "execution_count": 66,
     "metadata": {},
     "output_type": "execute_result"
    }
   ],
   "source": [
    "a==3"
   ]
  },
  {
   "cell_type": "code",
   "execution_count": 67,
   "id": "68cd10f3",
   "metadata": {},
   "outputs": [
    {
     "data": {
      "text/plain": [
       "(2, 1)"
      ]
     },
     "execution_count": 67,
     "metadata": {},
     "output_type": "execute_result"
    }
   ],
   "source": [
    "# 숫자로 시작하는 변수 사용불가 \n",
    "# 특수문자는 변수 사용 불가\n",
    "divmod(5,2)"
   ]
  },
  {
   "cell_type": "code",
   "execution_count": 75,
   "id": "20180b4a",
   "metadata": {},
   "outputs": [
    {
     "data": {
      "text/plain": [
       "(3, 2)"
      ]
     },
     "execution_count": 75,
     "metadata": {},
     "output_type": "execute_result"
    }
   ],
   "source": [
    "# 파이썬 예약된 키워드 사용할 수 없음(if, for, while, and, or, str)\n",
    "\n",
    "#if=2 절대 안됨\n",
    " \n",
    "a,b=2,3 \n",
    "a,b=b,a\n",
    "a,b"
   ]
  },
  {
   "cell_type": "code",
   "execution_count": 76,
   "id": "78bcb986",
   "metadata": {},
   "outputs": [
    {
     "data": {
      "text/plain": [
       "(2, 3)"
      ]
     },
     "execution_count": 76,
     "metadata": {},
     "output_type": "execute_result"
    }
   ],
   "source": [
    "temp = a\n",
    "a= b \n",
    "b= temp\n",
    "a,b\n"
   ]
  },
  {
   "cell_type": "code",
   "execution_count": 78,
   "id": "a0528862",
   "metadata": {},
   "outputs": [
    {
     "ename": "NameError",
     "evalue": "name 'a' is not defined",
     "output_type": "error",
     "traceback": [
      "\u001b[1;31m---------------------------------------------------------------------------\u001b[0m",
      "\u001b[1;31mNameError\u001b[0m                                 Traceback (most recent call last)",
      "\u001b[1;32m<ipython-input-78-06216dd30bcc>\u001b[0m in \u001b[0;36m<module>\u001b[1;34m\u001b[0m\n\u001b[0;32m      1\u001b[0m \u001b[1;31m#할당할 값의 개수를 맞춰야함\u001b[0m\u001b[1;33m\u001b[0m\u001b[1;33m\u001b[0m\u001b[1;33m\u001b[0m\u001b[0m\n\u001b[1;32m----> 2\u001b[1;33m \u001b[1;32mdel\u001b[0m \u001b[0ma\u001b[0m\u001b[1;33m\u001b[0m\u001b[1;33m\u001b[0m\u001b[0m\n\u001b[0m",
      "\u001b[1;31mNameError\u001b[0m: name 'a' is not defined"
     ]
    }
   ],
   "source": [
    "#할당할 값의 개수를 맞춰야함\n",
    "del a "
   ]
  },
  {
   "cell_type": "code",
   "execution_count": 79,
   "id": "b5f89818",
   "metadata": {},
   "outputs": [],
   "source": [
    "x= None"
   ]
  },
  {
   "cell_type": "code",
   "execution_count": 80,
   "id": "120434a1",
   "metadata": {},
   "outputs": [
    {
     "data": {
      "text/plain": [
       "NoneType"
      ]
     },
     "execution_count": 80,
     "metadata": {},
     "output_type": "execute_result"
    }
   ],
   "source": [
    "type(x)"
   ]
  },
  {
   "cell_type": "markdown",
   "id": "013dcac4",
   "metadata": {},
   "source": [
    "# Workshop"
   ]
  },
  {
   "cell_type": "markdown",
   "id": "56481dd1",
   "metadata": {},
   "source": [
    "아파트에서 소음이 가장 심한 층수 출력하기\n",
    "- 국립환경과학원에서는 아파트에서 소음이 가장 심한 층수를 구하는 계산식을 발표했습니다. 소음이 가장 심한 층은 0.2467* 도로와의 거리(m)+4.159 입니다. 다음 소스 코드를 완성하여 소음이 가장 심한 층수가 출력되게 만드세요.\n",
    "- 층수를 출력할 때는 소수점 이하 자리는 버립니다.(정수로 출력)"
   ]
  },
  {
   "cell_type": "code",
   "execution_count": 81,
   "id": "d642cba3",
   "metadata": {},
   "outputs": [
    {
     "data": {
      "text/plain": [
       "7"
      ]
     },
     "execution_count": 81,
     "metadata": {},
     "output_type": "execute_result"
    }
   ],
   "source": [
    "f= 0.2467*12+4.159\n",
    "int(f)"
   ]
  },
  {
   "cell_type": "markdown",
   "id": "f6bf46e4",
   "metadata": {},
   "source": [
    "## 근의 공식 구하기\n",
    "- 근의 공식을 이용하여 x**2+x-2=0의 해를 구하라."
   ]
  },
  {
   "cell_type": "code",
   "execution_count": 84,
   "id": "fca3a72c",
   "metadata": {},
   "outputs": [
    {
     "data": {
      "text/plain": [
       "(1.0, -2.0)"
      ]
     },
     "execution_count": 84,
     "metadata": {},
     "output_type": "execute_result"
    }
   ],
   "source": [
    "a= 1\n",
    "b= 1\n",
    "c=-2\n",
    "x1= (-b+(b**2-4*a*c)**(1/2))/2*a \n",
    "x2= (-b-(b**2-4*a*c)**(1/2))/2*a\n",
    "x1,x2\n"
   ]
  },
  {
   "cell_type": "markdown",
   "id": "ab078ee6",
   "metadata": {},
   "source": [
    "# 입력값을 변수에 저장하기\n"
   ]
  },
  {
   "cell_type": "code",
   "execution_count": 85,
   "id": "45472ebe",
   "metadata": {},
   "outputs": [
    {
     "name": "stdout",
     "output_type": "stream",
     "text": [
      "aaaa\n"
     ]
    },
    {
     "data": {
      "text/plain": [
       "'aaaa'"
      ]
     },
     "execution_count": 85,
     "metadata": {},
     "output_type": "execute_result"
    }
   ],
   "source": [
    "input()"
   ]
  },
  {
   "cell_type": "code",
   "execution_count": 86,
   "id": "ed8064e9",
   "metadata": {},
   "outputs": [
    {
     "name": "stdout",
     "output_type": "stream",
     "text": [
      "35\n"
     ]
    }
   ],
   "source": [
    "a=input()"
   ]
  },
  {
   "cell_type": "code",
   "execution_count": 87,
   "id": "b87dbd8d",
   "metadata": {},
   "outputs": [
    {
     "data": {
      "text/plain": [
       "'35'"
      ]
     },
     "execution_count": 87,
     "metadata": {},
     "output_type": "execute_result"
    }
   ],
   "source": [
    "a"
   ]
  },
  {
   "cell_type": "code",
   "execution_count": 88,
   "id": "428ca9b5",
   "metadata": {},
   "outputs": [
    {
     "data": {
      "text/plain": [
       "str"
      ]
     },
     "execution_count": 88,
     "metadata": {},
     "output_type": "execute_result"
    }
   ],
   "source": [
    "type(a)"
   ]
  },
  {
   "cell_type": "code",
   "execution_count": 89,
   "id": "2e6cc731",
   "metadata": {},
   "outputs": [
    {
     "name": "stdout",
     "output_type": "stream",
     "text": [
      "1\n"
     ]
    }
   ],
   "source": [
    "a= int(input())"
   ]
  },
  {
   "cell_type": "code",
   "execution_count": 90,
   "id": "f8118df9",
   "metadata": {},
   "outputs": [
    {
     "data": {
      "text/plain": [
       "1"
      ]
     },
     "execution_count": 90,
     "metadata": {},
     "output_type": "execute_result"
    }
   ],
   "source": [
    "a"
   ]
  },
  {
   "cell_type": "code",
   "execution_count": 92,
   "id": "cbe6cdd4",
   "metadata": {},
   "outputs": [
    {
     "name": "stdout",
     "output_type": "stream",
     "text": [
      "숫자를입력하세요: 10\n",
      "숫자를입력하세요: 20\n"
     ]
    }
   ],
   "source": [
    "a=input(\"숫자를입력하세요: \")\n",
    "b= input(\"숫자를입력하세요: \")"
   ]
  },
  {
   "cell_type": "code",
   "execution_count": 93,
   "id": "21d2e211",
   "metadata": {},
   "outputs": [
    {
     "data": {
      "text/plain": [
       "('10', '20')"
      ]
     },
     "execution_count": 93,
     "metadata": {},
     "output_type": "execute_result"
    }
   ],
   "source": [
    "a,b"
   ]
  },
  {
   "cell_type": "code",
   "execution_count": 100,
   "id": "ec0b617c",
   "metadata": {},
   "outputs": [],
   "source": [
    "two_no = '10 20'"
   ]
  },
  {
   "cell_type": "code",
   "execution_count": 101,
   "id": "b6e99275",
   "metadata": {},
   "outputs": [
    {
     "data": {
      "text/plain": [
       "['10', '20']"
      ]
     },
     "execution_count": 101,
     "metadata": {},
     "output_type": "execute_result"
    }
   ],
   "source": [
    "two_no_list=two_no.split() #split 함수에 구분자를 지정하면 그에 맞게 나눈 결과가 리스트로 반환됨\n",
    "two_no_list"
   ]
  },
  {
   "cell_type": "code",
   "execution_count": 103,
   "id": "8f7b43c6",
   "metadata": {},
   "outputs": [],
   "source": [
    "ten_list=['10','20','30','40','50','60','70','80','90']\n",
    "ten_list=list(map(int,ten_list))"
   ]
  },
  {
   "cell_type": "code",
   "execution_count": 104,
   "id": "14f242c4",
   "metadata": {},
   "outputs": [
    {
     "data": {
      "text/plain": [
       "[10, 20, 30, 40, 50, 60, 70, 80, 90]"
      ]
     },
     "execution_count": 104,
     "metadata": {},
     "output_type": "execute_result"
    }
   ],
   "source": [
    "ten_list"
   ]
  },
  {
   "cell_type": "code",
   "execution_count": 109,
   "id": "8de6f621",
   "metadata": {},
   "outputs": [
    {
     "name": "stdout",
     "output_type": "stream",
     "text": [
      "-를 기준으로 문자열 두개 입력1-3-4\n"
     ]
    },
    {
     "data": {
      "text/plain": [
       "(1, 3, 4)"
      ]
     },
     "execution_count": 109,
     "metadata": {},
     "output_type": "execute_result"
    }
   ],
   "source": [
    "#두개 이상 입력받기\n",
    "s= input(\"-를 기준으로 문자열 두개 입력\")\n",
    "# 구분자를 통해 나누기\n",
    "l= s.split('-')\n",
    "#일괄 자료형변환\n",
    "l1,l2,l3= map(int,l)\n",
    "l1,l2,l3"
   ]
  },
  {
   "cell_type": "markdown",
   "id": "6decd626",
   "metadata": {},
   "source": [
    "# Workshop"
   ]
  },
  {
   "cell_type": "markdown",
   "id": "7c90d710",
   "metadata": {},
   "source": [
    "## 평균 점수 구하기\n",
    "- 표준 입력으로 국어 영어 수학 과학 점수가 입력됩니다. 평균 점수를 출력하는 프로그램을 만드세요(input에서 안내 문자열은 출력하지마세요) 단 평균 점수를 출력할 때는 소수점 이하 자리는 버립니다. \n"
   ]
  },
  {
   "cell_type": "code",
   "execution_count": 115,
   "id": "c97c82de",
   "metadata": {},
   "outputs": [
    {
     "name": "stdout",
     "output_type": "stream",
     "text": [
      "10 20 30 40\n"
     ]
    },
    {
     "data": {
      "text/plain": [
       "25"
      ]
     },
     "execution_count": 115,
     "metadata": {},
     "output_type": "execute_result"
    }
   ],
   "source": [
    "score= input()\n",
    "score= score.split()\n",
    "s= list(map(int,score))\n",
    "int(sum(s)/len(s))"
   ]
  },
  {
   "cell_type": "markdown",
   "id": "18d71d55",
   "metadata": {},
   "source": [
    "# 출력 방법 알아보기\n"
   ]
  },
  {
   "cell_type": "markdown",
   "id": "268d4ea4",
   "metadata": {},
   "source": [
    "- print(값1, 값2, 값3 ...sep='문자' 또는 문자열)\n",
    "- print(변수1, 변수2, 변수3....)\n",
    "\n"
   ]
  },
  {
   "cell_type": "code",
   "execution_count": 116,
   "id": "eac9d70b",
   "metadata": {},
   "outputs": [
    {
     "name": "stdout",
     "output_type": "stream",
     "text": [
      "1,2,3,4\n"
     ]
    }
   ],
   "source": [
    "print(1,2,3,4, sep=',')"
   ]
  },
  {
   "cell_type": "code",
   "execution_count": 117,
   "id": "b058f5b2",
   "metadata": {},
   "outputs": [
    {
     "name": "stdout",
     "output_type": "stream",
     "text": [
      "1\t2\t3\t4\n"
     ]
    }
   ],
   "source": [
    "print(1,2,3,4, sep='\\t') #\\n 개행문자 "
   ]
  },
  {
   "cell_type": "code",
   "execution_count": 118,
   "id": "85da87ff",
   "metadata": {},
   "outputs": [
    {
     "name": "stdout",
     "output_type": "stream",
     "text": [
      "1 2 3 4,"
     ]
    }
   ],
   "source": [
    "print(1,2,3,4, end=',')"
   ]
  },
  {
   "cell_type": "markdown",
   "id": "f08e4aa9",
   "metadata": {},
   "source": [
    "# Workshop"
   ]
  },
  {
   "cell_type": "markdown",
   "id": "e416ed0d",
   "metadata": {},
   "source": [
    "**날짜와 시간 출력하기**\n",
    "- 2022/10/17 / 16:26:06"
   ]
  },
  {
   "cell_type": "code",
   "execution_count": 132,
   "id": "f8d67026",
   "metadata": {},
   "outputs": [],
   "source": [
    "a=2022\n",
    "b=10\n",
    "c=17\n",
    "d=16\n",
    "e=26\n",
    "f='06'\n",
    "second=6\n"
   ]
  },
  {
   "cell_type": "code",
   "execution_count": 134,
   "id": "d640a246",
   "metadata": {},
   "outputs": [
    {
     "name": "stdout",
     "output_type": "stream",
     "text": [
      "2022/10/17 16:26:06\n",
      "06\n",
      "          hello\n"
     ]
    }
   ],
   "source": [
    "print(a,b,c, sep='/' ,end=' ') \n",
    "print(d,e,f, sep=':')\n",
    "print('%02d'% second) #두자리수로 표현을 하고 나머지는 영으로 채워라\n",
    "print('%15s' %\"hello\")"
   ]
  },
  {
   "cell_type": "code",
   "execution_count": null,
   "id": "72f47121",
   "metadata": {},
   "outputs": [],
   "source": []
  },
  {
   "cell_type": "markdown",
   "id": "b78edfaa",
   "metadata": {},
   "source": [
    "# bool 자료형과 비교 연산자"
   ]
  },
  {
   "cell_type": "code",
   "execution_count": 135,
   "id": "55359de4",
   "metadata": {},
   "outputs": [],
   "source": [
    "result= (a==4)"
   ]
  },
  {
   "cell_type": "code",
   "execution_count": 136,
   "id": "46b40a70",
   "metadata": {},
   "outputs": [
    {
     "data": {
      "text/plain": [
       "(False, bool)"
      ]
     },
     "execution_count": 136,
     "metadata": {},
     "output_type": "execute_result"
    }
   ],
   "source": [
    "result, type(result)"
   ]
  },
  {
   "cell_type": "code",
   "execution_count": 137,
   "id": "f4591265",
   "metadata": {},
   "outputs": [
    {
     "data": {
      "text/plain": [
       "True"
      ]
     },
     "execution_count": 137,
     "metadata": {},
     "output_type": "execute_result"
    }
   ],
   "source": [
    "10!=9"
   ]
  },
  {
   "cell_type": "code",
   "execution_count": 138,
   "id": "54378bca",
   "metadata": {},
   "outputs": [
    {
     "data": {
      "text/plain": [
       "False"
      ]
     },
     "execution_count": 138,
     "metadata": {},
     "output_type": "execute_result"
    }
   ],
   "source": [
    "\"Python\"==\"python\""
   ]
  },
  {
   "cell_type": "code",
   "execution_count": 139,
   "id": "dc093ba6",
   "metadata": {},
   "outputs": [
    {
     "data": {
      "text/plain": [
       "False"
      ]
     },
     "execution_count": 139,
     "metadata": {},
     "output_type": "execute_result"
    }
   ],
   "source": [
    "10>20"
   ]
  },
  {
   "cell_type": "markdown",
   "id": "4194137d",
   "metadata": {},
   "source": [
    "# 논리 연산자 "
   ]
  },
  {
   "cell_type": "code",
   "execution_count": null,
   "id": "b26a3ac7",
   "metadata": {},
   "outputs": [],
   "source": []
  }
 ],
 "metadata": {
  "kernelspec": {
   "display_name": "Python 3",
   "language": "python",
   "name": "python3"
  },
  "language_info": {
   "codemirror_mode": {
    "name": "ipython",
    "version": 3
   },
   "file_extension": ".py",
   "mimetype": "text/x-python",
   "name": "python",
   "nbconvert_exporter": "python",
   "pygments_lexer": "ipython3",
   "version": "3.8.8"
  }
 },
 "nbformat": 4,
 "nbformat_minor": 5
}
