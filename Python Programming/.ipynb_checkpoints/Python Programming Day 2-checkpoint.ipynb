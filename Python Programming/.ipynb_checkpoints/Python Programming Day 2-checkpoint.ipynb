{
 "cells": [
  {
   "cell_type": "markdown",
   "id": "461ce0b5",
   "metadata": {},
   "source": [
    "# 논리 연산자"
   ]
  },
  {
   "cell_type": "markdown",
   "id": "409d84af",
   "metadata": {},
   "source": [
    "- a and b\n",
    "- a or b \n",
    "- not a"
   ]
  },
  {
   "cell_type": "code",
   "execution_count": 1,
   "id": "c91e775d",
   "metadata": {},
   "outputs": [
    {
     "data": {
      "text/plain": [
       "True"
      ]
     },
     "execution_count": 1,
     "metadata": {},
     "output_type": "execute_result"
    }
   ],
   "source": [
    "True and True"
   ]
  },
  {
   "cell_type": "code",
   "execution_count": 2,
   "id": "7353fa2c",
   "metadata": {},
   "outputs": [
    {
     "data": {
      "text/plain": [
       "False"
      ]
     },
     "execution_count": 2,
     "metadata": {},
     "output_type": "execute_result"
    }
   ],
   "source": [
    "True and False"
   ]
  },
  {
   "cell_type": "code",
   "execution_count": 3,
   "id": "3cb19226",
   "metadata": {},
   "outputs": [
    {
     "data": {
      "text/plain": [
       "False"
      ]
     },
     "execution_count": 3,
     "metadata": {},
     "output_type": "execute_result"
    }
   ],
   "source": [
    "False and False"
   ]
  },
  {
   "cell_type": "code",
   "execution_count": 4,
   "id": "ae90df67",
   "metadata": {},
   "outputs": [
    {
     "data": {
      "text/plain": [
       "True"
      ]
     },
     "execution_count": 4,
     "metadata": {},
     "output_type": "execute_result"
    }
   ],
   "source": [
    "True or False"
   ]
  },
  {
   "cell_type": "code",
   "execution_count": 5,
   "id": "a0798956",
   "metadata": {},
   "outputs": [
    {
     "data": {
      "text/plain": [
       "False"
      ]
     },
     "execution_count": 5,
     "metadata": {},
     "output_type": "execute_result"
    }
   ],
   "source": [
    "not True"
   ]
  },
  {
   "cell_type": "code",
   "execution_count": 6,
   "id": "c81a4be3",
   "metadata": {
    "scrolled": true
   },
   "outputs": [
    {
     "data": {
      "text/plain": [
       "True"
      ]
     },
     "execution_count": 6,
     "metadata": {},
     "output_type": "execute_result"
    }
   ],
   "source": [
    "10==10"
   ]
  },
  {
   "cell_type": "markdown",
   "id": "f048b95e",
   "metadata": {},
   "source": [
    "# 비교연산자와 논리 연산자를 함께 사용"
   ]
  },
  {
   "cell_type": "code",
   "execution_count": 9,
   "id": "f98509bd",
   "metadata": {},
   "outputs": [
    {
     "data": {
      "text/plain": [
       "False"
      ]
     },
     "execution_count": 9,
     "metadata": {},
     "output_type": "execute_result"
    }
   ],
   "source": [
    "10 == 5"
   ]
  },
  {
   "cell_type": "code",
   "execution_count": 10,
   "id": "e73c30ed",
   "metadata": {},
   "outputs": [
    {
     "data": {
      "text/plain": [
       "True"
      ]
     },
     "execution_count": 10,
     "metadata": {},
     "output_type": "execute_result"
    }
   ],
   "source": [
    "10 != 5"
   ]
  },
  {
   "cell_type": "code",
   "execution_count": 12,
   "id": "4a4c78fb",
   "metadata": {},
   "outputs": [
    {
     "data": {
      "text/plain": [
       "True"
      ]
     },
     "execution_count": 12,
     "metadata": {},
     "output_type": "execute_result"
    }
   ],
   "source": [
    "10 ==10 and 10 != 5"
   ]
  },
  {
   "cell_type": "code",
   "execution_count": 13,
   "id": "c23a034f",
   "metadata": {},
   "outputs": [
    {
     "data": {
      "text/plain": [
       "True"
      ]
     },
     "execution_count": 13,
     "metadata": {},
     "output_type": "execute_result"
    }
   ],
   "source": [
    "bool(1)"
   ]
  },
  {
   "cell_type": "code",
   "execution_count": 14,
   "id": "fddfb6e9",
   "metadata": {},
   "outputs": [
    {
     "data": {
      "text/plain": [
       "False"
      ]
     },
     "execution_count": 14,
     "metadata": {},
     "output_type": "execute_result"
    }
   ],
   "source": [
    "bool(0)"
   ]
  },
  {
   "cell_type": "markdown",
   "id": "f54b05e3",
   "metadata": {},
   "source": [
    "# Workshop"
   ]
  },
  {
   "cell_type": "markdown",
   "id": "7bdc5a62",
   "metadata": {},
   "source": [
    "## 합격 여부 출력하기 \n",
    "- 국어, 영어, 수학, 과학 점수가 있을 때 한 과목이라도 50점 미만이면 불합격이라고 정했습니다. 다음 소스 코드를 완서하여 합격이면 True 불합격이면 False가 출력되게 만드세요."
   ]
  },
  {
   "cell_type": "code",
   "execution_count": 19,
   "id": "a3addc7e",
   "metadata": {},
   "outputs": [
    {
     "data": {
      "text/plain": [
       "False"
      ]
     },
     "execution_count": 19,
     "metadata": {},
     "output_type": "execute_result"
    }
   ],
   "source": [
    "korean=92\n",
    "english=47\n",
    "mathmatics=86\n",
    "science=81\n",
    "(korean>=50)and(english>=50)and(mathmatics>=50)and(science>=50)"
   ]
  },
  {
   "cell_type": "markdown",
   "id": "2d79662b",
   "metadata": {},
   "source": [
    "- all(), any()\n",
    "all(______)           \n",
    "any(______) 집합체 ex)리스트"
   ]
  },
  {
   "cell_type": "code",
   "execution_count": 21,
   "id": "2d1c1a2a",
   "metadata": {},
   "outputs": [],
   "source": [
    "is_pass=[korean>=50, english>=50, mathmatics>=50, science>=50]"
   ]
  },
  {
   "cell_type": "code",
   "execution_count": 22,
   "id": "04060c4b",
   "metadata": {},
   "outputs": [
    {
     "data": {
      "text/plain": [
       "False"
      ]
     },
     "execution_count": 22,
     "metadata": {},
     "output_type": "execute_result"
    }
   ],
   "source": [
    "all(is_pass)"
   ]
  },
  {
   "cell_type": "code",
   "execution_count": 25,
   "id": "84407568",
   "metadata": {},
   "outputs": [
    {
     "data": {
      "text/plain": [
       "False"
      ]
     },
     "execution_count": 25,
     "metadata": {},
     "output_type": "execute_result"
    }
   ],
   "source": [
    "not(any(is_pass))"
   ]
  },
  {
   "cell_type": "markdown",
   "id": "b56f5ec7",
   "metadata": {},
   "source": [
    "# 문자열 사용하기"
   ]
  },
  {
   "cell_type": "code",
   "execution_count": 26,
   "id": "159cbb0a",
   "metadata": {},
   "outputs": [
    {
     "data": {
      "text/plain": [
       "str"
      ]
     },
     "execution_count": 26,
     "metadata": {},
     "output_type": "execute_result"
    }
   ],
   "source": [
    "s1= \"hello\"\n",
    "s2= \"hello\"\n",
    "s3='''hello'''\n",
    "s4=\"\"\"hello\"\"\"\n",
    "type(s4)"
   ]
  },
  {
   "cell_type": "code",
   "execution_count": 27,
   "id": "a4e4fb9e",
   "metadata": {},
   "outputs": [
    {
     "name": "stdout",
     "output_type": "stream",
     "text": [
      "hello hello hello hello\n"
     ]
    }
   ],
   "source": [
    "print(s1,s2,s3,s4)"
   ]
  },
  {
   "cell_type": "code",
   "execution_count": 31,
   "id": "fbfd7cb6",
   "metadata": {},
   "outputs": [],
   "source": [
    "s1='hello \"python\"'"
   ]
  },
  {
   "cell_type": "code",
   "execution_count": 33,
   "id": "52341277",
   "metadata": {},
   "outputs": [
    {
     "name": "stdout",
     "output_type": "stream",
     "text": [
      "hello \"python\"\n"
     ]
    }
   ],
   "source": [
    "print(s1)"
   ]
  },
  {
   "cell_type": "code",
   "execution_count": 34,
   "id": "6728dd64",
   "metadata": {},
   "outputs": [
    {
     "name": "stdout",
     "output_type": "stream",
     "text": [
      "here is\n",
      "python world \n",
      "it tis \n",
      "real!!!\n"
     ]
    }
   ],
   "source": [
    "s5= '''here is\n",
    "python world \n",
    "it tis \n",
    "real!!!'''\n",
    "print(s5)"
   ]
  },
  {
   "cell_type": "code",
   "execution_count": 38,
   "id": "6ec510d3",
   "metadata": {},
   "outputs": [
    {
     "data": {
      "text/plain": [
       "3"
      ]
     },
     "execution_count": 38,
     "metadata": {},
     "output_type": "execute_result"
    }
   ],
   "source": [
    "s5.count('\\n')"
   ]
  },
  {
   "cell_type": "code",
   "execution_count": 39,
   "id": "ec62804b",
   "metadata": {},
   "outputs": [],
   "source": [
    "s7='hello \\'python\\''"
   ]
  },
  {
   "cell_type": "code",
   "execution_count": 40,
   "id": "223f5cd9",
   "metadata": {},
   "outputs": [
    {
     "data": {
      "text/plain": [
       "\"hello 'python'\""
      ]
     },
     "execution_count": 40,
     "metadata": {},
     "output_type": "execute_result"
    }
   ],
   "source": [
    "s7"
   ]
  },
  {
   "cell_type": "markdown",
   "id": "c1e41ab4",
   "metadata": {},
   "source": [
    "# Workshop"
   ]
  },
  {
   "cell_type": "code",
   "execution_count": 43,
   "id": "161428b8",
   "metadata": {},
   "outputs": [],
   "source": [
    "s= \"\"\"'Python' is a \"programming language\"\n",
    "that lets you work quickly\n",
    "and\n",
    "integrate systems more effectively.\"\"\""
   ]
  },
  {
   "cell_type": "code",
   "execution_count": 44,
   "id": "79b500a2",
   "metadata": {},
   "outputs": [
    {
     "name": "stdout",
     "output_type": "stream",
     "text": [
      "'Python' is a \"programming language\"\n",
      "that lets you work quickly\n",
      "and\n",
      "integrate systems more effectively.\n"
     ]
    }
   ],
   "source": [
    "print(s)"
   ]
  },
  {
   "cell_type": "markdown",
   "id": "dfe87b93",
   "metadata": {},
   "source": [
    "# 리스트와 튜플"
   ]
  },
  {
   "cell_type": "code",
   "execution_count": 46,
   "id": "dbc6d1dc",
   "metadata": {},
   "outputs": [
    {
     "data": {
      "text/plain": [
       "list"
      ]
     },
     "execution_count": 46,
     "metadata": {},
     "output_type": "execute_result"
    }
   ],
   "source": [
    "scores= [90,95,100,80,70,100]\n",
    "type(scores)"
   ]
  },
  {
   "cell_type": "code",
   "execution_count": 47,
   "id": "69490439",
   "metadata": {},
   "outputs": [],
   "source": [
    "person = ['James',17,7.25,True]"
   ]
  },
  {
   "cell_type": "markdown",
   "id": "c1b4388d",
   "metadata": {},
   "source": [
    "**빈 리스트 만들기\n",
    "- 리스트 =[]\n",
    "- 리스트 =list()\n"
   ]
  },
  {
   "cell_type": "code",
   "execution_count": 48,
   "id": "59b5e185",
   "metadata": {},
   "outputs": [],
   "source": [
    "empty_list=[]\n",
    "empty_list2=list()"
   ]
  },
  {
   "cell_type": "markdown",
   "id": "a75d1aab",
   "metadata": {},
   "source": [
    "-리스트 = list(range(횟수)"
   ]
  },
  {
   "cell_type": "code",
   "execution_count": 49,
   "id": "b888dfbf",
   "metadata": {},
   "outputs": [
    {
     "data": {
      "text/plain": [
       "[0, 1, 2, 3, 4, 5, 6, 7, 8, 9]"
      ]
     },
     "execution_count": 49,
     "metadata": {},
     "output_type": "execute_result"
    }
   ],
   "source": [
    "a= list(range(10))\n",
    "a"
   ]
  },
  {
   "cell_type": "code",
   "execution_count": 50,
   "id": "ad161f8c",
   "metadata": {},
   "outputs": [
    {
     "data": {
      "text/plain": [
       "[5, 6, 7, 8, 9]"
      ]
     },
     "execution_count": 50,
     "metadata": {},
     "output_type": "execute_result"
    }
   ],
   "source": [
    "b=list(range(5,10))\n",
    "b\n"
   ]
  },
  {
   "cell_type": "markdown",
   "id": "3d2a6bd4",
   "metadata": {},
   "source": [
    "-리스트 = list(range(시작,끝,증가폭))"
   ]
  },
  {
   "cell_type": "code",
   "execution_count": 52,
   "id": "d4127793",
   "metadata": {},
   "outputs": [
    {
     "data": {
      "text/plain": [
       "[0, 2, 4, 6, 8]"
      ]
     },
     "execution_count": 52,
     "metadata": {},
     "output_type": "execute_result"
    }
   ],
   "source": [
    "c=(list(range(0,10,2)))\n",
    "c\n"
   ]
  },
  {
   "cell_type": "code",
   "execution_count": 54,
   "id": "88649a08",
   "metadata": {},
   "outputs": [
    {
     "data": {
      "text/plain": [
       "[10, 9, 8, 7, 6, 5, 4, 3, 2, 1]"
      ]
     },
     "execution_count": 54,
     "metadata": {},
     "output_type": "execute_result"
    }
   ],
   "source": [
    "d=list(range(10,0,-1))\n",
    "d"
   ]
  },
  {
   "cell_type": "markdown",
   "id": "a396150b",
   "metadata": {},
   "source": [
    "-튜플= (값,값,값,...)\n",
    "-튜플= 값,값,값......"
   ]
  },
  {
   "cell_type": "code",
   "execution_count": 55,
   "id": "d019a66d",
   "metadata": {},
   "outputs": [
    {
     "data": {
      "text/plain": [
       "(1, 2, 3, 4)"
      ]
     },
     "execution_count": 55,
     "metadata": {},
     "output_type": "execute_result"
    }
   ],
   "source": [
    "a=(1,2,3,4)\n",
    "a"
   ]
  },
  {
   "cell_type": "code",
   "execution_count": 56,
   "id": "0b918806",
   "metadata": {},
   "outputs": [
    {
     "data": {
      "text/plain": [
       "tuple"
      ]
     },
     "execution_count": 56,
     "metadata": {},
     "output_type": "execute_result"
    }
   ],
   "source": [
    "type(a)"
   ]
  },
  {
   "cell_type": "code",
   "execution_count": 57,
   "id": "91865f07",
   "metadata": {},
   "outputs": [
    {
     "data": {
      "text/plain": [
       "(5, 8, 11)"
      ]
     },
     "execution_count": 57,
     "metadata": {},
     "output_type": "execute_result"
    }
   ],
   "source": [
    "c= tuple(range(5,12,3))\n",
    "c"
   ]
  },
  {
   "cell_type": "code",
   "execution_count": 59,
   "id": "8474b75e",
   "metadata": {},
   "outputs": [
    {
     "data": {
      "text/plain": [
       "[5, 8, 11]"
      ]
     },
     "execution_count": 59,
     "metadata": {},
     "output_type": "execute_result"
    }
   ],
   "source": [
    "int(5.3)\n",
    "list(c)"
   ]
  },
  {
   "cell_type": "markdown",
   "id": "fc1690f1",
   "metadata": {},
   "source": [
    "# Workshop\n"
   ]
  },
  {
   "cell_type": "markdown",
   "id": "79c1b538",
   "metadata": {},
   "source": [
    "**range로 리스트 만들기**\n",
    "-[5,3,1,-1,-3,-5,-7,-9]가 출력되게 만드세요"
   ]
  },
  {
   "cell_type": "code",
   "execution_count": 60,
   "id": "7a03201b",
   "metadata": {},
   "outputs": [
    {
     "data": {
      "text/plain": [
       "[5, 3, 1, -1, -3, -5, -7, -9]"
      ]
     },
     "execution_count": 60,
     "metadata": {},
     "output_type": "execute_result"
    }
   ],
   "source": [
    "c=list(range(5,-10,-2))\n",
    "c"
   ]
  },
  {
   "cell_type": "markdown",
   "id": "c6cb88ad",
   "metadata": {},
   "source": [
    "# range로 튜플 만들기\n",
    "-표준입력으로 정수가 입력됩니다 range의 시작 숫자는 -10, 끝나는 숫자는 10이며 입력된 정수만큼 증가하는 숫자가 들어가도록 튜플을 만들고 해당 튜플을 출력하는 프로그램을만드세요 (input에서 안내 문자열은 출력하지 않아야합니다)\n",
    "-입력:2 출력:(-10,-8,-6,-4,-2,0,2,4,6,7)\n"
   ]
  },
  {
   "cell_type": "code",
   "execution_count": 63,
   "id": "ede3ee14",
   "metadata": {},
   "outputs": [
    {
     "name": "stdout",
     "output_type": "stream",
     "text": [
      "2\n"
     ]
    },
    {
     "data": {
      "text/plain": [
       "(-10, -8, -6, -4, -2, 0, 2, 4, 6, 8)"
      ]
     },
     "execution_count": 63,
     "metadata": {},
     "output_type": "execute_result"
    }
   ],
   "source": [
    "a=int(input())\n",
    "b=tuple(range(-10,10,a))\n",
    "b"
   ]
  },
  {
   "cell_type": "markdown",
   "id": "076a7046",
   "metadata": {},
   "source": [
    "# 시퀀스 자료형 활용하기 \n",
    "- 시퀀스 자료형 : list, tuple , range ,str\n",
    "- 값 in 시퀀스 객체 "
   ]
  },
  {
   "cell_type": "code",
   "execution_count": 64,
   "id": "48de614d",
   "metadata": {},
   "outputs": [
    {
     "data": {
      "text/plain": [
       "True"
      ]
     },
     "execution_count": 64,
     "metadata": {},
     "output_type": "execute_result"
    }
   ],
   "source": [
    "a=[1,2,3,4,5]\n",
    "1 in a"
   ]
  },
  {
   "cell_type": "code",
   "execution_count": 65,
   "id": "69470ef3",
   "metadata": {},
   "outputs": [
    {
     "data": {
      "text/plain": [
       "False"
      ]
     },
     "execution_count": 65,
     "metadata": {},
     "output_type": "execute_result"
    }
   ],
   "source": [
    "10 in a\n"
   ]
  },
  {
   "cell_type": "code",
   "execution_count": 66,
   "id": "2df1c2b3",
   "metadata": {},
   "outputs": [
    {
     "data": {
      "text/plain": [
       "True"
      ]
     },
     "execution_count": 66,
     "metadata": {},
     "output_type": "execute_result"
    }
   ],
   "source": [
    "10 not in a"
   ]
  },
  {
   "cell_type": "code",
   "execution_count": 68,
   "id": "a88989cb",
   "metadata": {},
   "outputs": [
    {
     "data": {
      "text/plain": [
       "True"
      ]
     },
     "execution_count": 68,
     "metadata": {},
     "output_type": "execute_result"
    }
   ],
   "source": [
    "c=\"Hello\"\n",
    "'H'in c\n"
   ]
  },
  {
   "cell_type": "code",
   "execution_count": 69,
   "id": "f59a691a",
   "metadata": {},
   "outputs": [
    {
     "data": {
      "text/plain": [
       "True"
      ]
     },
     "execution_count": 69,
     "metadata": {},
     "output_type": "execute_result"
    }
   ],
   "source": [
    "9 in range(10)"
   ]
  },
  {
   "cell_type": "markdown",
   "id": "f5c7d340",
   "metadata": {},
   "source": [
    "- 시퀀스 객체1+ 시퀀스 객체2"
   ]
  },
  {
   "cell_type": "code",
   "execution_count": 70,
   "id": "6756f22e",
   "metadata": {},
   "outputs": [
    {
     "data": {
      "text/plain": [
       "[1, 2, 3, 4, 5, 6, 7, 8, 9, 10]"
      ]
     },
     "execution_count": 70,
     "metadata": {},
     "output_type": "execute_result"
    }
   ],
   "source": [
    "a=[1,2,3,4,5]\n",
    "b=[6,7,8,9,10]\n",
    "c=a+b\n",
    "c\n"
   ]
  },
  {
   "cell_type": "markdown",
   "id": "8595c4d1",
   "metadata": {},
   "source": [
    "-시퀀스 객체 *정수\n",
    "- 정수 * 시퀀스 객체"
   ]
  },
  {
   "cell_type": "code",
   "execution_count": 71,
   "id": "bfdcacae",
   "metadata": {},
   "outputs": [
    {
     "data": {
      "text/plain": [
       "[1, 2, 3, 1, 2, 3, 1, 2, 3]"
      ]
     },
     "execution_count": 71,
     "metadata": {},
     "output_type": "execute_result"
    }
   ],
   "source": [
    "3*[1,2,3]"
   ]
  },
  {
   "cell_type": "markdown",
   "id": "1205c3a4",
   "metadata": {},
   "source": [
    "-시퀀스 객체[인덱스] = 값\n",
    "- 위의 문법은 list 객체에서만 유효 , tuple ,range ,str에서는 요소 값을 변경할 수 없음"
   ]
  },
  {
   "cell_type": "markdown",
   "id": "55e8a943",
   "metadata": {},
   "source": [
    "- del 시퀀스객체[인덱스]\n",
    "- 위의 문법은 list 객체에서만 가능"
   ]
  },
  {
   "cell_type": "code",
   "execution_count": 72,
   "id": "51eb5c06",
   "metadata": {},
   "outputs": [
    {
     "ename": "TypeError",
     "evalue": "'str' object doesn't support item deletion",
     "output_type": "error",
     "traceback": [
      "\u001b[1;31m---------------------------------------------------------------------------\u001b[0m",
      "\u001b[1;31mTypeError\u001b[0m                                 Traceback (most recent call last)",
      "\u001b[1;32m<ipython-input-72-31e49a1f4834>\u001b[0m in \u001b[0;36m<module>\u001b[1;34m\u001b[0m\n\u001b[0;32m      1\u001b[0m \u001b[0ms\u001b[0m\u001b[1;33m=\u001b[0m\u001b[1;34m\"Hello\"\u001b[0m\u001b[1;33m\u001b[0m\u001b[1;33m\u001b[0m\u001b[0m\n\u001b[1;32m----> 2\u001b[1;33m \u001b[1;32mdel\u001b[0m \u001b[0ms\u001b[0m\u001b[1;33m[\u001b[0m\u001b[1;36m1\u001b[0m\u001b[1;33m]\u001b[0m\u001b[1;33m\u001b[0m\u001b[1;33m\u001b[0m\u001b[0m\n\u001b[0m",
      "\u001b[1;31mTypeError\u001b[0m: 'str' object doesn't support item deletion"
     ]
    }
   ],
   "source": [
    "s=\"Hello\"\n",
    "del s[1]"
   ]
  },
  {
   "cell_type": "markdown",
   "id": "41cf1d05",
   "metadata": {},
   "source": [
    "- 시퀀스객체[시작인덱스:끝인덱스]"
   ]
  },
  {
   "cell_type": "code",
   "execution_count": 74,
   "id": "821d6690",
   "metadata": {},
   "outputs": [
    {
     "data": {
      "text/plain": [
       "[10, 20, 30]"
      ]
     },
     "execution_count": 74,
     "metadata": {},
     "output_type": "execute_result"
    }
   ],
   "source": [
    "a=[10,20,30,40,50]\n",
    "a[0:3]\n"
   ]
  },
  {
   "cell_type": "code",
   "execution_count": 75,
   "id": "8bca60e0",
   "metadata": {},
   "outputs": [
    {
     "data": {
      "text/plain": [
       "[30, 40, 50]"
      ]
     },
     "execution_count": 75,
     "metadata": {},
     "output_type": "execute_result"
    }
   ],
   "source": [
    "a[2:] #마지막 생략 가능"
   ]
  },
  {
   "cell_type": "code",
   "execution_count": 76,
   "id": "73cdfa65",
   "metadata": {},
   "outputs": [
    {
     "data": {
      "text/plain": [
       "[10, 20, 30]"
      ]
     },
     "execution_count": 76,
     "metadata": {},
     "output_type": "execute_result"
    }
   ],
   "source": [
    "a[:3] #시작 생략가능"
   ]
  },
  {
   "cell_type": "code",
   "execution_count": 77,
   "id": "cb4424cb",
   "metadata": {},
   "outputs": [
    {
     "data": {
      "text/plain": [
       "[10, 20, 30, 40, 50]"
      ]
     },
     "execution_count": 77,
     "metadata": {},
     "output_type": "execute_result"
    }
   ],
   "source": [
    "a[:]#시작 인덱스 끝인덱스 생략하면 끝까지 "
   ]
  },
  {
   "cell_type": "code",
   "execution_count": 78,
   "id": "a3a98dd6",
   "metadata": {},
   "outputs": [
    {
     "data": {
      "text/plain": [
       "[40]"
      ]
     },
     "execution_count": 78,
     "metadata": {},
     "output_type": "execute_result"
    }
   ],
   "source": [
    "a[3:-1]"
   ]
  },
  {
   "cell_type": "markdown",
   "id": "ba9e09db",
   "metadata": {},
   "source": [
    "- 시퀀스객체[시작인덱스:끝인덱스:증가폭]\n"
   ]
  },
  {
   "cell_type": "code",
   "execution_count": 79,
   "id": "d734afb7",
   "metadata": {},
   "outputs": [
    {
     "data": {
      "text/plain": [
       "[0, 10, 20, 30, 40, 50, 60, 70, 80, 90]"
      ]
     },
     "execution_count": 79,
     "metadata": {},
     "output_type": "execute_result"
    }
   ],
   "source": [
    "a=list(range(0,100,10))\n",
    "a\n"
   ]
  },
  {
   "cell_type": "code",
   "execution_count": 80,
   "id": "0189923d",
   "metadata": {},
   "outputs": [
    {
     "data": {
      "text/plain": [
       "[0, 20, 40]"
      ]
     },
     "execution_count": 80,
     "metadata": {},
     "output_type": "execute_result"
    }
   ],
   "source": [
    "a[:5:2]"
   ]
  },
  {
   "cell_type": "code",
   "execution_count": 81,
   "id": "3e4b8ca7",
   "metadata": {},
   "outputs": [
    {
     "data": {
      "text/plain": [
       "[90, 80, 70, 60, 50, 40, 30, 20, 10, 0]"
      ]
     },
     "execution_count": 81,
     "metadata": {},
     "output_type": "execute_result"
    }
   ],
   "source": [
    "a[-1::-1]"
   ]
  },
  {
   "cell_type": "markdown",
   "id": "9f08a37b",
   "metadata": {},
   "source": [
    "# Workshop\n"
   ]
  },
  {
   "cell_type": "markdown",
   "id": "9cd6627f",
   "metadata": {},
   "source": [
    "**최근 3년간 인구 출력하기**\n",
    "- 리스트 year에 연도, population에 서울시 인구수가 저장되어 있습니다.\n",
    "- 아래 소스 코드를 완성하여 최근 3년간 연도와 인구수를 리스트로 출력되게 만드세요."
   ]
  },
  {
   "cell_type": "code",
   "execution_count": 82,
   "id": "0309cc8b",
   "metadata": {},
   "outputs": [],
   "source": [
    "year = [2011, 2012, 2013, 2014, 2015, 2016, 2017, 2018]\n",
    "population = [10249679, 10195318, 10143645, 10103233, 10022181, 9930616, 9857426, 9838892]"
   ]
  },
  {
   "cell_type": "code",
   "execution_count": 85,
   "id": "8781ca87",
   "metadata": {},
   "outputs": [
    {
     "data": {
      "text/plain": [
       "[2016, 2017, 2018]"
      ]
     },
     "execution_count": 85,
     "metadata": {},
     "output_type": "execute_result"
    }
   ],
   "source": [
    "year[len(year)-3:]"
   ]
  },
  {
   "cell_type": "code",
   "execution_count": 86,
   "id": "07140e57",
   "metadata": {},
   "outputs": [
    {
     "data": {
      "text/plain": [
       "[9930616, 9857426, 9838892]"
      ]
     },
     "execution_count": 86,
     "metadata": {},
     "output_type": "execute_result"
    }
   ],
   "source": [
    "population[len(population)-3:]"
   ]
  },
  {
   "cell_type": "markdown",
   "id": "5e4cb1fc",
   "metadata": {},
   "source": [
    "map: 일괄적용\n",
    "zip: 시퀀스 객체 두개에 대해서 짝을 지어줌 \n"
   ]
  },
  {
   "cell_type": "code",
   "execution_count": 100,
   "id": "5eb92c90",
   "metadata": {},
   "outputs": [
    {
     "data": {
      "text/plain": [
       "[(2016, 9930616), (2017, 9857426), (2018, 9838892)]"
      ]
     },
     "execution_count": 100,
     "metadata": {},
     "output_type": "execute_result"
    }
   ],
   "source": [
    "#year랑 population을 연결지어서 한꺼번에 출력할 수 있다\n",
    "list(zip(year[-3:],population[-3:]))\n"
   ]
  },
  {
   "cell_type": "code",
   "execution_count": 101,
   "id": "652c7a9c",
   "metadata": {},
   "outputs": [
    {
     "data": {
      "text/plain": [
       "{2016: 9930616, 2017: 9857426, 2018: 9838892}"
      ]
     },
     "execution_count": 101,
     "metadata": {},
     "output_type": "execute_result"
    }
   ],
   "source": [
    "dict((zip(year[-3:],population[-3:])))"
   ]
  },
  {
   "cell_type": "markdown",
   "id": "f2a3428d",
   "metadata": {},
   "source": [
    "**인덱스가 홀수인 요소 출력하기**\n",
    "- 다음 소스 코드를 완성하여 튜플 n에서 인덱스가 홀수인 요소들이 출력되게 만드세요."
   ]
  },
  {
   "cell_type": "code",
   "execution_count": 87,
   "id": "1a125756",
   "metadata": {},
   "outputs": [],
   "source": [
    "n = -32, 75, 97, -10, 9, 32, 4, -15, 0, 76, 14, 2\n"
   ]
  },
  {
   "cell_type": "code",
   "execution_count": 88,
   "id": "02068c2d",
   "metadata": {},
   "outputs": [
    {
     "data": {
      "text/plain": [
       "(75, -10, 32, -15, 76, 2)"
      ]
     },
     "execution_count": 88,
     "metadata": {},
     "output_type": "execute_result"
    }
   ],
   "source": [
    "n[1::2]"
   ]
  },
  {
   "cell_type": "markdown",
   "id": "f6787398",
   "metadata": {},
   "source": [
    "**리스트의 마지막 요소 5개 삭제하기**\n",
    "- 표준 입력으로 숫자 또는 문자열 여러개가 입력되어 리스트 x에 저장됩니다(입력되는 숫자 또는 문자열의 개수는 정해져 있지 않음).\n",
    "- 리스트 x의 마지막 요소 5개를 삭제한 뒤 튜플로 출력되게 만드세요."
   ]
  },
  {
   "cell_type": "code",
   "execution_count": 104,
   "id": "412e3f8e",
   "metadata": {},
   "outputs": [
    {
     "name": "stdout",
     "output_type": "stream",
     "text": [
      "1 2 3 4 5 6\n"
     ]
    },
    {
     "data": {
      "text/plain": [
       "('1',)"
      ]
     },
     "execution_count": 104,
     "metadata": {},
     "output_type": "execute_result"
    }
   ],
   "source": [
    "x=input().split()\n",
    "del x[-5:]\n",
    "x=tuple(x)\n",
    "x"
   ]
  },
  {
   "cell_type": "markdown",
   "id": "24bc43f6",
   "metadata": {},
   "source": [
    "# Workshop \n",
    "-  하나만 가져오는것  색인\n",
    "-  연속된 구간을 가져오는 것 슬라이싱\n"
   ]
  },
  {
   "cell_type": "markdown",
   "id": "7f12611f",
   "metadata": {},
   "source": [
    "**주민번호로 성별 구분하기**\n",
    "- 아래와 같은 홍길동씨의 주민번호를 대쉬(-) 기호 전후로 쪼개보자. 성별이 남자면 'male', 여자면 'female'을 출력하세요."
   ]
  },
  {
   "cell_type": "code",
   "execution_count": 120,
   "id": "84385018",
   "metadata": {},
   "outputs": [],
   "source": [
    "pin='881204-1068234'"
   ]
  },
  {
   "cell_type": "code",
   "execution_count": 121,
   "id": "9dc8cfae",
   "metadata": {},
   "outputs": [
    {
     "name": "stdout",
     "output_type": "stream",
     "text": [
      "male\n"
     ]
    }
   ],
   "source": [
    "pin=pin.split('-')\n",
    "if pin[1][0]=='1' :\n",
    "    print(\"male\") \n",
    "else :\n",
    "    print(\"female\")"
   ]
  },
  {
   "cell_type": "markdown",
   "id": "6866b058",
   "metadata": {},
   "source": [
    "**핸드폰 번호 가리기**\n",
    "- 전화번호가 문자열 phone_number로 주어졌을 때, 전화번호의 뒷 4자리를 제외한 나머지 숫자를 전부 *으로 가린 문자열을 출력하세요.\n",
    "- 제한 조건\n",
    "- s는 길이 4 이상, 20이하인 문자열입니다.\n",
    "- 입출력 예\n",
    "```\n",
    "phone_number 출력 문자열\n",
    "\"01033334444\" \"*******4444\"\n",
    "\"027778888\" \"*****8888\"\n",
    "```"
   ]
  },
  {
   "cell_type": "code",
   "execution_count": 125,
   "id": "11b4a9fe",
   "metadata": {},
   "outputs": [
    {
     "name": "stdout",
     "output_type": "stream",
     "text": [
      "027778888\n",
      "*****8888\n"
     ]
    }
   ],
   "source": [
    "s=input()\n",
    "length=len(s)\n",
    "s2=s[-4:]\n",
    "s1=\"*\"*(len(s)-4)\n",
    "s3=s1+s2\n",
    "print(s3)"
   ]
  },
  {
   "cell_type": "markdown",
   "id": "0b234ed8",
   "metadata": {},
   "source": [
    "# 딕셔너리 \n",
    "- 딕셔너리= {키:값1 , 키2:값2 ...}\n"
   ]
  },
  {
   "cell_type": "code",
   "execution_count": 126,
   "id": "c1b6804f",
   "metadata": {},
   "outputs": [],
   "source": [
    "year_pop={2016: 9930616, 2017: 9857426, 2018: 9838892}"
   ]
  },
  {
   "cell_type": "code",
   "execution_count": 127,
   "id": "6397ea70",
   "metadata": {},
   "outputs": [
    {
     "data": {
      "text/plain": [
       "dict"
      ]
     },
     "execution_count": 127,
     "metadata": {},
     "output_type": "execute_result"
    }
   ],
   "source": [
    "type(year_pop)"
   ]
  },
  {
   "cell_type": "code",
   "execution_count": 128,
   "id": "2ba95b01",
   "metadata": {},
   "outputs": [],
   "source": [
    "# 딕셔너리에서는 어떤 값을 찾아가기 위한 유일한 수단이 '키' 가 됨\n",
    "#Note 리스트 , 튜플, 문자열 등에서는 어떤 값을 찾아가기 위해 원소의 위치를 직접 계산했음\n",
    "#키는 중복이 불가능하다 .\n",
    "#딕셔너리는 순서가 있는 자료형이 아니다"
   ]
  },
  {
   "cell_type": "code",
   "execution_count": 129,
   "id": "8d3e0255",
   "metadata": {},
   "outputs": [],
   "source": [
    "year_pop={2016: 9930616, 2017: 9857426, 2018: 9838892, 2016:100000}\n",
    "#아래와 같이 (2016)을 중복해도 문법적 오류는 안나지만 중복된 키값으로 색인했을 때 올바른 값을 얻을 수 없음\n"
   ]
  },
  {
   "cell_type": "code",
   "execution_count": 131,
   "id": "b55be854",
   "metadata": {},
   "outputs": [
    {
     "data": {
      "text/plain": [
       "100000"
      ]
     },
     "execution_count": 131,
     "metadata": {},
     "output_type": "execute_result"
    }
   ],
   "source": [
    "year_pop[2016]"
   ]
  },
  {
   "cell_type": "code",
   "execution_count": 132,
   "id": "ffdbcddb",
   "metadata": {},
   "outputs": [],
   "source": [
    "#딕셔너리의 키 : 문자열, 실수 , 부울, 튜플 등 사용할 수 있음\n",
    "#딕셔너리의 값: 리스트, 딕셔너리 포함에서 모든 자료형을 사용할 수 있음\n",
    "#딕셔너리의 키 값으로는 읽기만 가능한 자료형이 와야함 (리스트, 딕셔너리 올 수 없음)"
   ]
  },
  {
   "cell_type": "code",
   "execution_count": 133,
   "id": "450389ba",
   "metadata": {},
   "outputs": [],
   "source": [
    "lux={'health':490, 'melee':500,'armor':18.72}"
   ]
  },
  {
   "cell_type": "code",
   "execution_count": 134,
   "id": "ae82b21a",
   "metadata": {},
   "outputs": [
    {
     "data": {
      "text/plain": [
       "dict"
      ]
     },
     "execution_count": 134,
     "metadata": {},
     "output_type": "execute_result"
    }
   ],
   "source": [
    "type(lux)"
   ]
  },
  {
   "cell_type": "code",
   "execution_count": 135,
   "id": "c16a9ff6",
   "metadata": {},
   "outputs": [],
   "source": [
    "lux={(1,2):490, 'melee':500,'armor':18.72}"
   ]
  },
  {
   "cell_type": "code",
   "execution_count": 136,
   "id": "c8302f3f",
   "metadata": {},
   "outputs": [
    {
     "data": {
      "text/plain": [
       "{(1, 2): 490, 'melee': 500, 'armor': 18.72}"
      ]
     },
     "execution_count": 136,
     "metadata": {},
     "output_type": "execute_result"
    }
   ],
   "source": [
    "lux"
   ]
  },
  {
   "cell_type": "code",
   "execution_count": 137,
   "id": "1690818d",
   "metadata": {},
   "outputs": [
    {
     "data": {
      "text/plain": [
       "490"
      ]
     },
     "execution_count": 137,
     "metadata": {},
     "output_type": "execute_result"
    }
   ],
   "source": [
    "lux[(1,2)]"
   ]
  },
  {
   "cell_type": "markdown",
   "id": "c8a27017",
   "metadata": {},
   "source": [
    "**빈 딕셔너리 만들기**\n",
    "- 딕셔너리 {}\n",
    "- 딕셔너리 =dict()"
   ]
  },
  {
   "cell_type": "code",
   "execution_count": 138,
   "id": "185f4bef",
   "metadata": {},
   "outputs": [
    {
     "data": {
      "text/plain": [
       "dict"
      ]
     },
     "execution_count": 138,
     "metadata": {},
     "output_type": "execute_result"
    }
   ],
   "source": [
    "x=dict()\n",
    "type(x)"
   ]
  },
  {
   "cell_type": "code",
   "execution_count": 139,
   "id": "154710ab",
   "metadata": {},
   "outputs": [
    {
     "data": {
      "text/plain": [
       "dict"
      ]
     },
     "execution_count": 139,
     "metadata": {},
     "output_type": "execute_result"
    }
   ],
   "source": [
    "x={}\n",
    "type(x)"
   ]
  },
  {
   "cell_type": "markdown",
   "id": "022424e6",
   "metadata": {},
   "source": [
    "**dict() 로 딕셔너리 만들기\n",
    "- 딕셔너리 = dict(zip[키1,키2],[값1,값2])\n",
    "- 딕셔너리 = dict([(키1,값1),(키2,값2)])"
   ]
  },
  {
   "cell_type": "code",
   "execution_count": 144,
   "id": "896dc0f9",
   "metadata": {},
   "outputs": [],
   "source": [
    "lux=dict(zip(['health','melee','armor'],[490,500,18.72]))"
   ]
  },
  {
   "cell_type": "code",
   "execution_count": 145,
   "id": "4b8fe458",
   "metadata": {},
   "outputs": [
    {
     "data": {
      "text/plain": [
       "{'health': 490, 'melee': 500, 'armor': 18.72}"
      ]
     },
     "execution_count": 145,
     "metadata": {},
     "output_type": "execute_result"
    }
   ],
   "source": [
    "dict([('health',490),('melee',500),('armor',18.72)])"
   ]
  },
  {
   "cell_type": "markdown",
   "id": "a8c75531",
   "metadata": {},
   "source": [
    "**딕셔너리의 키로 값 조회하기 \n",
    "- 딕셔너리[키]"
   ]
  },
  {
   "cell_type": "code",
   "execution_count": 146,
   "id": "65a514c2",
   "metadata": {},
   "outputs": [
    {
     "data": {
      "text/plain": [
       "490"
      ]
     },
     "execution_count": 146,
     "metadata": {},
     "output_type": "execute_result"
    }
   ],
   "source": [
    "lux['health']"
   ]
  },
  {
   "cell_type": "code",
   "execution_count": 148,
   "id": "30db23fe",
   "metadata": {},
   "outputs": [],
   "source": [
    "lux['attack_speed']=500"
   ]
  },
  {
   "cell_type": "markdown",
   "id": "f6b25867",
   "metadata": {},
   "source": [
    "**딕셔너리에 키가 있는지 확인할때**\n",
    "- 키 in 딕셔너리"
   ]
  },
  {
   "cell_type": "code",
   "execution_count": 149,
   "id": "dda1bf5b",
   "metadata": {},
   "outputs": [
    {
     "data": {
      "text/plain": [
       "True"
      ]
     },
     "execution_count": 149,
     "metadata": {},
     "output_type": "execute_result"
    }
   ],
   "source": [
    "'health' in lux"
   ]
  },
  {
   "cell_type": "code",
   "execution_count": 150,
   "id": "85f527df",
   "metadata": {},
   "outputs": [
    {
     "data": {
      "text/plain": [
       "False"
      ]
     },
     "execution_count": 150,
     "metadata": {},
     "output_type": "execute_result"
    }
   ],
   "source": [
    "'power' in lux"
   ]
  },
  {
   "cell_type": "markdown",
   "id": "bb157a44",
   "metadata": {},
   "source": [
    "# Workshop \n",
    "**교통 카드 시스템 만들기**\n",
    "표준 입력으로 나이(만 나이)가 입력됩니다(입력 값은 7 이상 입력됨). 교통카드 시스템에서 시내버스 요금은 다음과 같으며 각 나이에 맞게 요금을 차감한 뒤 잔액이 출력되게 만드세요(if, elif 사용). 현재 교통카드에는 9,000원이 들어있습니다.\n",
    "- 어린이(초등학생, 만 7세 이상 12세 이하): 650원\n",
    "- 청소년(중∙고등학생, 만 13세 이상 18세 이하): 1,050원\n",
    "- 어른(일반, 만 19세 이상): 1,250원\n",
    "```\n",
    "age = int(input())\n",
    "balance = 9000 # 교통카드 잔액\n",
    "________________\n",
    "________________\n",
    "________________\n",
    "print(balance)\n",
    "```"
   ]
  },
  {
   "cell_type": "code",
   "execution_count": 168,
   "id": "58c3f0cf",
   "metadata": {},
   "outputs": [
    {
     "name": "stdout",
     "output_type": "stream",
     "text": [
      "13\n",
      "7950\n"
     ]
    }
   ],
   "source": [
    "age=int(input())\n",
    "balnace=9000\n",
    "if age>=7 and age<=12 :\n",
    "    balnace-=650\n",
    "elif 13<= age <=18 :\n",
    "    balnace-=1050\n",
    "else:\n",
    "    balnace-=1250\n",
    "print(balnace)"
   ]
  },
  {
   "cell_type": "markdown",
   "id": "1a30f75f",
   "metadata": {},
   "source": [
    "**게임 캐릭터 능력 저장**\n",
    "- 표준 입력으로 문자열 여러 개와 숫자(실수) 여러 개가 두 줄로 입력됩니다. 입력된 첫 번째 줄은 키, 두 번째 줄은 값으로 하여 딕셔너리를 생성한 뒤 딕셔너리를 출력하는 프로그램을 만드세요. input().split()의 결과를 변수 한개에 저장하면 리스트로 저장됩니다.\n",
    "```\n",
    "(입력예)\n",
    "health health_regen mana mana_regen\n",
    "575.6 1.7 338.8 1.63\n",
    "(결과)\n",
    "{'health':575.6, 'health_regen':1.7, 'mana':338.8, 'mana_regen':1.63}\n",
    "```"
   ]
  },
  {
   "cell_type": "code",
   "execution_count": 165,
   "id": "2fa21738",
   "metadata": {},
   "outputs": [
    {
     "name": "stdout",
     "output_type": "stream",
     "text": [
      "health health_regen mana mana_regen\n",
      "575.6 1.7 338.8 1.63\n",
      "{'health': 575.6, 'health_regen': 1.7, 'mana': 338.8, 'mana_regen': 1.63}\n"
     ]
    }
   ],
   "source": [
    "key = input().split()\n",
    "value= list(map(float,input().split()))\n",
    "key_value=dict(zip(key,value))\n",
    "print(key_value)"
   ]
  },
  {
   "cell_type": "code",
   "execution_count": 164,
   "id": "81a3985c",
   "metadata": {},
   "outputs": [
    {
     "name": "stdout",
     "output_type": "stream",
     "text": [
      "{'health': 575.6, 'health_regen': 1.7, 'mana': 338.8, 'mana_regen': 1.63}\n"
     ]
    }
   ],
   "source": []
  },
  {
   "cell_type": "code",
   "execution_count": null,
   "id": "9f31a210",
   "metadata": {},
   "outputs": [],
   "source": []
  }
 ],
 "metadata": {
  "kernelspec": {
   "display_name": "Python 3",
   "language": "python",
   "name": "python3"
  },
  "language_info": {
   "codemirror_mode": {
    "name": "ipython",
    "version": 3
   },
   "file_extension": ".py",
   "mimetype": "text/x-python",
   "name": "python",
   "nbconvert_exporter": "python",
   "pygments_lexer": "ipython3",
   "version": "3.8.8"
  }
 },
 "nbformat": 4,
 "nbformat_minor": 5
}
