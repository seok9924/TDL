{
 "cells": [
  {
   "cell_type": "markdown",
   "id": "7cb772d6",
   "metadata": {},
   "source": [
    "# for와 range 사용하기"
   ]
  },
  {
   "cell_type": "code",
   "execution_count": 1,
   "id": "6c16090d",
   "metadata": {},
   "outputs": [
    {
     "name": "stdout",
     "output_type": "stream",
     "text": [
      "hello world\n",
      "hello world\n",
      "hello world\n",
      "hello world\n",
      "hello world\n",
      "hello world\n",
      "hello world\n",
      "hello world\n",
      "hello world\n",
      "hello world\n"
     ]
    }
   ],
   "source": [
    "for i in range(10):\n",
    "    print(\"hello world\")"
   ]
  },
  {
   "cell_type": "markdown",
   "id": "bd3b29ed",
   "metadata": {},
   "source": [
    "```\n",
    "for 변수 in range (시작,끝,증가폭):\n",
    "    반복코드\n",
    "```"
   ]
  },
  {
   "cell_type": "code",
   "execution_count": 4,
   "id": "a5bc2983",
   "metadata": {},
   "outputs": [
    {
     "name": "stdout",
     "output_type": "stream",
     "text": [
      "hello\n",
      "hello\n",
      "hello\n",
      "hello\n",
      "hello\n"
     ]
    }
   ],
   "source": [
    "for i in range(0,10,2):\n",
    "    print('hello')"
   ]
  },
  {
   "cell_type": "code",
   "execution_count": 5,
   "id": "27b4f678",
   "metadata": {},
   "outputs": [
    {
     "name": "stdout",
     "output_type": "stream",
     "text": [
      "Hello World 10\n",
      "Hello World 9\n",
      "Hello World 8\n",
      "Hello World 7\n",
      "Hello World 6\n",
      "Hello World 5\n",
      "Hello World 4\n",
      "Hello World 3\n",
      "Hello World 2\n",
      "Hello World 1\n"
     ]
    }
   ],
   "source": [
    "for i in range(10,0,-1):\n",
    "    print(\"Hello World\", i)"
   ]
  },
  {
   "cell_type": "markdown",
   "id": "d65c82cb",
   "metadata": {},
   "source": [
    "for 변수 1, 변수 2 in enumerate(range(0,10,2)):\n",
    "    print(\"hello\")\n",
    "인덱스에 해당하는게 변수1, 에 값에 해당하는게 변수2로 감\n",
    "    "
   ]
  },
  {
   "cell_type": "code",
   "execution_count": 6,
   "id": "43b9190c",
   "metadata": {},
   "outputs": [
    {
     "name": "stdout",
     "output_type": "stream",
     "text": [
      "Hello World 0 0\n",
      "Hello World 1 2\n",
      "Hello World 2 4\n",
      "Hello World 3 6\n",
      "Hello World 4 8\n"
     ]
    }
   ],
   "source": [
    "# 참고 enumerate는 시퀀스 객체의 값뿐만 아니라 인덱스까지 반환해줌\n",
    "for i,v in enumerate(range(0,10,2)):\n",
    "    print(\"Hello World\",i,v)"
   ]
  },
  {
   "cell_type": "markdown",
   "id": "f76446e9",
   "metadata": {},
   "source": [
    "- for 변수 in 시퀀스 객체"
   ]
  },
  {
   "cell_type": "code",
   "execution_count": 7,
   "id": "45c4246a",
   "metadata": {},
   "outputs": [
    {
     "name": "stdout",
     "output_type": "stream",
     "text": [
      "H\n",
      "e\n",
      "l\n",
      "l\n",
      "o\n"
     ]
    }
   ],
   "source": [
    "for i in \"Hello\" :\n",
    "    print(i)"
   ]
  },
  {
   "cell_type": "code",
   "execution_count": 8,
   "id": "299863a9",
   "metadata": {},
   "outputs": [
    {
     "name": "stdout",
     "output_type": "stream",
     "text": [
      "1\n",
      "2\n",
      "3\n"
     ]
    }
   ],
   "source": [
    "for i in [1,2,3]:\n",
    "    print(i)"
   ]
  },
  {
   "cell_type": "code",
   "execution_count": 9,
   "id": "abbfdf47",
   "metadata": {},
   "outputs": [
    {
     "name": "stdout",
     "output_type": "stream",
     "text": [
      "1\n",
      "2\n",
      "3\n"
     ]
    }
   ],
   "source": [
    "for i in (1,2,3):\n",
    "    print(i)"
   ]
  },
  {
   "cell_type": "code",
   "execution_count": 15,
   "id": "1db5e173",
   "metadata": {},
   "outputs": [
    {
     "name": "stdout",
     "output_type": "stream",
     "text": [
      "0 H\n",
      "1 e\n",
      "2 l\n",
      "3 l\n",
      "4 o\n"
     ]
    }
   ],
   "source": [
    "for i,v in enumerate(\"Hello\"):\n",
    "    print(i,v)"
   ]
  },
  {
   "cell_type": "markdown",
   "id": "92ad574c",
   "metadata": {},
   "source": [
    "''' \n",
    "for i in reversed(시퀀스객체):\n",
    "    반복코드\n",
    "```"
   ]
  },
  {
   "cell_type": "code",
   "execution_count": 16,
   "id": "d039fe73",
   "metadata": {},
   "outputs": [
    {
     "name": "stdout",
     "output_type": "stream",
     "text": [
      "3\n",
      "2\n",
      "1\n"
     ]
    }
   ],
   "source": [
    "for i in reversed((1,2,3)):\n",
    "    print(i)"
   ]
  },
  {
   "cell_type": "code",
   "execution_count": 17,
   "id": "56765799",
   "metadata": {},
   "outputs": [
    {
     "name": "stdout",
     "output_type": "stream",
     "text": [
      "n\n",
      "o\n",
      "h\n",
      "t\n",
      "y\n",
      "P\n"
     ]
    }
   ],
   "source": [
    "for i in reversed(\"Python\"):\n",
    "    print(i)"
   ]
  },
  {
   "cell_type": "markdown",
   "id": "93865ec4",
   "metadata": {},
   "source": [
    "# Workshop"
   ]
  },
  {
   "cell_type": "markdown",
   "id": "ae092dfc",
   "metadata": {},
   "source": [
    "**구구단 출력 프로그램**\n",
    "- 표준 입력으로 정수가 입력됩니다. 입력된 정수의 구구단을 출력하는 프로그램을 만드세요(input에서 안내 문자열은 출력하지 않아야 합니다). 출력형식은 숫자 * 숫자 = 숫자 처럼 만들고 숫자와 *, = 사이는 공백을 한칸 띄웁니다.\n",
    "\n",
    "```\n",
    "입력 예\n",
    "2\n",
    "\n",
    "결과\n",
    "2 * 1 = 2\n",
    "2 * 2 = 4\n",
    "2 * 3 = 6\n",
    "2 * 4 = 8\n",
    "2 * 5 = 10\n",
    "2 * 6 = 12\n",
    "2 * 7 = 14\n",
    "2 * 8 = 16\n",
    "2 * 9 = 18\n",
    "```\n"
   ]
  },
  {
   "cell_type": "code",
   "execution_count": 20,
   "id": "670d175b",
   "metadata": {},
   "outputs": [
    {
     "name": "stdout",
     "output_type": "stream",
     "text": [
      "3\n"
     ]
    }
   ],
   "source": [
    "x=int(input())"
   ]
  },
  {
   "cell_type": "code",
   "execution_count": 32,
   "id": "a3acaec9",
   "metadata": {},
   "outputs": [
    {
     "name": "stdout",
     "output_type": "stream",
     "text": [
      "3* 1* 3\n",
      "3* 2* 6\n",
      "3* 3* 9\n",
      "3* 4* 12\n",
      "3* 5* 15\n",
      "3* 6* 18\n",
      "3* 7* 21\n",
      "3* 8* 24\n",
      "3* 9* 27\n"
     ]
    }
   ],
   "source": [
    "for i in range(1,10):\n",
    "    \n",
    "#      print(x,\"*\",i,\"=\",x*i)\n",
    "#    print(\"%d * %d = %d\" %(x,i,x*i))\n",
    "    print(\"{}* {}= {}\".format(x,i,x*i)) #0, 1, 2 가 생략되어있음 안쓰면 차례대로 "
   ]
  },
  {
   "cell_type": "code",
   "execution_count": 34,
   "id": "8a14406b",
   "metadata": {},
   "outputs": [
    {
     "name": "stdout",
     "output_type": "stream",
     "text": [
      "3*1=3\n",
      "3*2=6\n",
      "3*3=9\n",
      "3*4=12\n",
      "3*5=15\n",
      "3*6=18\n",
      "3*7=21\n",
      "3*8=24\n",
      "3*9=27\n"
     ]
    }
   ],
   "source": [
    "for y in range(1,10):\n",
    "    print(f\"{x}*{y}={x*y}\")"
   ]
  },
  {
   "cell_type": "code",
   "execution_count": 247,
   "id": "7d6b2f77",
   "metadata": {},
   "outputs": [
    {
     "name": "stdout",
     "output_type": "stream",
     "text": [
      "4\n",
      "6\n",
      "6\n",
      "5\n",
      "2\n",
      "6\n",
      "5\n",
      "3\n"
     ]
    }
   ],
   "source": [
    "import random\n",
    "num=0\n",
    "while num!=3:\n",
    "    num=random.randrange(1,7)\n",
    "    print(num)\n"
   ]
  },
  {
   "cell_type": "markdown",
   "id": "79f4448b",
   "metadata": {},
   "source": [
    "# WorkShop"
   ]
  },
  {
   "cell_type": "markdown",
   "id": "6f0ccfac",
   "metadata": {},
   "source": [
    "주사위 던지고 눈을 출력하는 동작을 계속 반복하다가\n",
    "\"3\"이 나왔을때 멈추기"
   ]
  },
  {
   "cell_type": "code",
   "execution_count": 35,
   "id": "5e70f955",
   "metadata": {},
   "outputs": [],
   "source": [
    "import random\n"
   ]
  },
  {
   "cell_type": "code",
   "execution_count": 38,
   "id": "672473af",
   "metadata": {},
   "outputs": [
    {
     "name": "stdout",
     "output_type": "stream",
     "text": [
      "3\n"
     ]
    }
   ],
   "source": [
    "x=random.randint(1,6)\n",
    "while (x!=3):\n",
    "    x=random.randint(1,6)\n",
    "    \n",
    "print(x)"
   ]
  },
  {
   "cell_type": "markdown",
   "id": "1faee3a2",
   "metadata": {},
   "source": [
    "교통카드 잔액 출력하기\n",
    "\n",
    "표준입력으로 금액(정수)이 입력됩니다. 1회당 요금은 1,350이고, 교통카드를 사용했을 때마다의 잔액을 각 줄에 출력하는 프로그램을 만드세요(input에서 안내 문자열은 출려갛지 않아야 합니다). 단, 최초 금액은 출력하지 않아야 합니다. 그리고 잔액은 음수가 될 수 없으며 잔액이 부족하면 출력을 끝냅니다."
   ]
  },
  {
   "cell_type": "code",
   "execution_count": 43,
   "id": "c62325c0",
   "metadata": {},
   "outputs": [
    {
     "name": "stdout",
     "output_type": "stream",
     "text": [
      "5000\n",
      "3650\n",
      "2300\n",
      "950\n"
     ]
    }
   ],
   "source": [
    "x=int(input())\n",
    "charge=1350\n",
    "\n",
    "while(x>1350):\n",
    "    x-=charge\n",
    "    print(x)"
   ]
  },
  {
   "cell_type": "markdown",
   "id": "d79537b3",
   "metadata": {},
   "source": [
    "** **굵은 텍스트**3으로 끝나는 숫자만 출력하기**\n",
    "- 0과 73 사이의 숫자 중 3으로 끝나는 숫자만 출력되게 만드세요.\n",
    "```\n",
    "출력예\n",
    "3 13 23 33 43 53 63 73 \n",
    "```\n"
   ]
  },
  {
   "cell_type": "code",
   "execution_count": 60,
   "id": "3e57761f",
   "metadata": {
    "scrolled": true
   },
   "outputs": [
    {
     "name": "stdout",
     "output_type": "stream",
     "text": [
      "3\n",
      "13\n",
      "23\n",
      "33\n",
      "43\n",
      "53\n",
      "63\n",
      "73\n"
     ]
    }
   ],
   "source": [
    "for i in range(74):\n",
    "    if(i%10)==3 :\n",
    "        print(i)"
   ]
  },
  {
   "cell_type": "code",
   "execution_count": 59,
   "id": "f5c717c3",
   "metadata": {},
   "outputs": [
    {
     "name": "stdout",
     "output_type": "stream",
     "text": [
      "3\n",
      "13\n",
      "23\n",
      "33\n",
      "43\n",
      "53\n",
      "63\n",
      "73\n"
     ]
    }
   ],
   "source": [
    "x=0\n",
    "while x<74:\n",
    "    if x%10==3  :\n",
    "        print(x)\n",
    "    x+=1"
   ]
  },
  {
   "cell_type": "code",
   "execution_count": 64,
   "id": "4d96f629",
   "metadata": {},
   "outputs": [
    {
     "name": "stdout",
     "output_type": "stream",
     "text": [
      "0\n",
      "1\n",
      "2\n",
      "3\n",
      "4\n",
      "5\n",
      "6\n",
      "7\n",
      "8\n",
      "9\n",
      "-----------------\n",
      "1\n",
      "3\n"
     ]
    }
   ],
   "source": [
    "# break 문 소개 \n",
    "i=0\n",
    "while True :\n",
    "    print(i)\n",
    "    i+=1\n",
    "    if i==10:\n",
    "        break\n",
    "print(\"-----------------\")\n",
    "# continue 소개\n",
    "for i in range(5) :\n",
    "    if i%2==0:\n",
    "        continue\n",
    "    print(i)\n"
   ]
  },
  {
   "cell_type": "code",
   "execution_count": 65,
   "id": "4986aedd",
   "metadata": {},
   "outputs": [
    {
     "name": "stdout",
     "output_type": "stream",
     "text": [
      "3 13 23 33 43 53 63 73 "
     ]
    }
   ],
   "source": [
    "i=0\n",
    "while True:\n",
    "    if i% 10!=3:\n",
    "        i+=1\n",
    "        continue\n",
    "    if i>73:\n",
    "        break\n",
    "    print(i, end=\" \")\n",
    "    i+=1"
   ]
  },
  {
   "cell_type": "markdown",
   "id": "38b7ab96",
   "metadata": {},
   "source": [
    "**알파벳별 빈도 사전 등록**\n",
    "- 다음의 주어진 문자열 s에서 알파벳 별 빈도를 사전형인 d에 등록하는 파이썬 코드블럭을 작성하시오. \n",
    "\n",
    "```\n",
    "s = ‘life is short, so python is easy.’ \n",
    "punct = ‘,. ’ \n",
    "d = {} \n",
    "\n",
    "결과 print(d) (순서는 상관 없음)\n",
    "{'a': 1, 'e': 2, 'f': 1, 'i': 3, 'h': 2, 'l': 1, 'o': 3, 'n': 1, 'p': 1, 's': 5, 'r': 1, 't': 2, 'y': 2}\n"
   ]
  },
  {
   "cell_type": "code",
   "execution_count": 58,
   "id": "9b89adad",
   "metadata": {},
   "outputs": [
    {
     "name": "stdout",
     "output_type": "stream",
     "text": [
      "{'a': 1, 'e': 2, 'f': 1, 'h': 2, 'i': 3, 'l': 1, 'n': 1, 'o': 3, 'p': 1, 'r': 1, 's': 5, 't': 2, 'y': 2}\n"
     ]
    }
   ],
   "source": [
    "s = \"life is short, so python is easy.\"\n",
    "alpha=\"abcdefghijklmnopqrstuvwxyz\"\n",
    "d={}\n",
    "for a in alpha :\n",
    "    if a in s :\n",
    "        d[a]=s.count(a)\n",
    "print(d)"
   ]
  },
  {
   "cell_type": "code",
   "execution_count": 71,
   "id": "7c0ae38d",
   "metadata": {},
   "outputs": [
    {
     "name": "stdout",
     "output_type": "stream",
     "text": [
      "{'l': 1, 'i': 3, 'f': 1, 'e': 2, 's': 5, 'h': 2, 'o': 3, 'r': 1, 't': 2, 'p': 1, 'y': 2, 'n': 1, 'a': 1}\n"
     ]
    }
   ],
   "source": [
    "s = \"life is short, so python is easy.\"\n",
    "punct=',. '\n",
    "d2={}\n",
    "for c in s:\n",
    "    if c in punct:\n",
    "        continue\n",
    "    if c not in d2:\n",
    "        d2[c]=0 # 0으로 초기화 해주고 \n",
    "    if c in d2:\n",
    "        d2[c]+=1\n",
    "print(d2)\n",
    "    "
   ]
  },
  {
   "cell_type": "markdown",
   "id": "29deb5c4",
   "metadata": {},
   "source": [
    "# 중첩루프 사용하기"
   ]
  },
  {
   "cell_type": "code",
   "execution_count": 80,
   "id": "492fa7d6",
   "metadata": {},
   "outputs": [
    {
     "name": "stdout",
     "output_type": "stream",
     "text": [
      "* * * * * \n",
      "* * * * * \n",
      "* * * * * \n",
      "* * * * * \n",
      "* * * * * \n",
      "* * * * * \n",
      "* * * * * \n",
      "* * * * * \n",
      "* * * * * \n",
      "* * * * * \n"
     ]
    }
   ],
   "source": [
    "for i in range(10) :\n",
    "    \n",
    "    for j in range(5) :\n",
    "        print(\"*\",end=\" \")\n",
    "    print()"
   ]
  },
  {
   "cell_type": "code",
   "execution_count": 120,
   "id": "db8904e1",
   "metadata": {},
   "outputs": [
    {
     "name": "stdout",
     "output_type": "stream",
     "text": [
      "*\n",
      "**\n",
      "***\n",
      "****\n",
      "*****\n"
     ]
    }
   ],
   "source": [
    "# 계단식으로 별 출력하기\n",
    "\n",
    "for i in range(1,6):\n",
    "    for j in range(i):\n",
    "        print(\"*\",end='')\n",
    "    print()"
   ]
  },
  {
   "cell_type": "code",
   "execution_count": 102,
   "id": "a208c7ce",
   "metadata": {},
   "outputs": [
    {
     "name": "stdout",
     "output_type": "stream",
     "text": [
      "*****\n",
      "****\n",
      "***\n",
      "**\n",
      "*\n"
     ]
    }
   ],
   "source": [
    "# 역계단식으로 별 출력하기\n",
    "for i in range(5,0,-1):\n",
    "    for j in range(i):\n",
    "        print(\"*\",end='')\n",
    "    print()"
   ]
  },
  {
   "cell_type": "code",
   "execution_count": 132,
   "id": "05fa5c81",
   "metadata": {},
   "outputs": [
    {
     "name": "stdout",
     "output_type": "stream",
     "text": [
      "*****\n",
      " ****\n",
      "  ***\n",
      "   **\n",
      "    *\n"
     ]
    }
   ],
   "source": [
    "for i in range(5,0,-1):\n",
    "    for k in range(5-i):\n",
    "        print(\" \",end=\"\")\n",
    "    for j in range(i):\n",
    "        print(\"*\",end=\"\")\n",
    "    print()"
   ]
  },
  {
   "cell_type": "code",
   "execution_count": 138,
   "id": "49feff2c",
   "metadata": {
    "scrolled": true
   },
   "outputs": [
    {
     "name": "stdout",
     "output_type": "stream",
     "text": [
      "    *\n",
      "   ***\n",
      "  *****\n",
      " *******\n",
      "*********\n"
     ]
    }
   ],
   "source": [
    "#별로 산만들기\n",
    "for i in range(0,5):\n",
    "    k=4-i\n",
    "    print(\" \"*k,end=\"\")\n",
    "    for j in range(2*i+1):\n",
    "        print(\"*\",end=\"\")\n",
    "    print()"
   ]
  },
  {
   "cell_type": "code",
   "execution_count": 134,
   "id": "b582cda1",
   "metadata": {},
   "outputs": [
    {
     "name": "stdout",
     "output_type": "stream",
     "text": [
      "    *\n",
      "   ***\n",
      "  *****\n",
      " *******\n",
      "*********\n"
     ]
    }
   ],
   "source": [
    "for i in range(5):\n",
    "    for j in range(4-i): \n",
    "        print(\" \",end=\"\")\n",
    "    for k in range(2*i+1):\n",
    "        print(\"*\",end=\"\")\n",
    "    print()"
   ]
  },
  {
   "cell_type": "markdown",
   "id": "fed200a9",
   "metadata": {},
   "source": [
    "FizzBuzz 문제\n",
    "\n",
    "- 1에서 100까지 출력\n",
    "- 3의 배수는 Fizz 출력\n",
    "- 5의 배수는 Buzz 출력\n",
    "- 3과 5의 공배수는 FizzBuzz 출력\n"
   ]
  },
  {
   "cell_type": "code",
   "execution_count": 144,
   "id": "8b5cd67d",
   "metadata": {},
   "outputs": [
    {
     "name": "stdout",
     "output_type": "stream",
     "text": [
      "1\n",
      "2\n",
      "Fizz\n",
      "4\n",
      "Buzz\n",
      "Fizz\n",
      "7\n",
      "8\n",
      "Fizz\n",
      "Buzz\n",
      "11\n",
      "Fizz\n",
      "13\n",
      "14\n",
      "FizzBuzz\n",
      "16\n",
      "17\n",
      "Fizz\n",
      "19\n",
      "Buzz\n",
      "Fizz\n",
      "22\n",
      "23\n",
      "Fizz\n",
      "Buzz\n",
      "26\n",
      "Fizz\n",
      "28\n",
      "29\n",
      "FizzBuzz\n",
      "31\n",
      "32\n",
      "Fizz\n",
      "34\n",
      "Buzz\n",
      "Fizz\n",
      "37\n",
      "38\n",
      "Fizz\n",
      "Buzz\n",
      "41\n",
      "Fizz\n",
      "43\n",
      "44\n",
      "FizzBuzz\n",
      "46\n",
      "47\n",
      "Fizz\n",
      "49\n",
      "Buzz\n",
      "Fizz\n",
      "52\n",
      "53\n",
      "Fizz\n",
      "Buzz\n",
      "56\n",
      "Fizz\n",
      "58\n",
      "59\n",
      "FizzBuzz\n",
      "61\n",
      "62\n",
      "Fizz\n",
      "64\n",
      "Buzz\n",
      "Fizz\n",
      "67\n",
      "68\n",
      "Fizz\n",
      "Buzz\n",
      "71\n",
      "Fizz\n",
      "73\n",
      "74\n",
      "FizzBuzz\n",
      "76\n",
      "77\n",
      "Fizz\n",
      "79\n",
      "Buzz\n",
      "Fizz\n",
      "82\n",
      "83\n",
      "Fizz\n",
      "Buzz\n",
      "86\n",
      "Fizz\n",
      "88\n",
      "89\n",
      "FizzBuzz\n",
      "91\n",
      "92\n",
      "Fizz\n",
      "94\n",
      "Buzz\n",
      "Fizz\n",
      "97\n",
      "98\n",
      "Fizz\n",
      "Buzz\n"
     ]
    }
   ],
   "source": [
    "for i in range(1,101):\n",
    "    \n",
    "    if i%3==0 and i%5==0:\n",
    "        print(\"FizzBuzz\")\n",
    "        \n",
    "    elif i%3==0 :\n",
    "        print(\"Fizz\")\n",
    "        \n",
    "    elif i%5==0 :\n",
    "        print(\"Buzz\")\n",
    "    else:\n",
    "        print(i) "
   ]
  },
  {
   "cell_type": "code",
   "execution_count": null,
   "id": "dd15c455",
   "metadata": {},
   "outputs": [],
   "source": []
  },
  {
   "cell_type": "markdown",
   "id": "dfb670c5",
   "metadata": {},
   "source": [
    "# Workshop\n"
   ]
  },
  {
   "cell_type": "markdown",
   "id": "f8134bac",
   "metadata": {},
   "source": [
    "**리스트에서 특정 요소만 뽑아내기**\n",
    "- 리스트 a에 들어있는 문자열 중에서 길이가 5인 것들만 리스트 형태로 출력되게 만드세요\n",
    "- a = ['alpha', 'bravo', 'charlie', 'delta', 'echo', 'foxtrot', 'golf', 'hotel', 'india']"
   ]
  },
  {
   "cell_type": "code",
   "execution_count": 145,
   "id": "a5557aa8",
   "metadata": {},
   "outputs": [
    {
     "name": "stdout",
     "output_type": "stream",
     "text": [
      "alpha bravo delta hotel india "
     ]
    }
   ],
   "source": [
    "a = ['alpha', 'bravo', 'charlie', 'delta', 'echo', 'foxtrot', 'golf', 'hotel', 'india']\n",
    "for x in a :\n",
    "    if len(x)==5:\n",
    "        print(x,end=\" \")"
   ]
  },
  {
   "cell_type": "markdown",
   "id": "0c3500a8",
   "metadata": {},
   "source": [
    "# 리스트 응용하기\n",
    "- append: 요소 하나 추가 \n",
    "- extend : 리스트를 연결하여 확장\n",
    "- insert: 특정 인덱스에 요소추가"
   ]
  },
  {
   "cell_type": "code",
   "execution_count": 146,
   "id": "3f8759a0",
   "metadata": {},
   "outputs": [],
   "source": [
    "a=[10,20,30]\n",
    "a.append(500)"
   ]
  },
  {
   "cell_type": "code",
   "execution_count": 147,
   "id": "27dcf9be",
   "metadata": {},
   "outputs": [
    {
     "data": {
      "text/plain": [
       "[10, 20, 30, 500]"
      ]
     },
     "execution_count": 147,
     "metadata": {},
     "output_type": "execute_result"
    }
   ],
   "source": [
    "a"
   ]
  },
  {
   "cell_type": "code",
   "execution_count": 154,
   "id": "a95cf039",
   "metadata": {},
   "outputs": [],
   "source": [
    "a=[10,20,30]\n",
    "b=[40,50,60]\n",
    "a.extend(b)"
   ]
  },
  {
   "cell_type": "code",
   "execution_count": 155,
   "id": "6704070f",
   "metadata": {},
   "outputs": [
    {
     "data": {
      "text/plain": [
       "[10, 20, 30, 40, 50, 2000, 60]"
      ]
     },
     "execution_count": 155,
     "metadata": {},
     "output_type": "execute_result"
    }
   ],
   "source": [
    "a.insert(-1,2000)\n",
    "a"
   ]
  },
  {
   "cell_type": "markdown",
   "id": "5f1fcbf5",
   "metadata": {},
   "source": [
    "- insert(0,요소): 리스트의 맨 처음에 요소를 추가\n",
    "- insert(len(리스트),요소) 리스트의 맨 끝에 요소를 추가\n",
    "- pop: 마지막 요소 또는 특정 인덱스의 요소를 삭제\n",
    "- remove(값): 특정 값을 찾아서 삭제"
   ]
  },
  {
   "cell_type": "markdown",
   "id": "c32dd5f3",
   "metadata": {},
   "source": []
  },
  {
   "cell_type": "code",
   "execution_count": 160,
   "id": "b5024cae",
   "metadata": {},
   "outputs": [
    {
     "data": {
      "text/plain": [
       "20"
      ]
     },
     "execution_count": 160,
     "metadata": {},
     "output_type": "execute_result"
    }
   ],
   "source": [
    "a=[10,20,30]\n",
    "x=a.pop(1)\n",
    "x"
   ]
  },
  {
   "cell_type": "code",
   "execution_count": 161,
   "id": "7298bfa3",
   "metadata": {},
   "outputs": [
    {
     "data": {
      "text/plain": [
       "[10, 30]"
      ]
     },
     "execution_count": 161,
     "metadata": {},
     "output_type": "execute_result"
    }
   ],
   "source": [
    "a"
   ]
  },
  {
   "cell_type": "markdown",
   "id": "1347b750",
   "metadata": {},
   "source": [
    "- index(값) : 리스트에서 특정 값의 인덱스 구함\n",
    "- count(값) : 리스트에서 특정 값의 개수를 구함\n",
    "- reverse() 리버스에서 요소의 순서를 반대로 \n",
    "- sort(): 리스트의 요소를 정렬함( 오름차순)\n",
    "- clear() 리스트의 모든 요소 삭제\n"
   ]
  },
  {
   "cell_type": "code",
   "execution_count": 163,
   "id": "3a793f46",
   "metadata": {},
   "outputs": [
    {
     "data": {
      "text/plain": [
       "[30, 20, 10]"
      ]
     },
     "execution_count": 163,
     "metadata": {},
     "output_type": "execute_result"
    }
   ],
   "source": [
    "a=[10,20,30]\n",
    "a.reverse()\n",
    "a\n"
   ]
  },
  {
   "cell_type": "code",
   "execution_count": 164,
   "id": "ce1d95e0",
   "metadata": {},
   "outputs": [
    {
     "data": {
      "text/plain": [
       "[10, 20, 30]"
      ]
     },
     "execution_count": 164,
     "metadata": {},
     "output_type": "execute_result"
    }
   ],
   "source": [
    "a[-1::-1]"
   ]
  },
  {
   "cell_type": "code",
   "execution_count": 165,
   "id": "1ca735db",
   "metadata": {},
   "outputs": [
    {
     "data": {
      "text/plain": [
       "[10000, 50, 10, 4, 0, -1]"
      ]
     },
     "execution_count": 165,
     "metadata": {},
     "output_type": "execute_result"
    }
   ],
   "source": [
    "a=[10,50,-1,0,4,10000]\n",
    "a.sort(reverse=True) # default  값은 False입니다\n",
    "a"
   ]
  },
  {
   "cell_type": "markdown",
   "id": "c6284482",
   "metadata": {},
   "source": [
    "- = \n",
    "- copy\n"
   ]
  },
  {
   "cell_type": "code",
   "execution_count": 166,
   "id": "73435e38",
   "metadata": {},
   "outputs": [
    {
     "data": {
      "text/plain": [
       "True"
      ]
     },
     "execution_count": 166,
     "metadata": {},
     "output_type": "execute_result"
    }
   ],
   "source": [
    "a=[0,0,0,0]\n",
    "b=a\n",
    "a is b"
   ]
  },
  {
   "cell_type": "code",
   "execution_count": 168,
   "id": "fd1406e9",
   "metadata": {},
   "outputs": [
    {
     "data": {
      "text/plain": [
       "[0, 1000, 0, 0]"
      ]
     },
     "execution_count": 168,
     "metadata": {},
     "output_type": "execute_result"
    }
   ],
   "source": [
    "b[1]=1000\n",
    "a"
   ]
  },
  {
   "cell_type": "markdown",
   "id": "ad66da1a",
   "metadata": {},
   "source": [
    "- copy()와 deepcopy()의 차이 "
   ]
  },
  {
   "cell_type": "code",
   "execution_count": 171,
   "id": "a06062ec",
   "metadata": {},
   "outputs": [],
   "source": [
    "a=[[10,20],[30,40]]\n",
    "b=a.copy()"
   ]
  },
  {
   "cell_type": "code",
   "execution_count": 172,
   "id": "44b87d14",
   "metadata": {},
   "outputs": [
    {
     "data": {
      "text/plain": [
       "[[1000, 20], [30, 40]]"
      ]
     },
     "execution_count": 172,
     "metadata": {},
     "output_type": "execute_result"
    }
   ],
   "source": [
    "b[0][0]=1000\n",
    "b"
   ]
  },
  {
   "cell_type": "code",
   "execution_count": 173,
   "id": "eb6f4078",
   "metadata": {},
   "outputs": [],
   "source": [
    "import copy "
   ]
  },
  {
   "cell_type": "code",
   "execution_count": 174,
   "id": "924ad146",
   "metadata": {},
   "outputs": [],
   "source": [
    "a=[[10,20],[30,40]]\n",
    "b=copy.deepcopy(a) #차원이 깊어져도 딥카피 가능"
   ]
  },
  {
   "cell_type": "markdown",
   "id": "ad244027",
   "metadata": {},
   "source": [
    "**반복문으로 리스트 요소 출력하기**"
   ]
  },
  {
   "cell_type": "code",
   "execution_count": 175,
   "id": "d0a820cf",
   "metadata": {},
   "outputs": [
    {
     "name": "stdout",
     "output_type": "stream",
     "text": [
      "10\n",
      "20\n",
      "30\n",
      "40\n"
     ]
    }
   ],
   "source": [
    "for i in a:\n",
    "    for j in i:\n",
    "        print(j)"
   ]
  },
  {
   "cell_type": "markdown",
   "id": "ad08c2a3",
   "metadata": {},
   "source": [
    "- for 인덱스, 요소 in enumerate(리스트):\n"
   ]
  },
  {
   "cell_type": "code",
   "execution_count": 176,
   "id": "cedfa1c0",
   "metadata": {},
   "outputs": [
    {
     "name": "stdout",
     "output_type": "stream",
     "text": [
      "0 10\n",
      "1 20\n",
      "2 30\n"
     ]
    }
   ],
   "source": [
    "a=[10,20,30]\n",
    "for i,v in enumerate(a) :\n",
    "    print(i,v)"
   ]
  },
  {
   "cell_type": "markdown",
   "id": "761e4007",
   "metadata": {},
   "source": [
    "**리스트의 가장 작은수, 가장 큰 수 , 합계**"
   ]
  },
  {
   "cell_type": "code",
   "execution_count": 178,
   "id": "d5feda29",
   "metadata": {},
   "outputs": [
    {
     "name": "stdout",
     "output_type": "stream",
     "text": [
      "10 40 100\n"
     ]
    }
   ],
   "source": [
    "a=[10,20,30,40]\n",
    "print(min(a),max(a),sum(a))"
   ]
  },
  {
   "cell_type": "markdown",
   "id": "f86ce656",
   "metadata": {},
   "source": [
    "** 리스트 표현식(List Comprehension)**"
   ]
  },
  {
   "cell_type": "markdown",
   "id": "062f4ab3",
   "metadata": {},
   "source": [
    "-[식 for 변수 in 리스트]"
   ]
  },
  {
   "cell_type": "code",
   "execution_count": 180,
   "id": "19b8bcb1",
   "metadata": {},
   "outputs": [
    {
     "data": {
      "text/plain": [
       "[0, 1, 2, 3, 4, 5, 6, 7, 8, 9]"
      ]
     },
     "execution_count": 180,
     "metadata": {},
     "output_type": "execute_result"
    }
   ],
   "source": [
    "list(range(10))"
   ]
  },
  {
   "cell_type": "code",
   "execution_count": 181,
   "id": "ef0f2c56",
   "metadata": {},
   "outputs": [
    {
     "data": {
      "text/plain": [
       "[0, 2, 4, 6, 8, 10, 12, 14, 16, 18]"
      ]
     },
     "execution_count": 181,
     "metadata": {},
     "output_type": "execute_result"
    }
   ],
   "source": [
    "[i*2 for i in range(10)]"
   ]
  },
  {
   "cell_type": "code",
   "execution_count": 182,
   "id": "24b48b17",
   "metadata": {},
   "outputs": [
    {
     "data": {
      "text/plain": [
       "[6, 2, 4]"
      ]
     },
     "execution_count": 182,
     "metadata": {},
     "output_type": "execute_result"
    }
   ],
   "source": [
    "word_list=['python','is','easy']\n",
    "[len(i) for i in word_list]"
   ]
  },
  {
   "cell_type": "code",
   "execution_count": 201,
   "id": "11227c76",
   "metadata": {},
   "outputs": [
    {
     "data": {
      "text/plain": [
       "1"
      ]
     },
     "execution_count": 201,
     "metadata": {},
     "output_type": "execute_result"
    }
   ],
   "source": [
    "a=[1,2,3,4]\n",
    "a.count(1)"
   ]
  },
  {
   "cell_type": "markdown",
   "id": "a5fca1e6",
   "metadata": {},
   "source": [
    "# Workshop\n",
    "**자동 로또 번호 생성기**\n",
    "- 1~45 숫자 중에서 6개를 고르는 로또 번호를 자동으로 만들어 주는 프로그램 작성하기\n",
    "- 사용자가 입력한 개수만큼 번호 쌍을 생성하기(예: 5를 입력하면 5 세트의 번호가 생성되도록 하기)\n",
    "- 한번 뽑히것은 뽑히지 않도록 하고, 최종 출력은 오름차순 정렬해서 보여주기\n"
   ]
  },
  {
   "cell_type": "code",
   "execution_count": 191,
   "id": "e2b68494",
   "metadata": {},
   "outputs": [],
   "source": [
    "import random"
   ]
  },
  {
   "cell_type": "code",
   "execution_count": 203,
   "id": "2701d809",
   "metadata": {},
   "outputs": [
    {
     "name": "stdout",
     "output_type": "stream",
     "text": [
      "5\n",
      "[6, 7, 10, 12, 22, 45]\n",
      "[4, 12, 16, 28, 34, 40]\n",
      "[3, 8, 16, 17, 19, 45]\n",
      "[14, 22, 30, 37, 38, 43]\n",
      "[2, 6, 8, 15, 23, 30]\n"
     ]
    }
   ],
   "source": [
    "\n",
    "push=int(input())\n",
    "for j in range(push):\n",
    "    x=[]\n",
    "    i=0\n",
    "    while i<6 :\n",
    "        k=random.randint(1,45)\n",
    "       # take=radom.sample(range(1,46),6)\n",
    "        if k not in x :\n",
    "            x.append(k)\n",
    "            i+=1\n",
    "        else:\n",
    "            continue\n",
    "    x.sort()\n",
    "    print(x)\n",
    "    "
   ]
  },
  {
   "cell_type": "code",
   "execution_count": 206,
   "id": "1c98dda0",
   "metadata": {},
   "outputs": [
    {
     "name": "stdout",
     "output_type": "stream",
     "text": [
      "4\n"
     ]
    },
    {
     "data": {
      "text/plain": [
       "[[9, 15, 23, 31, 32, 35],\n",
       " [5, 14, 19, 26, 30, 35],\n",
       " [13, 15, 18, 29, 39, 45],\n",
       " [3, 17, 18, 27, 32, 36]]"
      ]
     },
     "execution_count": 206,
     "metadata": {},
     "output_type": "execute_result"
    }
   ],
   "source": [
    "import random \n",
    "count=(int(input()))\n",
    "total=[]\n",
    "for i in range(count):\n",
    "    lotto=random.sample(range(1,46),6)\n",
    "    lotto.sort()\n",
    "    total.append(lotto)\n",
    "total"
   ]
  },
  {
   "cell_type": "markdown",
   "id": "412a4e14",
   "metadata": {},
   "source": [
    "# 문자열 응용하기 \n",
    "- replace('바꿀문자열, '새문자열'): 문자열 바꾸기\n",
    "- split('기준문자열') : 문자열 분리하기"
   ]
  },
  {
   "cell_type": "code",
   "execution_count": 207,
   "id": "ad8a3615",
   "metadata": {},
   "outputs": [
    {
     "data": {
      "text/plain": [
       "'Hello, Python!'"
      ]
     },
     "execution_count": 207,
     "metadata": {},
     "output_type": "execute_result"
    }
   ],
   "source": [
    "s=\"Hello, World!\"\n",
    "result= s.replace(\"World\",\"Python\")\n",
    "result"
   ]
  },
  {
   "cell_type": "markdown",
   "id": "c3f47127",
   "metadata": {},
   "source": [
    "- '구분자'. join(리스트) 리스트 내용을 apple-list-sdsd 이런식으로\n",
    "- upper() 대문자로 바꿈\n",
    "- lower() 소문자로 바꿈\n",
    "- strip() 문자열 양쪽에 있는 연속된 모든 공백을 삭제\n",
    "- lstrip() 문자열 왼쪽에 있는 연속된 모든 공백을 삭제\n",
    "- rstrip() 문자열 오른쪽에 있는 연속된 모든 공백을 삭제\n"
   ]
  },
  {
   "cell_type": "code",
   "execution_count": 208,
   "id": "e403eb79",
   "metadata": {},
   "outputs": [
    {
     "data": {
      "text/plain": [
       "'PYTHON'"
      ]
     },
     "execution_count": 208,
     "metadata": {},
     "output_type": "execute_result"
    }
   ],
   "source": [
    "'python'.upper()"
   ]
  },
  {
   "cell_type": "code",
   "execution_count": 218,
   "id": "2e29dc53",
   "metadata": {},
   "outputs": [
    {
     "data": {
      "text/plain": [
       "'     ....          PYTHON       ....           '"
      ]
     },
     "execution_count": 218,
     "metadata": {},
     "output_type": "execute_result"
    }
   ],
   "source": [
    "a= \"     ....          python       ....           \"\n",
    "a=a.upper()\n",
    "a"
   ]
  },
  {
   "cell_type": "code",
   "execution_count": 219,
   "id": "3a17f3e0",
   "metadata": {},
   "outputs": [
    {
     "data": {
      "text/plain": [
       "'     ....          python       ....           '"
      ]
     },
     "execution_count": 219,
     "metadata": {},
     "output_type": "execute_result"
    }
   ],
   "source": [
    "a=a.lower()\n",
    "a"
   ]
  },
  {
   "cell_type": "code",
   "execution_count": 223,
   "id": "f029a366",
   "metadata": {},
   "outputs": [
    {
     "data": {
      "text/plain": [
       "'python'"
      ]
     },
     "execution_count": 223,
     "metadata": {},
     "output_type": "execute_result"
    }
   ],
   "source": [
    "a.strip('.... ')"
   ]
  },
  {
   "cell_type": "code",
   "execution_count": 217,
   "id": "8b2d94dd",
   "metadata": {},
   "outputs": [
    {
     "data": {
      "text/plain": [
       "'python                  '"
      ]
     },
     "execution_count": 217,
     "metadata": {},
     "output_type": "execute_result"
    }
   ],
   "source": [
    "a.lstrip()"
   ]
  },
  {
   "cell_type": "code",
   "execution_count": 224,
   "id": "287c7814",
   "metadata": {},
   "outputs": [
    {
     "data": {
      "text/plain": [
       "'       python       '"
      ]
     },
     "execution_count": 224,
     "metadata": {},
     "output_type": "execute_result"
    }
   ],
   "source": [
    "a=a.strip('.... ')\n",
    "a.center(20) #20길이만큼의 전체 사이즈를 확보하고 문자열을 중간에 배치 "
   ]
  },
  {
   "cell_type": "markdown",
   "id": "ceea2029",
   "metadata": {},
   "source": [
    "- index('찾을문자열') 없으면 에러 문자열에서 특정문자열을 찾아서 인덱스를 반환하고 없으면 에러\n",
    "- lindex 왼쪽부터 rindex 오른쪽부터 찾음\n",
    "- find ('찾을문자열') 없으면 리턴값 -1 문자열에서 특정문자열을 찾아서 인덱스를 반환하고 없으면 -1\n"
   ]
  },
  {
   "cell_type": "markdown",
   "id": "08487fe1",
   "metadata": {},
   "source": [
    "**서식 지정자**"
   ]
  },
  {
   "cell_type": "code",
   "execution_count": 225,
   "id": "e584b2b0",
   "metadata": {},
   "outputs": [
    {
     "data": {
      "text/plain": [
       "'나는 최세현입니다'"
      ]
     },
     "execution_count": 225,
     "metadata": {},
     "output_type": "execute_result"
    }
   ],
   "source": [
    "name=\"최세현\"\n",
    "\"나는 %s입니다\" %name"
   ]
  },
  {
   "cell_type": "code",
   "execution_count": 226,
   "id": "033cc689",
   "metadata": {},
   "outputs": [
    {
     "data": {
      "text/plain": [
       "'나는 10살 입니다'"
      ]
     },
     "execution_count": 226,
     "metadata": {},
     "output_type": "execute_result"
    }
   ],
   "source": [
    "age= 10\n",
    "\"나이는 %d살 입니다\" %age"
   ]
  },
  {
   "cell_type": "code",
   "execution_count": 227,
   "id": "0056cb94",
   "metadata": {},
   "outputs": [
    {
     "data": {
      "text/plain": [
       "'내 학점은 4.20 입니다'"
      ]
     },
     "execution_count": 227,
     "metadata": {},
     "output_type": "execute_result"
    }
   ],
   "source": [
    "score=4.2 \n",
    "\"내 학점은 %.2f 입니다\" %score"
   ]
  },
  {
   "cell_type": "code",
   "execution_count": 228,
   "id": "42c540cf",
   "metadata": {},
   "outputs": [
    {
     "data": {
      "text/plain": [
       "'나는 최세현입니다 나이는 10살 입니다 내 학점은 4.20 입니다'"
      ]
     },
     "execution_count": 228,
     "metadata": {},
     "output_type": "execute_result"
    }
   ],
   "source": [
    "\"나는 %s입니다 나이는 %d살 입니다 내 학점은 %.2f 입니다\" %(name, age,score)"
   ]
  },
  {
   "cell_type": "markdown",
   "id": "ff5b6244",
   "metadata": {},
   "source": [
    "**format 함수**\n"
   ]
  },
  {
   "cell_type": "code",
   "execution_count": 230,
   "id": "0c5bc69a",
   "metadata": {},
   "outputs": [
    {
     "data": {
      "text/plain": [
       "'나는 최세현 10살 학점 4.2입니다'"
      ]
     },
     "execution_count": 230,
     "metadata": {},
     "output_type": "execute_result"
    }
   ],
   "source": [
    "name='최세현'\n",
    "\"나는 {} {}살 학점 {}입니다\".format(name,age,score)"
   ]
  },
  {
   "cell_type": "code",
   "execution_count": 231,
   "id": "f5b1acb2",
   "metadata": {},
   "outputs": [],
   "source": [
    "f=open('myFile.txt','w')\n",
    "f.write('This is my first file')\n",
    "f.close()"
   ]
  },
  {
   "cell_type": "code",
   "execution_count": 232,
   "id": "cd68eff6",
   "metadata": {},
   "outputs": [
    {
     "name": "stdout",
     "output_type": "stream",
     "text": [
      "This is my first file\n"
     ]
    }
   ],
   "source": [
    "f=open('myFile.txt','r')\n",
    "file_text=f.read()\n",
    "f.close()\n",
    "print(file_text)"
   ]
  },
  {
   "cell_type": "code",
   "execution_count": 235,
   "id": "2054fce0",
   "metadata": {},
   "outputs": [],
   "source": [
    "f=open('two_times_table.txt','w')\n",
    "for num in range(1,6):\n",
    "    format_string=\"2 x {0} = {1} \\n\".format(num,2*num)\n",
    "    f.write(format_string)\n",
    "f.close()"
   ]
  },
  {
   "cell_type": "code",
   "execution_count": 236,
   "id": "881382b6",
   "metadata": {},
   "outputs": [
    {
     "name": "stdout",
     "output_type": "stream",
     "text": [
      "2 x 1 = 2 \n",
      "2 x 2 = 4 \n"
     ]
    }
   ],
   "source": [
    "f=open(\"two_times_table.txt\")\n",
    "line1=f.readline()\n",
    "line2=f.readline()\n",
    "f.close()\n",
    "print(line1,end='')\n",
    "print(line2,end='')"
   ]
  },
  {
   "cell_type": "code",
   "execution_count": 237,
   "id": "f5589414",
   "metadata": {},
   "outputs": [
    {
     "name": "stdout",
     "output_type": "stream",
     "text": [
      "2 x 1 = 2 \n",
      "2 x 2 = 4 \n",
      "2 x 3 = 6 \n",
      "2 x 4 = 8 \n",
      "2 x 5 = 10 \n"
     ]
    }
   ],
   "source": [
    "f=open(\"two_times_table.txt\")\n",
    "line=f.readline()\n",
    "while line:\n",
    "    print(line,end='')\n",
    "    line=f.readline()\n",
    "f.close()"
   ]
  },
  {
   "cell_type": "code",
   "execution_count": 240,
   "id": "58bc5d8e",
   "metadata": {},
   "outputs": [
    {
     "name": "stdout",
     "output_type": "stream",
     "text": [
      "2 x 1 = 2 \n",
      "2 x 2 = 4 \n",
      "2 x 3 = 6 \n",
      "2 x 4 = 8 \n",
      "2 x 5 = 10 \n"
     ]
    }
   ],
   "source": [
    "f=open(\"two_times_table.txt\")\n",
    "lines=f.readlines()\n",
    "f.close()\n",
    "for line in lines:\n",
    "    print(line, end=\"\")"
   ]
  },
  {
   "cell_type": "code",
   "execution_count": null,
   "id": "5aa0648a",
   "metadata": {},
   "outputs": [],
   "source": []
  }
 ],
 "metadata": {
  "kernelspec": {
   "display_name": "Python 3",
   "language": "python",
   "name": "python3"
  },
  "language_info": {
   "codemirror_mode": {
    "name": "ipython",
    "version": 3
   },
   "file_extension": ".py",
   "mimetype": "text/x-python",
   "name": "python",
   "nbconvert_exporter": "python",
   "pygments_lexer": "ipython3",
   "version": "3.8.8"
  }
 },
 "nbformat": 4,
 "nbformat_minor": 5
}
