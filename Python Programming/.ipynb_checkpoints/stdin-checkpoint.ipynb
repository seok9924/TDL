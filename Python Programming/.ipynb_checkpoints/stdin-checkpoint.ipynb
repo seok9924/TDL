{
 "cells": [
  {
   "cell_type": "markdown",
   "id": "cf20829b",
   "metadata": {},
   "source": [
    "## 입출력 연습 "
   ]
  },
  {
   "cell_type": "code",
   "execution_count": 4,
   "id": "91c0a7d9",
   "metadata": {},
   "outputs": [],
   "source": [
    "name = \"광재\""
   ]
  },
  {
   "cell_type": "code",
   "execution_count": 6,
   "id": "06f03c53",
   "metadata": {},
   "outputs": [
    {
     "name": "stdout",
     "output_type": "stream",
     "text": [
      "광재는 나의 친구입니다\n"
     ]
    }
   ],
   "source": [
    "print(\"%s는 나의 친구입니다\" %name)"
   ]
  },
  {
   "cell_type": "code",
   "execution_count": 9,
   "id": "c1095220",
   "metadata": {},
   "outputs": [
    {
     "name": "stdout",
     "output_type": "stream",
     "text": [
      "반지름: 3, 원주율 3.141593\n"
     ]
    }
   ],
   "source": [
    "r=3\n",
    "PI= 3.14159265358979\n",
    "print(\"반지름: %d, 원주율 %f\" %(r,PI))"
   ]
  },
  {
   "cell_type": "code",
   "execution_count": null,
   "id": "0af0ae8e",
   "metadata": {},
   "outputs": [],
   "source": []
  }
 ],
 "metadata": {
  "kernelspec": {
   "display_name": "Python 3",
   "language": "python",
   "name": "python3"
  },
  "language_info": {
   "codemirror_mode": {
    "name": "ipython",
    "version": 3
   },
   "file_extension": ".py",
   "mimetype": "text/x-python",
   "name": "python",
   "nbconvert_exporter": "python",
   "pygments_lexer": "ipython3",
   "version": "3.8.8"
  }
 },
 "nbformat": 4,
 "nbformat_minor": 5
}
