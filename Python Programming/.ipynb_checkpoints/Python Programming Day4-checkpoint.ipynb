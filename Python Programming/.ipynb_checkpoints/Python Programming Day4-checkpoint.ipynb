{
 "cells": [
  {
   "cell_type": "markdown",
   "id": "18844566",
   "metadata": {},
   "source": [
    "# 딕셔너리 응용하기\n",
    "\n",
    "- setdefault : 키 - 값 쌍 추가 \n",
    "- update : 키의 값 수정, 키가 없으면 - 키 값 - 쌍 추가 \n",
    "\n"
   ]
  },
  {
   "cell_type": "code",
   "execution_count": 1,
   "id": "fcd28e26",
   "metadata": {},
   "outputs": [],
   "source": [
    "x={'a':10, 'b':20,'c':20,'d':40}"
   ]
  },
  {
   "cell_type": "code",
   "execution_count": 2,
   "id": "e7ba2a17",
   "metadata": {},
   "outputs": [
    {
     "data": {
      "text/plain": [
       "50"
      ]
     },
     "execution_count": 2,
     "metadata": {},
     "output_type": "execute_result"
    }
   ],
   "source": [
    "x.setdefault('e',50)"
   ]
  },
  {
   "cell_type": "code",
   "execution_count": 3,
   "id": "bcdd7079",
   "metadata": {},
   "outputs": [
    {
     "data": {
      "text/plain": [
       "{'a': 10, 'b': 20, 'c': 20, 'd': 40, 'e': 50}"
      ]
     },
     "execution_count": 3,
     "metadata": {},
     "output_type": "execute_result"
    }
   ],
   "source": [
    "x"
   ]
  },
  {
   "cell_type": "code",
   "execution_count": 4,
   "id": "0d61f8c9",
   "metadata": {},
   "outputs": [],
   "source": [
    "x.setdefault('f')"
   ]
  },
  {
   "cell_type": "code",
   "execution_count": 10,
   "id": "e035d8fc",
   "metadata": {},
   "outputs": [
    {
     "data": {
      "text/plain": [
       "{'a': 20, 'b': 20, 'c': 20, 'd': 40, 'e': 50, 'f': None}"
      ]
     },
     "execution_count": 10,
     "metadata": {},
     "output_type": "execute_result"
    }
   ],
   "source": [
    "x"
   ]
  },
  {
   "cell_type": "code",
   "execution_count": 25,
   "id": "a5641c71",
   "metadata": {},
   "outputs": [],
   "source": [
    "x.update({'a':20,'g':1000})"
   ]
  },
  {
   "cell_type": "code",
   "execution_count": 26,
   "id": "f6639b2b",
   "metadata": {},
   "outputs": [
    {
     "data": {
      "text/plain": [
       "{'b': 20, 'c': 20, 'd': 40, 'e': 50, 'f': None, 'g': 1000, 'a': 20}"
      ]
     },
     "execution_count": 26,
     "metadata": {},
     "output_type": "execute_result"
    }
   ],
   "source": [
    "x"
   ]
  },
  {
   "cell_type": "markdown",
   "id": "d4de6a4e",
   "metadata": {},
   "source": [
    "- pop(키) : 특정 - 키-값 쌍을 삭제한 뒤, 삭제한 값을 반환\n",
    "- pop(키, 기본값) : 키가 없을때 기본 값을 반환\n",
    "- clear() 딕셔너리의 모든 키 - 값 쌍을 삭제\n"
   ]
  },
  {
   "cell_type": "code",
   "execution_count": 27,
   "id": "a3aff9a4",
   "metadata": {},
   "outputs": [
    {
     "data": {
      "text/plain": [
       "20"
      ]
     },
     "execution_count": 27,
     "metadata": {},
     "output_type": "execute_result"
    }
   ],
   "source": [
    "k=x.pop('a','0')\n",
    "k"
   ]
  },
  {
   "cell_type": "code",
   "execution_count": 23,
   "id": "87fda090",
   "metadata": {},
   "outputs": [
    {
     "data": {
      "text/plain": [
       "20"
      ]
     },
     "execution_count": 23,
     "metadata": {},
     "output_type": "execute_result"
    }
   ],
   "source": [
    "k"
   ]
  },
  {
   "cell_type": "markdown",
   "id": "9d12127f",
   "metadata": {},
   "source": [
    "- get(키) 에 대한 값을 반환\n",
    "- get(키,기본값) 키가 없을때 기본값 반환"
   ]
  },
  {
   "cell_type": "code",
   "execution_count": 29,
   "id": "b26b484c",
   "metadata": {},
   "outputs": [
    {
     "data": {
      "text/plain": [
       "0"
      ]
     },
     "execution_count": 29,
     "metadata": {},
     "output_type": "execute_result"
    }
   ],
   "source": [
    "result= x.get('z',0)\n",
    "result"
   ]
  },
  {
   "cell_type": "markdown",
   "id": "3c337a25",
   "metadata": {},
   "source": [
    "- items() : 키-값 쌍 모두 가져옴\n",
    "- keys() : 키를 모두 가져옴\n",
    "- value() : 값을 모두 가져옴"
   ]
  },
  {
   "cell_type": "code",
   "execution_count": 30,
   "id": "7bc59f56",
   "metadata": {},
   "outputs": [
    {
     "data": {
      "text/plain": [
       "{'b': 20, 'c': 20, 'd': 40, 'e': 50, 'f': None, 'g': 1000}"
      ]
     },
     "execution_count": 30,
     "metadata": {},
     "output_type": "execute_result"
    }
   ],
   "source": [
    "x"
   ]
  },
  {
   "cell_type": "code",
   "execution_count": 31,
   "id": "4d467f5c",
   "metadata": {},
   "outputs": [
    {
     "data": {
      "text/plain": [
       "dict_items([('b', 20), ('c', 20), ('d', 40), ('e', 50), ('f', None), ('g', 1000)])"
      ]
     },
     "execution_count": 31,
     "metadata": {},
     "output_type": "execute_result"
    }
   ],
   "source": [
    "x.items()"
   ]
  },
  {
   "cell_type": "code",
   "execution_count": 32,
   "id": "5b3b44b2",
   "metadata": {},
   "outputs": [
    {
     "data": {
      "text/plain": [
       "dict_keys(['b', 'c', 'd', 'e', 'f', 'g'])"
      ]
     },
     "execution_count": 32,
     "metadata": {},
     "output_type": "execute_result"
    }
   ],
   "source": [
    "x.keys()"
   ]
  },
  {
   "cell_type": "code",
   "execution_count": 33,
   "id": "67283afb",
   "metadata": {},
   "outputs": [
    {
     "data": {
      "text/plain": [
       "dict_values([20, 20, 40, 50, None, 1000])"
      ]
     },
     "execution_count": 33,
     "metadata": {},
     "output_type": "execute_result"
    }
   ],
   "source": [
    "x.values()"
   ]
  },
  {
   "cell_type": "code",
   "execution_count": 35,
   "id": "2811ac9d",
   "metadata": {},
   "outputs": [
    {
     "name": "stdout",
     "output_type": "stream",
     "text": [
      "b 20\n",
      "c 20\n",
      "d 40\n",
      "e 50\n",
      "f None\n",
      "g 1000\n"
     ]
    }
   ],
   "source": [
    "for k,v in x.items():\n",
    "    print(k,v)"
   ]
  },
  {
   "cell_type": "code",
   "execution_count": 36,
   "id": "0a22367b",
   "metadata": {},
   "outputs": [
    {
     "name": "stdout",
     "output_type": "stream",
     "text": [
      "b\n",
      "c\n",
      "d\n",
      "e\n",
      "f\n",
      "g\n"
     ]
    }
   ],
   "source": [
    "for k in x.keys() :\n",
    "    print(k)"
   ]
  },
  {
   "cell_type": "code",
   "execution_count": 37,
   "id": "bdc16cf3",
   "metadata": {},
   "outputs": [
    {
     "name": "stdout",
     "output_type": "stream",
     "text": [
      "20\n",
      "20\n",
      "40\n",
      "50\n",
      "None\n",
      "1000\n"
     ]
    }
   ],
   "source": [
    "for v in x.values() :\n",
    "    print(v)"
   ]
  },
  {
   "cell_type": "markdown",
   "id": "e27df978",
   "metadata": {},
   "source": [
    "# 세트\n"
   ]
  },
  {
   "cell_type": "markdown",
   "id": "b021881a",
   "metadata": {},
   "source": [
    "- 세트= {값1,값2,값3 .... }\n",
    "- 세트는 중복이 없고 순서도 없다"
   ]
  },
  {
   "cell_type": "code",
   "execution_count": 38,
   "id": "d9a194a0",
   "metadata": {},
   "outputs": [
    {
     "data": {
      "text/plain": [
       "set"
      ]
     },
     "execution_count": 38,
     "metadata": {},
     "output_type": "execute_result"
    }
   ],
   "source": [
    "fruits ={'strawbery','grape','orange','apple','cherry'}\n",
    "type(fruits)"
   ]
  },
  {
   "cell_type": "code",
   "execution_count": 42,
   "id": "7a5b7071",
   "metadata": {},
   "outputs": [],
   "source": [
    "x={'a','a','b'}\n",
    "y={'a','b','a'}\n",
    "z={'b','a'}"
   ]
  },
  {
   "cell_type": "code",
   "execution_count": 43,
   "id": "a11c3189",
   "metadata": {},
   "outputs": [
    {
     "data": {
      "text/plain": [
       "True"
      ]
     },
     "execution_count": 43,
     "metadata": {},
     "output_type": "execute_result"
    }
   ],
   "source": [
    "x==y"
   ]
  },
  {
   "cell_type": "code",
   "execution_count": 49,
   "id": "7a8049dc",
   "metadata": {},
   "outputs": [],
   "source": [
    "l=[]\n",
    "t=()\n",
    "d={}\n",
    "s=set()\n"
   ]
  },
  {
   "cell_type": "markdown",
   "id": "7fdb5876",
   "metadata": {},
   "source": [
    "# Workshop"
   ]
  },
  {
   "cell_type": "markdown",
   "id": "e163ebce",
   "metadata": {},
   "source": [
    "**리스트와 반복문**\n",
    "- 아래에 주어진 리스트 l1의 요소 중에서 l2의 요소와 값이 같은 경우 삭제하는 파이썬 코드 작성하기\n",
    "10:19\n",
    "```\n",
    "\n",
    "결과 l1\n",
    "['c', 'd']\n",
    "```"
   ]
  },
  {
   "cell_type": "code",
   "execution_count": null,
   "id": "e0ad562e",
   "metadata": {},
   "outputs": [],
   "source": []
  },
  {
   "cell_type": "code",
   "execution_count": 114,
   "id": "0d97b8f4",
   "metadata": {
    "scrolled": true
   },
   "outputs": [
    {
     "name": "stdout",
     "output_type": "stream",
     "text": [
      "['c', 'd']\n"
     ]
    }
   ],
   "source": [
    "l1 = ['a', 'b', 'c', 'd', 'a', 'b', 'a', 'b']\n",
    "l2 = ['a','b']\n",
    "for c2 in l2:\n",
    "    while c2 in l1:\n",
    "        l1.remove(c2)\n",
    "            \n",
    "            \n",
    "print(l1)"
   ]
  },
  {
   "cell_type": "markdown",
   "id": "75b5cb98",
   "metadata": {},
   "source": [
    "**'the'의 개수 출력하기**\n",
    "- 아래 문자열에서 'the'의 개수를 출력하는 프로그램을 만드세요. 단 , 모든 문자가 소문자인 'the'만 찾으면 되며 'them', 'there', 'their' 등은 포함되지 않아야 합니다.\n",
    "10:21\n",
    "\n",
    "the grown-ups' response, this time, was to advise me to lay aside my drawings of boa constrictors, whether from the inside or the outside, and devote myself instead to geography, history, arithmetic, and grammar. That is why, at the, age of six, I gave up what might have been a magnificent career as a painter. I had been disheartened by the failure of my Drawing Number One and my Drawing Number Two. Grown-ups never understand anything by themselves, and it is tiresome for children to be always and forever explaining things to the."
   ]
  },
  {
   "cell_type": "code",
   "execution_count": 115,
   "id": "60768901",
   "metadata": {},
   "outputs": [
    {
     "name": "stdout",
     "output_type": "stream",
     "text": [
      "the grown-ups' response, this time, was to advise me to lay aside my drawings of boa constrictors, whether from the inside or the outside, and devote myself instead to geography, history, arithmetic, and grammar. That is why, at the, age of six, I gave up what might have been a magnificent career as a painter. I had been disheartened by the failure of my Drawing Number One and my Drawing Number Two. Grown-ups never understand anything by themselves, and it is tiresome for children to be always and forever explaining things to the.\n",
      "\n"
     ]
    }
   ],
   "source": [
    "paragraph=\"\"\"the grown-ups' response, this time, was to advise me to lay aside my drawings of boa constrictors, whether from the inside or the outside, and devote myself instead to geography, history, arithmetic, and grammar. That is why, at the, age of six, I gave up what might have been a magnificent career as a painter. I had been disheartened by the failure of my Drawing Number One and my Drawing Number Two. Grown-ups never understand anything by themselves, and it is tiresome for children to be always and forever explaining things to the.\n",
    "\"\"\"\n",
    "print(s)"
   ]
  },
  {
   "cell_type": "code",
   "execution_count": 119,
   "id": "8224ab66",
   "metadata": {},
   "outputs": [
    {
     "name": "stdout",
     "output_type": "stream",
     "text": [
      "6\n"
     ]
    }
   ],
   "source": [
    "word_list=paragraph.split()\n",
    "count=0\n",
    "for word in word_list:\n",
    "    if word.strip(',.') ==\"the\" :\n",
    "        \n",
    "        count+=1\n",
    "print(count)"
   ]
  },
  {
   "cell_type": "markdown",
   "id": "9488a396",
   "metadata": {},
   "source": [
    "**평균 점수 구하기**\n",
    "- 다음 소스 코드를 완성하여 평균 점수가 출력되게 만드세요\n",
    "흰색_확인_표시\n",
    "두_눈\n",
    "두_손을_들고_있는_사람\n",
    "\n",
    "\n",
    "\n",
    "\n",
    "\n",
    "maria = {'korean' : 94, 'english': 91, 'mathmatics': 89, 'science': 83 }\n"
   ]
  },
  {
   "cell_type": "code",
   "execution_count": 84,
   "id": "23a4759f",
   "metadata": {},
   "outputs": [
    {
     "name": "stdout",
     "output_type": "stream",
     "text": [
      "89.25\n"
     ]
    }
   ],
   "source": [
    "maria = {'korean' : 94, 'english': 91, 'mathmatics': 89, 'science': 83 }\n",
    "sum=0\n",
    "\n",
    "for i in maria.values() :\n",
    "    sum+= i\n",
    "print(sum/len(maria))\n",
    "    "
   ]
  },
  {
   "cell_type": "markdown",
   "id": "c7b26d96",
   "metadata": {},
   "source": [
    "**딕셔너리에서 특정값 삭제하기**\n",
    "- 표준 입력으로 문자열 여러개와 숫자 여러개가 두 줄로 입력되고, 첫 번째 줄은 키, 두번째 줄은 값으로 하여 딕셔너리를 생성합니다. 다음 코드를 완성하여 딕셔너리에서 키가 'delta'인 키-값 쌍과 값이 30인 키-값 쌍을 삭제하도록 만드세요.\n",
    "```\n",
    "\n",
    "입력\n",
    "alpha bravo charlie delta\n",
    "10 20 30 40\n",
    "결과\n",
    "{'alpha':10, 'bravo':20}"
   ]
  },
  {
   "cell_type": "code",
   "execution_count": 120,
   "id": "f10e5505",
   "metadata": {},
   "outputs": [
    {
     "name": "stdout",
     "output_type": "stream",
     "text": [
      "alpha bravo charlie delta\n",
      "10 20 30 40\n",
      "{'alpha': 10, 'bravo': 20, 'charlie': 30, 'delta': 40}\n"
     ]
    }
   ],
   "source": [
    "x=input().split()\n",
    "y=list(map(int,input().split()))\n",
    "d={}\n",
    "d2={}\n",
    "for i in range(len(x)) :\n",
    "    d[x[i]] =y[i] \n",
    "print(d)\n",
    "d2=dict(zip(x,y))"
   ]
  },
  {
   "cell_type": "code",
   "execution_count": 102,
   "id": "14d2df29",
   "metadata": {},
   "outputs": [
    {
     "name": "stdout",
     "output_type": "stream",
     "text": [
      "{'alpha': 10, 'bravo': 20, 'charlie': 30}\n"
     ]
    }
   ],
   "source": [
    "d.pop('delta',0)\n",
    "print(d)\n",
    "d.pop(d."
   ]
  },
  {
   "cell_type": "code",
   "execution_count": 121,
   "id": "ab4d0677",
   "metadata": {},
   "outputs": [
    {
     "data": {
      "text/plain": [
       "{'alpha': 10, 'bravo': 20, 'charlie': 30, 'delta': 40}"
      ]
     },
     "execution_count": 121,
     "metadata": {},
     "output_type": "execute_result"
    }
   ],
   "source": [
    "d2"
   ]
  },
  {
   "cell_type": "code",
   "execution_count": 123,
   "id": "69def91d",
   "metadata": {},
   "outputs": [
    {
     "name": "stdout",
     "output_type": "stream",
     "text": [
      "alpha bravo charlie delta\n",
      "10 20 30 40\n",
      "{}\n"
     ]
    }
   ],
   "source": [
    "k1=input().split()\n",
    "k2=map(int,input().split())\n",
    "list(k2)\n",
    "d3=dict(zip(k1,k2))\n",
    "print(d3)"
   ]
  },
  {
   "cell_type": "code",
   "execution_count": 129,
   "id": "f7510248",
   "metadata": {},
   "outputs": [
    {
     "name": "stdout",
     "output_type": "stream",
     "text": [
      "[]\n"
     ]
    }
   ],
   "source": [
    "k3=k1\n",
    "k4=list(k2)\n",
    "d3=dict(zip(k3,k4))\n",
    "print(k4)"
   ]
  },
  {
   "cell_type": "markdown",
   "id": "a8ef5886",
   "metadata": {},
   "source": [
    "# 리스트 표현식\n",
    "[식 for 변수 in 리스트 if 조건식]\n",
    "\n",
    "# 딕셔너리 표현식\n",
    "{키: 값 for 변수 in 리스트 if 조건식}\n",
    "\n",
    "# option 2 \n",
    "{k: v for k,v in d.itmes() if v!=30}"
   ]
  },
  {
   "cell_type": "code",
   "execution_count": 133,
   "id": "554da6ad",
   "metadata": {},
   "outputs": [
    {
     "data": {
      "text/plain": [
       "{'alpha': 10, 'bravo': 20}"
      ]
     },
     "execution_count": 133,
     "metadata": {},
     "output_type": "execute_result"
    }
   ],
   "source": [
    "{k : v for k,v in d.items() if k!='delta' and v!=30}\n"
   ]
  },
  {
   "cell_type": "markdown",
   "id": "6cbbbfdd",
   "metadata": {},
   "source": [
    "# 파일 사용하기\n",
    "- 파일 객체= open(\"파일이름,\"파일모드\")\n",
    "- 파일객체.write(\"문자열)\n",
    "- 파일 객체.close()\n",
    "- fd.writelines(리스트)"
   ]
  },
  {
   "cell_type": "code",
   "execution_count": 136,
   "id": "c4e564a6",
   "metadata": {},
   "outputs": [],
   "source": [
    "fd=open(\"hello.txt\",\"w\")\n",
    "fd.write(\"hello world\")\n",
    "fd.close()"
   ]
  },
  {
   "cell_type": "code",
   "execution_count": 137,
   "id": "7f214a9e",
   "metadata": {},
   "outputs": [
    {
     "name": "stdout",
     "output_type": "stream",
     "text": [
      "hello world\n"
     ]
    }
   ],
   "source": [
    "fd=open(\"hello.txt\",'r')\n",
    "s=fd.read()\n",
    "print(s)\n",
    "fd.close()"
   ]
  },
  {
   "cell_type": "code",
   "execution_count": 138,
   "id": "9b9422b6",
   "metadata": {},
   "outputs": [
    {
     "name": "stdout",
     "output_type": "stream",
     "text": [
      "hello world\n"
     ]
    }
   ],
   "source": [
    "with open('hello.txt','r') as fd :\n",
    "    s=fd.read()\n",
    "print(s)"
   ]
  },
  {
   "cell_type": "code",
   "execution_count": 142,
   "id": "bb386081",
   "metadata": {},
   "outputs": [],
   "source": [
    "with open('hello.txt','w') as fd:\n",
    "    for i in range(3):\n",
    "        fd.write(\"Hello World!!!{} \\n\".format(i))"
   ]
  },
  {
   "cell_type": "code",
   "execution_count": 144,
   "id": "01987c04",
   "metadata": {},
   "outputs": [],
   "source": [
    "line_list=[\"여기는\\n\",\"플레이데이터입니다\\n\",\"오늘도\\n\",\"화이팅\\n\"]\n",
    "with open('play.txt','w') as fd:\n",
    "    fd.writelines(line_list)"
   ]
  },
  {
   "cell_type": "code",
   "execution_count": 145,
   "id": "1521d7af",
   "metadata": {},
   "outputs": [
    {
     "name": "stdout",
     "output_type": "stream",
     "text": [
      "['여기는\\n', '플레이데이터입니다\\n', '오늘도\\n', '화이팅\\n']\n"
     ]
    }
   ],
   "source": [
    "with open('play.txt','r') as fd:\n",
    "    lines=fd.readlines()\n",
    "print(lines)"
   ]
  },
  {
   "cell_type": "code",
   "execution_count": 146,
   "id": "5c2f691a",
   "metadata": {},
   "outputs": [],
   "source": [
    "# fd.read() 파일에 있는 모든 데이터를 읽음\n",
    "# fd.readline() : 한줄로 읽은 문자열을 반환\n",
    "# fd.readlines() : 라인별로 읽은 문자열들을 리스트 형태로 반환\n",
    "# fd.write(문자열) : 파일에 문자열을 씀\n",
    "# fd.writeline(문자열) : 파일에 문자열을 한 라인을 씀\n",
    "# fd.writelines(리스트) : 리스트에 있는 여러 문자열을 한라인씩 씀"
   ]
  },
  {
   "cell_type": "code",
   "execution_count": 148,
   "id": "188d2ed4",
   "metadata": {},
   "outputs": [
    {
     "name": "stdout",
     "output_type": "stream",
     "text": [
      "여기는\n",
      "플레이데이터입니다\n",
      "오늘도\n",
      "화이팅\n",
      "\n"
     ]
    }
   ],
   "source": [
    "with open('play.txt','r') as fd:\n",
    "    line= None\n",
    "    while line != '':\n",
    "        line=fd.readline()\n",
    "        print(line.strip('\\n'))"
   ]
  },
  {
   "attachments": {
    "image.png": {
     "image/png": "[encoded data removed]"
    }
   },
   "cell_type": "markdown",
   "id": "ea1152d1",
   "metadata": {},
   "source": [
    "![image.png](attachment:image.png)\n"
   ]
  },
  {
   "cell_type": "code",
   "execution_count": 149,
   "id": "7008422c",
   "metadata": {},
   "outputs": [],
   "source": [
    "import pickle"
   ]
  },
  {
   "cell_type": "code",
   "execution_count": 150,
   "id": "fe507cb6",
   "metadata": {},
   "outputs": [],
   "source": [
    "name=\"James\"\n",
    "age=17\n",
    "scores={'korean':90,'english':80}"
   ]
  },
  {
   "cell_type": "code",
   "execution_count": 151,
   "id": "0ca122fa",
   "metadata": {},
   "outputs": [],
   "source": [
    "with open(\"student.pkl\",\"wb\") as fd:\n",
    "    pickle.dump(name,fd)\n",
    "    pickle.dump(age,fd)\n",
    "    pickle.dump(scores,fd)"
   ]
  },
  {
   "cell_type": "code",
   "execution_count": 152,
   "id": "4bb3de1f",
   "metadata": {},
   "outputs": [],
   "source": [
    "with open(\"student.pkl\",\"rb\") as fd:\n",
    "    loaded_name =pickle.load(fd)\n",
    "    loaded_age=pickle.load(fd)\n",
    "    loaded_scores=pickle.load(fd)"
   ]
  },
  {
   "cell_type": "code",
   "execution_count": 153,
   "id": "11ffff04",
   "metadata": {},
   "outputs": [
    {
     "name": "stdout",
     "output_type": "stream",
     "text": [
      "17 James {'korean': 90, 'english': 80}\n"
     ]
    }
   ],
   "source": [
    "print(loaded_age,loaded_name,loaded_scores)"
   ]
  },
  {
   "cell_type": "markdown",
   "id": "c7103d2f",
   "metadata": {},
   "source": [
    "# Workshop\n",
    "**파일에서 10자 이하인 단어 개수 세기**\n",
    "- 단어가 줄 단위로 저장된 words.txt 파일이 주어집니다. 10자 이하인 단어의 개수가 출력되게 만드세요."
   ]
  },
  {
   "cell_type": "code",
   "execution_count": 179,
   "id": "662ae272",
   "metadata": {},
   "outputs": [
    {
     "name": "stdout",
     "output_type": "stream",
     "text": [
      "experience\n",
      "\n",
      "spotlight\n",
      "\n",
      "\n"
     ]
    }
   ],
   "source": [
    "with open(\"words.txt\",\"r\") as fd:\n",
    "    \n",
    "    while True :\n",
    "        s=fd.readline()\n",
    "        if len(s)<=10:\n",
    "            print(s)    \n",
    "        if s=='':\n",
    "            break"
   ]
  },
  {
   "cell_type": "code",
   "execution_count": 178,
   "id": "ff1fa059",
   "metadata": {},
   "outputs": [
    {
     "data": {
      "text/plain": [
       "2"
      ]
     },
     "execution_count": 178,
     "metadata": {},
     "output_type": "execute_result"
    }
   ],
   "source": [
    "\n",
    "with open('words.txt','r') as fd:\n",
    "    word_list = fd.readlines()\n",
    "    count=0\n",
    "    for word in word_list:\n",
    "        if len(word.rstrip('\\n'))<=10:\n",
    "            count+=1\n",
    "count"
   ]
  },
  {
   "cell_type": "markdown",
   "id": "cb96c8f5",
   "metadata": {},
   "source": [
    "**특정 문자가 들어 있는 단어 찾기**\n",
    "- 문자열이 저장된 words2.txt 파일이 주어집니다(문자열은 한 줄로 저장되어 있습니다). words2.txt 파일에서 문자 c가 포함된 단어를 각 줄에 출력하는 프로그램을 만드세요. 단어를 출력할 때는 등장한 순서대로 출력해야 하며 ,(콤마)와 .(점)은 출력하지 않아야 합니다."
   ]
  },
  {
   "cell_type": "code",
   "execution_count": 175,
   "id": "f7d22473",
   "metadata": {},
   "outputs": [
    {
     "name": "stdout",
     "output_type": "stream",
     "text": [
      "dictator\n",
      "subjects,\n",
      "change\n",
      "costume.\n",
      "elegance.\n",
      "accepted\n"
     ]
    }
   ],
   "source": [
    "with open(\"words2.txt\",\"r\") as fd :\n",
    "    words=fd.read().split()\n",
    "    for word in words :\n",
    "        if 'c' in word:\n",
    "            word.rstrip(\",.\")\n",
    "            print(word)\n"
   ]
  },
  {
   "cell_type": "markdown",
   "id": "76474d63",
   "metadata": {},
   "source": [
    "# 함수\n",
    "- 코드의 용도 구분\n",
    "- 코드를 재사용\n",
    "- 실수를 줄일 수 있음"
   ]
  },
  {
   "cell_type": "code",
   "execution_count": 180,
   "id": "e8f69680",
   "metadata": {},
   "outputs": [],
   "source": [
    "def hello():\n",
    "    print(\"hello world\")"
   ]
  },
  {
   "cell_type": "code",
   "execution_count": 181,
   "id": "1f3010b4",
   "metadata": {},
   "outputs": [
    {
     "name": "stdout",
     "output_type": "stream",
     "text": [
      "hello world\n"
     ]
    }
   ],
   "source": [
    "hello()"
   ]
  },
  {
   "cell_type": "code",
   "execution_count": 182,
   "id": "f40aa6dc",
   "metadata": {},
   "outputs": [],
   "source": [
    "def add(a,b) :\n",
    "    c=a+b \n",
    "    return c"
   ]
  },
  {
   "cell_type": "code",
   "execution_count": 183,
   "id": "0276db87",
   "metadata": {},
   "outputs": [
    {
     "data": {
      "text/plain": [
       "4"
      ]
     },
     "execution_count": 183,
     "metadata": {},
     "output_type": "execute_result"
    }
   ],
   "source": [
    "add(1,3)"
   ]
  },
  {
   "cell_type": "markdown",
   "id": "775e872a",
   "metadata": {},
   "source": [
    "# Workshop\n",
    "**I have a dream 연설문 단어 빈도수 계산**\n",
    "- WordCount 함수에서 ihaveadream.txt 파일을 열어 전체 내용 중 단어를 키로, 빈도를 값으로 매핑한 사전형 자료를 반환하세요.\n",
    "- 단 stopwords.txt에 있는 단어는 제외시킵니다.\n",
    "- WordCount 함수의 결과를 result.txt로 저장하세요.\n",
    "- majorityCnt 함수에서 사전형 자료를 인수로 받아 값을 기준으로 내림차순으로 정렬하여 값이 가장 큰 키를 반환하세요."
   ]
  },
  {
   "cell_type": "code",
   "execution_count": 230,
   "id": "ca6c6d22",
   "metadata": {
    "scrolled": false
   },
   "outputs": [],
   "source": [
    "lower_word=[]\n",
    "\n",
    "with open(\"ihaveadream.txt\",\"r\") as fd:\n",
    "    word_list=fd.read().replace(\"'\",' ').split(' ')\n",
    " #   print(words)\n",
    "with open(\"stopwords.txt\",'r') as fd:\n",
    "    stop_list=fd.read().split()\n",
    "for i in word_list :\n",
    "    i.strip(\" ,.\\\"\").lower\n",
    "    lower_word.append(i.strip(\" ,.\\\"\").lower())\n",
    "lower_set=set(lower_word)\n",
    "stop_set=set(stop_list)\n",
    "keys=lower_set-stop_set\n"
   ]
  },
  {
   "cell_type": "code",
   "execution_count": 234,
   "id": "279fd1cd",
   "metadata": {},
   "outputs": [],
   "source": [
    "with open(\"ihaveadream.txt\",\"r\") as fd1:\n",
    "    speech=fd1.read()\n",
    "with open(\"stopwords.txt\",'r') as fd2:\n",
    "    stopwords= fd2.read()\n"
   ]
  },
  {
   "cell_type": "code",
   "execution_count": 239,
   "id": "066e4089",
   "metadata": {},
   "outputs": [],
   "source": [
    "word_list2=speech.lower().split()\n",
    "stop_list2=stopwords.lower().split()\n"
   ]
  },
  {
   "cell_type": "code",
   "execution_count": 240,
   "id": "6a2b309e",
   "metadata": {},
   "outputs": [],
   "source": [
    "def WordCount():\n",
    "    d={}\n",
    "    for word in word_list2 :\n",
    "        if word in stop_list2:\n",
    "            continue\n",
    "        d[word] = d.get(word,0)+1 # 이미 단어가 사전에 있는 경우 , 없는 경우 모두 값을 가져온다.\n",
    "    return d\n",
    "d=WordCount()\n",
    "with open('result.txt','w') as fd3:\n",
    "    fd3.write(str(d))\n",
    "\n"
   ]
  },
  {
   "cell_type": "code",
   "execution_count": 241,
   "id": "cb1f3972",
   "metadata": {},
   "outputs": [],
   "source": [
    "scores= {\"james\":90, \"selly\":80,\"kgo\":75}\n"
   ]
  },
  {
   "cell_type": "code",
   "execution_count": 252,
   "id": "ea4f6aec",
   "metadata": {},
   "outputs": [
    {
     "data": {
      "text/plain": [
       "[('selly', 80), ('kgo', 75), ('james', 90)]"
      ]
     },
     "execution_count": 252,
     "metadata": {},
     "output_type": "execute_result"
    }
   ],
   "source": [
    "def ret_score(x) :\n",
    "    return x[1]\n",
    "sorted(scores.items(),key = ret_score, reverse=True)\n",
    "sorted(scores.items(),key = lambda x:x[0], reverse=True)"
   ]
  },
  {
   "cell_type": "code",
   "execution_count": 250,
   "id": "8f00477e",
   "metadata": {},
   "outputs": [
    {
     "data": {
      "text/plain": [
       "[('james', 90), ('selly', 80), ('kgo', 75)]"
      ]
     },
     "execution_count": 250,
     "metadata": {},
     "output_type": "execute_result"
    }
   ],
   "source": [
    "sorted(scores.items(),key = lambda x:x[1], reverse=True)\n"
   ]
  },
  {
   "cell_type": "code",
   "execution_count": 248,
   "id": "e87998fd",
   "metadata": {},
   "outputs": [
    {
     "data": {
      "text/plain": [
       "[('freedom', 19),\n",
       " ('negro', 13),\n",
       " ('day', 10),\n",
       " ('dream', 9),\n",
       " ('ring', 9),\n",
       " ('able', 8),\n",
       " ('nation', 7),\n",
       " ('white', 6),\n",
       " ('satisfied', 6),\n",
       " ('america', 5),\n",
       " ('time', 5),\n",
       " ('together,', 5),\n",
       " ('hundred', 4),\n",
       " ('later,', 4),\n",
       " ('black', 4),\n",
       " ('mountain', 4),\n",
       " ('free', 4),\n",
       " ('join', 3),\n",
       " ('stand', 3),\n",
       " ('today,', 3),\n",
       " ('american', 3),\n",
       " (\"we've\", 3),\n",
       " ('words', 3),\n",
       " ('men,', 3),\n",
       " ('justice', 3),\n",
       " ('justice.', 3),\n",
       " ('rise', 3),\n",
       " ('valley', 3),\n",
       " ('brotherhood.', 3),\n",
       " (\"god's\", 3),\n",
       " ('sweltering', 3),\n",
       " ('children', 3),\n",
       " ('--', 3),\n",
       " ('little', 3),\n",
       " ('faith,', 3),\n",
       " ('land', 3),\n",
       " ('last!', 3),\n",
       " ('am', 2),\n",
       " ('history', 2),\n",
       " ('nation.', 2),\n",
       " ('hope', 2),\n",
       " ('slaves', 2),\n",
       " ('segregation', 2),\n",
       " ('cash', 2),\n",
       " ('promissory', 2),\n",
       " ('note', 2),\n",
       " ('color', 2),\n",
       " ('check,', 2),\n",
       " ('check', 2),\n",
       " ('refuse', 2),\n",
       " ('believe', 2),\n",
       " ('urgency', 2),\n",
       " ('racial', 2),\n",
       " (\"negro's\", 2),\n",
       " ('content', 2),\n",
       " ('continue', 2),\n",
       " ('people,', 2),\n",
       " ('struggle', 2),\n",
       " ('dignity', 2),\n",
       " ('allow', 2),\n",
       " ('creative', 2),\n",
       " ('physical', 2),\n",
       " ('realize', 2),\n",
       " ('police', 2),\n",
       " ('brutality.', 2),\n",
       " ('no,', 2),\n",
       " ('mighty', 2),\n",
       " ('jail', 2),\n",
       " ('quest', 2),\n",
       " ('faith', 2),\n",
       " ('mississippi,', 2),\n",
       " ('alabama,', 2),\n",
       " ('south', 2),\n",
       " ('georgia,', 2),\n",
       " ('knowing', 2),\n",
       " ('dream.', 2),\n",
       " ('live', 2),\n",
       " ('sons', 2),\n",
       " ('former', 2),\n",
       " ('heat', 2),\n",
       " ('today!', 2),\n",
       " ('boys', 2),\n",
       " ('girls', 2),\n",
       " ('hands', 2),\n",
       " ('hill', 2),\n",
       " ('stone', 2),\n",
       " ('sing', 2),\n",
       " ('mountainside,', 2),\n",
       " ('happy', 1),\n",
       " ('demonstration', 1),\n",
       " ('five', 1),\n",
       " ('score', 1),\n",
       " ('ago,', 1),\n",
       " ('american,', 1),\n",
       " ('symbolic', 1),\n",
       " ('shadow', 1),\n",
       " ('signed', 1),\n",
       " ('emancipation', 1),\n",
       " ('proclamation.', 1),\n",
       " ('momentous', 1),\n",
       " ('decree', 1),\n",
       " ('beacon', 1),\n",
       " ('light', 1),\n",
       " ('millions', 1),\n",
       " ('seared', 1),\n",
       " ('flames', 1),\n",
       " ('withering', 1),\n",
       " ('injustice.', 1),\n",
       " ('joyous', 1),\n",
       " ('daybreak', 1),\n",
       " ('night', 1),\n",
       " ('captivity.', 1),\n",
       " ('free.', 1),\n",
       " ('life', 1),\n",
       " ('sadly', 1),\n",
       " ('crippled', 1),\n",
       " ('manacles', 1),\n",
       " ('chains', 1),\n",
       " ('discrimination.', 1),\n",
       " ('lives', 1),\n",
       " ('lonely', 1),\n",
       " ('island', 1),\n",
       " ('poverty', 1),\n",
       " ('midst', 1),\n",
       " ('vast', 1),\n",
       " ('ocean', 1),\n",
       " ('material', 1),\n",
       " ('prosperity.', 1),\n",
       " ('languished', 1),\n",
       " ('corners', 1),\n",
       " ('society', 1),\n",
       " ('exile', 1),\n",
       " ('own', 1),\n",
       " ('land.', 1),\n",
       " ('dramatize', 1),\n",
       " ('shameful', 1),\n",
       " ('condition.', 1),\n",
       " ('sense', 1),\n",
       " (\"nation's\", 1),\n",
       " ('capital', 1),\n",
       " ('check.', 1),\n",
       " ('architects', 1),\n",
       " ('republic', 1),\n",
       " ('wrote', 1),\n",
       " ('magnificent', 1),\n",
       " ('constitution', 1),\n",
       " ('declaration', 1),\n",
       " ('independence,', 1),\n",
       " ('signing', 1),\n",
       " ('fall', 1),\n",
       " ('heir.', 1),\n",
       " ('promise', 1),\n",
       " ('yes,', 1),\n",
       " ('guaranteed', 1),\n",
       " ('\"unalienable', 1),\n",
       " ('rights\"', 1),\n",
       " ('\"life,', 1),\n",
       " ('liberty', 1),\n",
       " ('pursuit', 1),\n",
       " ('happiness.\"', 1),\n",
       " ('obvious', 1),\n",
       " ('defaulted', 1),\n",
       " ('note,', 1),\n",
       " ('insofar', 1),\n",
       " ('citizens', 1),\n",
       " ('concerned.', 1),\n",
       " ('instead', 1),\n",
       " ('honoring', 1),\n",
       " ('sacred', 1),\n",
       " ('obligation,', 1),\n",
       " ('people', 1),\n",
       " ('bad', 1),\n",
       " ('marked', 1),\n",
       " ('\"insufficient', 1),\n",
       " ('funds.\"', 1),\n",
       " ('bank', 1),\n",
       " ('bankrupt.', 1),\n",
       " ('insufficient', 1),\n",
       " ('funds', 1),\n",
       " ('vaults', 1),\n",
       " ('opportunity', 1),\n",
       " ('so,', 1),\n",
       " ('demand', 1),\n",
       " ('riches', 1),\n",
       " ('security', 1),\n",
       " ('hallowed', 1),\n",
       " ('spot', 1),\n",
       " ('remind', 1),\n",
       " ('fierce', 1),\n",
       " ('now.', 1),\n",
       " ('engage', 1),\n",
       " ('luxury', 1),\n",
       " ('cooling', 1),\n",
       " ('tranquilizing', 1),\n",
       " ('drug', 1),\n",
       " ('gradualism.', 1),\n",
       " ('real', 1),\n",
       " ('promises', 1),\n",
       " ('democracy.', 1),\n",
       " ('dark', 1),\n",
       " ('desolate', 1),\n",
       " ('sunlit', 1),\n",
       " ('path', 1),\n",
       " ('lift', 1),\n",
       " ('quicksands', 1),\n",
       " ('injustice', 1),\n",
       " ('solid', 1),\n",
       " ('rock', 1),\n",
       " ('reality', 1),\n",
       " ('children.', 1),\n",
       " ('fatal', 1),\n",
       " ('overlook', 1),\n",
       " ('moment.', 1),\n",
       " ('summer', 1),\n",
       " ('legitimate', 1),\n",
       " ('discontent', 1),\n",
       " ('pass', 1),\n",
       " ('invigorating', 1),\n",
       " ('autumn', 1),\n",
       " ('equality.', 1),\n",
       " ('nineteen', 1),\n",
       " ('sixty-three', 1),\n",
       " ('end,', 1),\n",
       " ('beginning.', 1),\n",
       " ('blow', 1),\n",
       " ('steam', 1),\n",
       " ('rude', 1),\n",
       " ('awakening', 1),\n",
       " ('returns', 1),\n",
       " ('business', 1),\n",
       " ('usual.', 1),\n",
       " ('neither', 1),\n",
       " ('rest', 1),\n",
       " ('nor', 1),\n",
       " ('tranquility', 1),\n",
       " ('granted', 1),\n",
       " ('citizenship', 1),\n",
       " ('rights.', 1),\n",
       " ('whirlwinds', 1),\n",
       " ('revolt', 1),\n",
       " ('shake', 1),\n",
       " ('foundations', 1),\n",
       " ('bright', 1),\n",
       " ('emerges.', 1),\n",
       " ('warm', 1),\n",
       " ('threshold', 1),\n",
       " ('leads', 1),\n",
       " ('palace', 1),\n",
       " ('justice:', 1),\n",
       " ('process', 1),\n",
       " ('gaining', 1),\n",
       " ('rightful', 1),\n",
       " ('place,', 1),\n",
       " ('guilty', 1),\n",
       " ('wrongful', 1),\n",
       " ('deeds.', 1),\n",
       " ('seek', 1),\n",
       " ('satisfy', 1),\n",
       " ('thirst', 1),\n",
       " ('drinking', 1),\n",
       " ('cup', 1),\n",
       " ('bitterness', 1),\n",
       " ('hatred.', 1),\n",
       " ('forever', 1),\n",
       " ('conduct', 1),\n",
       " ('plane', 1),\n",
       " ('discipline.', 1),\n",
       " ('protest', 1),\n",
       " ('degenerate', 1),\n",
       " ('violence.', 1),\n",
       " ('again,', 1),\n",
       " ('majestic', 1),\n",
       " ('heights', 1),\n",
       " ('meeting', 1),\n",
       " ('force', 1),\n",
       " ('soul', 1),\n",
       " ('force.', 1),\n",
       " ('marvelous', 1),\n",
       " ('militancy', 1),\n",
       " ('engulfed', 1),\n",
       " ('community', 1),\n",
       " ('lead', 1),\n",
       " ('distrust', 1),\n",
       " ('brothers,', 1),\n",
       " ('evidenced', 1),\n",
       " ('presence', 1),\n",
       " ('destiny', 1),\n",
       " ('tied', 1),\n",
       " ('destiny.', 1),\n",
       " ('inextricably', 1),\n",
       " ('bound', 1),\n",
       " ('freedom.', 1),\n",
       " ('walk', 1),\n",
       " ('alone.', 1),\n",
       " ('walk,', 1),\n",
       " ('pledge', 1),\n",
       " ('march', 1),\n",
       " ('ahead.', 1),\n",
       " ('back.', 1),\n",
       " ('devotees', 1),\n",
       " ('civil', 1),\n",
       " ('rights,', 1),\n",
       " ('\"when', 1),\n",
       " ('satisfied?\"', 1),\n",
       " ('victim', 1),\n",
       " ('unspeakable', 1),\n",
       " ('horrors', 1),\n",
       " ('bodies,', 1),\n",
       " ('heavy', 1),\n",
       " ('fatigue', 1),\n",
       " ('travel,', 1),\n",
       " ('gain', 1),\n",
       " ('lodging', 1),\n",
       " ('motels', 1),\n",
       " ('highways', 1),\n",
       " ('hotels', 1),\n",
       " ('cities.', 1),\n",
       " ('*we', 1),\n",
       " ('basic', 1),\n",
       " ('mobility', 1),\n",
       " ('ghetto', 1),\n",
       " ('larger', 1),\n",
       " ('one.', 1),\n",
       " ('stripped', 1),\n",
       " ('self-hood', 1),\n",
       " ('robbed', 1),\n",
       " ('signs', 1),\n",
       " ('stating:', 1),\n",
       " ('\"for', 1),\n",
       " ('whites', 1),\n",
       " ('only.\"*', 1),\n",
       " ('mississippi', 1),\n",
       " ('vote', 1),\n",
       " ('york', 1),\n",
       " ('believes', 1),\n",
       " ('vote.', 1),\n",
       " ('satisfied,', 1),\n",
       " ('\"justice', 1),\n",
       " ('rolls', 1),\n",
       " ('waters,', 1),\n",
       " ('righteousness', 1),\n",
       " ('stream.\"1', 1),\n",
       " ('unmindful', 1),\n",
       " ('trials', 1),\n",
       " ('tribulations.', 1),\n",
       " ('fresh', 1),\n",
       " ('narrow', 1),\n",
       " ('cells.', 1),\n",
       " ('left', 1),\n",
       " ('battered', 1),\n",
       " ('storms', 1),\n",
       " ('persecution', 1),\n",
       " ('staggered', 1),\n",
       " ('winds', 1),\n",
       " ('veterans', 1),\n",
       " ('suffering.', 1),\n",
       " ('unearned', 1),\n",
       " ('suffering', 1),\n",
       " ('redemptive.', 1),\n",
       " ('carolina,', 1),\n",
       " ('louisiana,', 1),\n",
       " ('slums', 1),\n",
       " ('ghettos', 1),\n",
       " ('northern', 1),\n",
       " ('cities,', 1),\n",
       " ('somehow', 1),\n",
       " ('situation', 1),\n",
       " ('changed.', 1),\n",
       " ('wallow', 1),\n",
       " ('despair,', 1),\n",
       " ('friends.', 1),\n",
       " ('difficulties', 1),\n",
       " ('tomorrow,', 1),\n",
       " ('deeply', 1),\n",
       " ('rooted', 1),\n",
       " ('true', 1),\n",
       " ('meaning', 1),\n",
       " ('creed:', 1),\n",
       " ('\"we', 1),\n",
       " ('hold', 1),\n",
       " ('truths', 1),\n",
       " ('self-evident,', 1),\n",
       " ('created', 1),\n",
       " ('equal.\"', 1),\n",
       " ('red', 1),\n",
       " ('hills', 1),\n",
       " ('slave', 1),\n",
       " ('owners', 1),\n",
       " ('sit', 1),\n",
       " ('table', 1),\n",
       " ('injustice,', 1),\n",
       " ('oppression,', 1),\n",
       " ('transformed', 1),\n",
       " ('oasis', 1),\n",
       " ('judged', 1),\n",
       " ('skin', 1),\n",
       " ('character.', 1),\n",
       " ('day,', 1),\n",
       " ('vicious', 1),\n",
       " ('racists,', 1),\n",
       " ('governor', 1),\n",
       " ('lips', 1),\n",
       " ('dripping', 1),\n",
       " ('\"interposition\"', 1),\n",
       " ('\"nullification\"', 1),\n",
       " ('alabama', 1),\n",
       " ('sisters', 1),\n",
       " ('brothers.', 1),\n",
       " ('exalted,', 1),\n",
       " ('low,', 1),\n",
       " ('rough', 1),\n",
       " ('plain,', 1),\n",
       " ('crooked', 1),\n",
       " ('straight;', 1),\n",
       " ('\"and', 1),\n",
       " ('glory', 1),\n",
       " ('lord', 1),\n",
       " ('revealed', 1),\n",
       " ('flesh', 1),\n",
       " ('together.\"2', 1),\n",
       " ('hope,', 1),\n",
       " ('with.', 1),\n",
       " ('hew', 1),\n",
       " ('despair', 1),\n",
       " ('hope.', 1),\n",
       " ('transform', 1),\n",
       " ('jangling', 1),\n",
       " ('discords', 1),\n",
       " ('beautiful', 1),\n",
       " ('symphony', 1),\n",
       " ('pray', 1),\n",
       " ('day.', 1),\n",
       " ('meaning:', 1),\n",
       " ('country', 1),\n",
       " (\"'tis\", 1),\n",
       " ('thee,', 1),\n",
       " ('sweet', 1),\n",
       " ('liberty,', 1),\n",
       " ('thee', 1),\n",
       " ('sing.', 1),\n",
       " ('fathers', 1),\n",
       " ('died,', 1),\n",
       " (\"pilgrim's\", 1),\n",
       " ('pride,', 1),\n",
       " ('ring!', 1),\n",
       " ('nation,', 1),\n",
       " ('true.', 1),\n",
       " ('prodigious', 1),\n",
       " ('hilltops', 1),\n",
       " ('hampshire.', 1),\n",
       " ('mountains', 1),\n",
       " ('york.', 1),\n",
       " ('heightening', 1),\n",
       " ('alleghenies', 1),\n",
       " ('pennsylvania.', 1),\n",
       " ('snow-capped', 1),\n",
       " ('rockies', 1),\n",
       " ('colorado.', 1),\n",
       " ('curvaceous', 1),\n",
       " ('slopes', 1),\n",
       " ('california.', 1),\n",
       " ('that:', 1),\n",
       " ('georgia.', 1),\n",
       " ('lookout', 1),\n",
       " ('tennessee.', 1),\n",
       " ('molehill', 1),\n",
       " ('mississippi.', 1),\n",
       " ('ring.', 1),\n",
       " ('happens,', 1),\n",
       " ('ring,', 1),\n",
       " ('village', 1),\n",
       " ('hamlet,', 1),\n",
       " ('city,', 1),\n",
       " ('speed', 1),\n",
       " ('children,', 1),\n",
       " ('jews', 1),\n",
       " ('gentiles,', 1),\n",
       " ('protestants', 1),\n",
       " ('catholics,', 1),\n",
       " ('spiritual:', 1),\n",
       " ('thank', 1),\n",
       " ('god', 1),\n",
       " ('almighty,', 1)]"
      ]
     },
     "execution_count": 248,
     "metadata": {},
     "output_type": "execute_result"
    }
   ],
   "source": [
    "sorted(d.items(),key=ret_score, reverse=True)"
   ]
  },
  {
   "cell_type": "code",
   "execution_count": 249,
   "id": "12c711a8",
   "metadata": {},
   "outputs": [
    {
     "name": "stdout",
     "output_type": "stream",
     "text": [
      "('freedom', 19)\n"
     ]
    }
   ],
   "source": [
    "def majorityCnt(d) :\n",
    "    result=sorted(d.items(),key=ret_score, reverse=True)\n",
    "    return result[0]\n",
    "most_freq_word=majorityCnt(d)\n",
    "print(most_freq_word)"
   ]
  },
  {
   "cell_type": "code",
   "execution_count": 254,
   "id": "47837e6b",
   "metadata": {},
   "outputs": [
    {
     "data": {
      "text/plain": [
       "['abc', 'def']"
      ]
     },
     "execution_count": 254,
     "metadata": {},
     "output_type": "execute_result"
    }
   ],
   "source": [
    "a= [\"abc, \", \"def, \"]\n",
    "\n",
    "[word.strip(',. ') for word in a ]"
   ]
  },
  {
   "cell_type": "code",
   "execution_count": null,
   "id": "b1bffe19",
   "metadata": {},
   "outputs": [],
   "source": [
    "list(map(lambda x:x.strip(',.'), a)) # map과 lambda 함수 이용"
   ]
  }
 ],
 "metadata": {
  "kernelspec": {
   "display_name": "Python 3",
   "language": "python",
   "name": "python3"
  },
  "language_info": {
   "codemirror_mode": {
    "name": "ipython",
    "version": 3
   },
   "file_extension": ".py",
   "mimetype": "text/x-python",
   "name": "python",
   "nbconvert_exporter": "python",
   "pygments_lexer": "ipython3",
   "version": "3.8.8"
  }
 },
 "nbformat": 4,
 "nbformat_minor": 5
}
