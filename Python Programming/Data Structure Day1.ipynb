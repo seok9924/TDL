{
 "cells": [
  {
   "cell_type": "markdown",
   "id": "a89d06f7",
   "metadata": {},
   "source": [
    "# 시간 복잡도 계산하기\n",
    "## 시간 복잡도 표기법\n",
    "- 빅 오O(n) 최악일때의 연산 횟수를 나타낸 표기법"
   ]
  },
  {
   "cell_type": "code",
   "execution_count": 4,
   "id": "9934fb29",
   "metadata": {},
   "outputs": [
    {
     "name": "stdout",
     "output_type": "stream",
     "text": [
      "28\n"
     ]
    }
   ],
   "source": [
    "import random\n",
    "findNumber =random.randrange(1,101) \n",
    "\n",
    "for i in range(1,101) : # 1~100\n",
    "    if i == findNumber: \n",
    "        print(i)\n",
    "        break\n",
    "# O(n)"
   ]
  },
  {
   "cell_type": "code",
   "execution_count": 6,
   "id": "427a6997",
   "metadata": {},
   "outputs": [
    {
     "name": "stdout",
     "output_type": "stream",
     "text": [
      "45 0\n"
     ]
    }
   ],
   "source": [
    "sum= 0\n",
    "fact = 1\n",
    "for i in range(10):\n",
    "    sum+=i\n",
    "for j in range(10):\n",
    "    fact*=j\n",
    "    \n",
    "print(sum,fact)"
   ]
  },
  {
   "cell_type": "code",
   "execution_count": 7,
   "id": "5f071594",
   "metadata": {},
   "outputs": [
    {
     "name": "stdout",
     "output_type": "stream",
     "text": [
      "9\n",
      "15\n",
      "3\n",
      "6\n",
      "12\n",
      "15\n",
      "25\n",
      "5\n",
      "10\n",
      "20\n",
      "3\n",
      "5\n",
      "1\n",
      "2\n",
      "4\n",
      "6\n",
      "10\n",
      "2\n",
      "4\n",
      "8\n",
      "12\n",
      "20\n",
      "4\n",
      "8\n",
      "16\n"
     ]
    }
   ],
   "source": [
    "array= [3,5,1,2,4] # 5개의 데이터\n",
    "for i in array :\n",
    "    for j in array :\n",
    "        temp= i*j\n",
    "        print(temp)\n",
    "# 시간복잡도 --> 25 "
   ]
  },
  {
   "cell_type": "code",
   "execution_count": 8,
   "id": "e3b251ad",
   "metadata": {},
   "outputs": [],
   "source": [
    "# manatee1 = {\"name\":\"cute\", \"age\":2, ....} # 총 m개의 키\n",
    "# manatee2 = {\"name\":\"handsome\", \"age\":1, ....} # 총 m개의 키\n",
    "# manatee3 = {\"name\":\"pretty\", \"age\":3, ....} # 총 m개의 키\n",
    "# manatees =  [manatee1, manatee2, manatee3......] # 총 n마리의 manatee를 저장하는 리스트\n",
    "def example1(manatees):\n",
    "    for manatee in manatees: # n iterations\n",
    "        print(manatee['name'])\n",
    "def example2(manatees):\n",
    "    print(manatees[0]['name'])\n",
    "    print(manatees[0]['age'])\n",
    "def example3(manatees):\n",
    "    for manatee in manatees: # n iterations\n",
    "        for manatee_property in manatee: # m iterations\n",
    "            print(manatee_property, \": \", manatee[manatee_property])\n",
    "def example4(manatees):\n",
    "    oldest_manatee = \"No manatees here!\"\n",
    "    for manatee1 in manatees: # n iterations\n",
    "        for manatee2 in manatees:# n iterations\n",
    "            if manatee1['age'] < manatee2['age']:\n",
    "                oldest_manatee = manatee2['name']\n",
    "            else:\n",
    "                oldest_manatee = manatee1['name']\n",
    "    print(oldest_manatee)"
   ]
  },
  {
   "cell_type": "markdown",
   "id": "6efdc97b",
   "metadata": {},
   "source": [
    "ex1 = n \n",
    "ex2  = n\n",
    "ex3 = m*n \n",
    "ex4 = m n"
   ]
  }
 ],
 "metadata": {
  "kernelspec": {
   "display_name": "Python 3",
   "language": "python",
   "name": "python3"
  },
  "language_info": {
   "codemirror_mode": {
    "name": "ipython",
    "version": 3
   },
   "file_extension": ".py",
   "mimetype": "text/x-python",
   "name": "python",
   "nbconvert_exporter": "python",
   "pygments_lexer": "ipython3",
   "version": "3.8.8"
  }
 },
 "nbformat": 4,
 "nbformat_minor": 5
}
