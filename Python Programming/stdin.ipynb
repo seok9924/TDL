{
 "cells": [
  {
   "cell_type": "markdown",
   "id": "cf20829b",
   "metadata": {},
   "source": [
    "## 입출력 연습 "
   ]
  },
  {
   "cell_type": "code",
   "execution_count": 4,
   "id": "91c0a7d9",
   "metadata": {},
   "outputs": [],
   "source": [
    "name = \"광재\""
   ]
  },
  {
   "cell_type": "code",
   "execution_count": 6,
   "id": "06f03c53",
   "metadata": {},
   "outputs": [
    {
     "name": "stdout",
     "output_type": "stream",
     "text": [
      "광재는 나의 친구입니다\n"
     ]
    }
   ],
   "source": [
    "print(\"%s는 나의 친구입니다\" %name)"
   ]
  },
  {
   "cell_type": "code",
   "execution_count": 9,
   "id": "c1095220",
   "metadata": {},
   "outputs": [
    {
     "name": "stdout",
     "output_type": "stream",
     "text": [
      "반지름: 3, 원주율 3.141593\n"
     ]
    }
   ],
   "source": [
    "r=3\n",
    "PI= 3.14159265358979\n",
    "print(\"반지름: %d, 원주율 %f\" %(r,PI))"
   ]
  },
  {
   "cell_type": "code",
   "execution_count": 1,
   "id": "0af0ae8e",
   "metadata": {},
   "outputs": [],
   "source": [
    "class Bicycle():\n",
    "    def move(self,speed):\n",
    "        print(\"자전거: 시속 {}킬로미터로 전진\".format(speed))\n",
    "    def turn(self,direction):\n",
    "        print(\"자전거: {}회전\".format(direction))\n",
    "    def stop(self):\n",
    "        print(\"자전거({},{}): 정지\".format(self.wheel_size,self.color))"
   ]
  },
  {
   "cell_type": "code",
   "execution_count": 3,
   "id": "d58108ae",
   "metadata": {},
   "outputs": [
    {
     "name": "stdout",
     "output_type": "stream",
     "text": [
      "자전거: 시속 30킬로미터로 전진\n",
      "자전거: 좌회전\n",
      "자전거(26,black): 정지\n"
     ]
    }
   ],
   "source": [
    "my_bicycle=Bicycle()\n",
    "my_bicycle.wheel_size=26\n",
    "my_bicycle.color='black'\n",
    "\n",
    "my_bicycle.move(30)\n",
    "my_bicycle.turn('좌')\n",
    "my_bicycle.stop()"
   ]
  },
  {
   "cell_type": "code",
   "execution_count": null,
   "id": "4a33a7fc",
   "metadata": {},
   "outputs": [],
   "source": []
  }
 ],
 "metadata": {
  "kernelspec": {
   "display_name": "Python 3",
   "language": "python",
   "name": "python3"
  },
  "language_info": {
   "codemirror_mode": {
    "name": "ipython",
    "version": 3
   },
   "file_extension": ".py",
   "mimetype": "text/x-python",
   "name": "python",
   "nbconvert_exporter": "python",
   "pygments_lexer": "ipython3",
   "version": "3.8.8"
  }
 },
 "nbformat": 4,
 "nbformat_minor": 5
}
