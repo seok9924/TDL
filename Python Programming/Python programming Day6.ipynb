{
 "cells": [
  {
   "cell_type": "markdown",
   "id": "1703e727",
   "metadata": {},
   "source": [
    "# 첫째날 \n",
    "- 개요 기초적인 문법 입력/출력\n",
    "- 단순한 자료형(정수,실수, 문자열) 부울) \n",
    "# 둘째날 \n",
    "- 시퀀스 자료형(리스트, 튜플, 문자열, range)\n",
    "- 딕셔너리(순서가 없음) 세트 (순서가 없음,유일한 값)\n",
    "# 셋째날\n",
    "- 흐름제어(for, while , continue, break)\n",
    "- 리스트, 튜플, 문자열, 딕셔너리 응용(제공 메서드)\n",
    "# 넷째날\n",
    "파일 핸들링\n",
    "\n",
    "# 다섯째날 \n",
    "- 함수 (호출방식 : 스택)\n",
    "- 변수 범위(전역변수/ 지역변수)\n",
    "- 재귀 호출\n",
    "- 람다표현식\n",
    "- 클래스(속성/ 메서드)\n",
    "# 여섯째날  \n",
    "- 예외처리\n",
    "- 이터레이터 \n",
    "- 제너레이터 \n",
    "- 모듈과 패키지 "
   ]
  },
  {
   "cell_type": "markdown",
   "id": "e21ac53e",
   "metadata": {},
   "source": [
    "# 예외 처리하기\n",
    "- 예외처리는 에러가 발생하더라도 스크립트 실행을 중단하지 않고 계속 실행하고자 할 때 사용함"
   ]
  },
  {
   "cell_type": "code",
   "execution_count": 10,
   "id": "3cdc0d9e",
   "metadata": {},
   "outputs": [
    {
     "name": "stdout",
     "output_type": "stream",
     "text": [
      "나눌 숫자를 입력하세요:0\n",
      "0 입력 오류\n"
     ]
    },
    {
     "ename": "NameError",
     "evalue": "name 'go' is not defined",
     "output_type": "error",
     "traceback": [
      "\u001b[1;31m---------------------------------------------------------------------------\u001b[0m",
      "\u001b[1;31mZeroDivisionError\u001b[0m                         Traceback (most recent call last)",
      "\u001b[1;32m<ipython-input-10-da828249b9f6>\u001b[0m in \u001b[0;36m<module>\u001b[1;34m\u001b[0m\n\u001b[0;32m      2\u001b[0m     \u001b[0mx\u001b[0m\u001b[1;33m=\u001b[0m\u001b[0mint\u001b[0m\u001b[1;33m(\u001b[0m\u001b[0minput\u001b[0m\u001b[1;33m(\u001b[0m\u001b[1;34m\"나눌 숫자를 입력하세요:\"\u001b[0m\u001b[1;33m)\u001b[0m\u001b[1;33m)\u001b[0m\u001b[1;33m\u001b[0m\u001b[1;33m\u001b[0m\u001b[0m\n\u001b[1;32m----> 3\u001b[1;33m     \u001b[0my\u001b[0m\u001b[1;33m=\u001b[0m \u001b[1;36m10\u001b[0m\u001b[1;33m/\u001b[0m\u001b[0mx\u001b[0m\u001b[1;33m\u001b[0m\u001b[1;33m\u001b[0m\u001b[0m\n\u001b[0m\u001b[0;32m      4\u001b[0m     \u001b[0mprint\u001b[0m\u001b[1;33m(\u001b[0m\u001b[0my\u001b[0m\u001b[1;33m)\u001b[0m\u001b[1;33m\u001b[0m\u001b[1;33m\u001b[0m\u001b[0m\n",
      "\u001b[1;31mZeroDivisionError\u001b[0m: division by zero",
      "\nDuring handling of the above exception, another exception occurred:\n",
      "\u001b[1;31mNameError\u001b[0m                                 Traceback (most recent call last)",
      "\u001b[1;32m<ipython-input-10-da828249b9f6>\u001b[0m in \u001b[0;36m<module>\u001b[1;34m\u001b[0m\n\u001b[0;32m      5\u001b[0m \u001b[1;32mexcept\u001b[0m\u001b[1;33m:\u001b[0m\u001b[1;33m\u001b[0m\u001b[1;33m\u001b[0m\u001b[0m\n\u001b[0;32m      6\u001b[0m     \u001b[0mprint\u001b[0m\u001b[1;33m(\u001b[0m\u001b[1;34m\"%d 입력 오류\"\u001b[0m\u001b[1;33m%\u001b[0m\u001b[0mx\u001b[0m \u001b[1;33m)\u001b[0m\u001b[1;33m\u001b[0m\u001b[1;33m\u001b[0m\u001b[0m\n\u001b[1;32m----> 7\u001b[1;33m     \u001b[0mgo\u001b[0m\u001b[1;33m\u001b[0m\u001b[1;33m\u001b[0m\u001b[0m\n\u001b[0m\u001b[0;32m      8\u001b[0m     \u001b[0mprint\u001b[0m\u001b[1;33m(\u001b[0m\u001b[0my\u001b[0m\u001b[1;33m)\u001b[0m\u001b[1;33m\u001b[0m\u001b[1;33m\u001b[0m\u001b[0m\n",
      "\u001b[1;31mNameError\u001b[0m: name 'go' is not defined"
     ]
    }
   ],
   "source": [
    "try:\n",
    "    x=int(input(\"나눌 숫자를 입력하세요:\"))\n",
    "    y= 10/x \n",
    "    print(y)\n",
    "except:\n",
    "    print(\"%d 입력 오류\"%x )\n",
    "    "
   ]
  },
  {
   "cell_type": "markdown",
   "id": "64115f45",
   "metadata": {},
   "source": [
    "# 특정 예외만 처리하기 \n",
    "try: \n",
    "실행항 코드 \n",
    "except 예외이름1 : \n",
    "실행코드\n",
    "except 예외이름 2:\n",
    "실행코드\n"
   ]
  },
  {
   "cell_type": "code",
   "execution_count": 12,
   "id": "35f661b5",
   "metadata": {},
   "outputs": [
    {
     "name": "stdout",
     "output_type": "stream",
     "text": [
      "나눌 숫자를 입력하세요:\n",
      "밸류 에러\n"
     ]
    }
   ],
   "source": [
    "try:\n",
    "    x=int(input(\"나눌 숫자를 입력하세요:\"))\n",
    "    y= 10/x \n",
    "    print(y)\n",
    "except ValueError:\n",
    "    print(\"밸류 에러\" )\n",
    "except ZeroDivisionError :\n",
    "    print(\"제로디비전 에러\")\n",
    "except IndexError :\n",
    "    print(\"잘못된 인덱스입니다.\")"
   ]
  },
  {
   "cell_type": "code",
   "execution_count": 16,
   "id": "4dc4aa67",
   "metadata": {},
   "outputs": [
    {
     "name": "stdout",
     "output_type": "stream",
     "text": [
      "나눌 숫자를 입력하세요:3 2\n",
      "잘못된 인덱스입니다.\n"
     ]
    }
   ],
   "source": [
    "y=[10,20,30]\n",
    "try:\n",
    "    index, x=list(map(int,input(\"나눌 숫자를 입력하세요:\").split()))\n",
    "    y= y[index]/x \n",
    "    print(y)\n",
    "except ValueError:\n",
    "    print(\"밸류 에러\" )\n",
    "except ZeroDivisionError :\n",
    "    print(\"제로디비전 에러\")\n",
    "except IndexError :\n",
    "    print(\"잘못된 인덱스입니다.\")"
   ]
  },
  {
   "cell_type": "code",
   "execution_count": 25,
   "id": "665b0f8b",
   "metadata": {},
   "outputs": [
    {
     "name": "stdout",
     "output_type": "stream",
     "text": [
      "나눌 숫자를 입력하세요:5 2\n",
      "잘못된 인덱스입니다. list index out of range\n"
     ]
    }
   ],
   "source": [
    "y=[10,20,30] #예외 메세지 출력하기 \n",
    "try:\n",
    "    index, x=list(map(int,input(\"나눌 숫자를 입력하세요:\").split()))\n",
    "    y= y[index]/x \n",
    "    print(y)\n",
    "except ValueError as e:\n",
    "    print(\"밸류 에러\",e )\n",
    "except ZeroDivisionError as e :\n",
    "    print(\"제로디비전 에러\", e)\n",
    "except IndexError as e :\n",
    "    print(\"잘못된 인덱스입니다.\",e)"
   ]
  },
  {
   "cell_type": "markdown",
   "id": "a00f2da5",
   "metadata": {},
   "source": [
    "#예외 발생 여부에 따라 분기 \n",
    "try: \n",
    "실행할 코드\n",
    "except: \n",
    "예외 발생할때 코드\n",
    "else: \n",
    "예외 발생하지 않을때 코드"
   ]
  },
  {
   "cell_type": "code",
   "execution_count": 26,
   "id": "10d5df9b",
   "metadata": {},
   "outputs": [
    {
     "name": "stdout",
     "output_type": "stream",
     "text": [
      "나눌 숫자를 입력하세요:5 2\n",
      "잘못된 인덱스입니다. list index out of range\n"
     ]
    }
   ],
   "source": [
    "try:\n",
    "    index, x=list(map(int,input(\"나눌 숫자를 입력하세요:\").split()))\n",
    "    y= y[index]/x  # 문제가 생겻을때 예외가 발생하는 위치 \n",
    "    \n",
    "except ValueError as e:\n",
    "    print(\"밸류 에러\",e )\n",
    "except ZeroDivisionError as e :\n",
    "    print(\"제로디비전 에러\", e)\n",
    "except IndexError as e :\n",
    "    print(\"잘못된 인덱스입니다.\",e)\n",
    "else: \n",
    "    print(y)"
   ]
  },
  {
   "cell_type": "code",
   "execution_count": 27,
   "id": "dfe33bb5",
   "metadata": {},
   "outputs": [
    {
     "name": "stdout",
     "output_type": "stream",
     "text": [
      "나눌 숫자를 입력하세요:5 2\n",
      "잘못된 인덱스입니다. list index out of range\n",
      "문장종료\n"
     ]
    }
   ],
   "source": [
    "try:\n",
    "    index, x=list(map(int,input(\"나눌 숫자를 입력하세요:\").split()))\n",
    "    y= y[index]/x  # 문제가 생겻을때 예외가 발생하는 위치 \n",
    "    \n",
    "except ValueError as e:\n",
    "    print(\"밸류 에러\",e )\n",
    "except ZeroDivisionError as e :\n",
    "    print(\"제로디비전 에러\", e)\n",
    "except IndexError as e :\n",
    "    print(\"잘못된 인덱스입니다.\",e)\n",
    "else: \n",
    "    print(y)\n",
    "finally : \n",
    "    print(\"문장종료\")"
   ]
  },
  {
   "cell_type": "markdown",
   "id": "4b5c0712",
   "metadata": {},
   "source": [
    "# 예외 발생시키기\n",
    "raise Exception(\"에러메세지\")"
   ]
  },
  {
   "cell_type": "code",
   "execution_count": 32,
   "id": "da4863ca",
   "metadata": {},
   "outputs": [
    {
     "name": "stdout",
     "output_type": "stream",
     "text": [
      "3의 배수를 입력하세요2\n",
      "예외가 발생 3의 배수가 아닙니다\n"
     ]
    }
   ],
   "source": [
    "try:\n",
    "    x= int(input(\"3의 배수를 입력하세요\"))\n",
    "    if x%3 != 0 : \n",
    "        raise Exception(\"3의 배수가 아닙니다\")\n",
    "except Exception as e:\n",
    "    print(\"예외가 발생\",e)"
   ]
  },
  {
   "cell_type": "markdown",
   "id": "16c89aa9",
   "metadata": {},
   "source": [
    "# 이터레이터\n",
    "- 이터레이터는 값을 차례대로 꺼낼 수 있는 객체\n",
    "- 파이썬에서는 이터레이터만 생성하고 값이 \"필요한 시점\" 되었을때 값을 만드는 방식을 사용\n",
    "- 데이터 생성을 뒤로 미루는것인데 이런 방식을 지연 평가 (lazy evaluation) \n",
    "- **반복가능한 객체**는 말 그대로 반복할 수 있는 객체인데 문자열, 리스트 , 딕셔너리, 세트가 그 예임\n",
    "- 객체 안에 요소가 여러개 들어있고 , 한 번에 하나씩 꺼낼 수 있는 객체 \n",
    "- 객체가 반복 가능한 객체인지 알아보는 방법은 객체의 iter 메서드가 들어 있는지 확인 해보면 됨"
   ]
  },
  {
   "cell_type": "code",
   "execution_count": 35,
   "id": "9063f480",
   "metadata": {},
   "outputs": [
    {
     "data": {
      "text/plain": [
       "<list_iterator at 0x172b09f5790>"
      ]
     },
     "execution_count": 35,
     "metadata": {},
     "output_type": "execute_result"
    }
   ],
   "source": [
    "l=[1,2,3]\n",
    "l# 반복가능한 객체\n",
    "dir(l)\n",
    "it=l.__iter__()\n",
    "it"
   ]
  },
  {
   "cell_type": "code",
   "execution_count": 36,
   "id": "6903a859",
   "metadata": {},
   "outputs": [
    {
     "data": {
      "text/plain": [
       "range(0, 10)"
      ]
     },
     "execution_count": 36,
     "metadata": {},
     "output_type": "execute_result"
    }
   ],
   "source": [
    "range(10)"
   ]
  },
  {
   "cell_type": "code",
   "execution_count": 38,
   "id": "184435ca",
   "metadata": {},
   "outputs": [
    {
     "data": {
      "text/plain": [
       "1"
      ]
     },
     "execution_count": 38,
     "metadata": {},
     "output_type": "execute_result"
    }
   ],
   "source": [
    "it.__next__()"
   ]
  },
  {
   "cell_type": "code",
   "execution_count": 39,
   "id": "f1c4683e",
   "metadata": {},
   "outputs": [
    {
     "data": {
      "text/plain": [
       "2"
      ]
     },
     "execution_count": 39,
     "metadata": {},
     "output_type": "execute_result"
    }
   ],
   "source": [
    "it.__next__()"
   ]
  },
  {
   "cell_type": "code",
   "execution_count": 40,
   "id": "fbacc38c",
   "metadata": {},
   "outputs": [
    {
     "data": {
      "text/plain": [
       "3"
      ]
     },
     "execution_count": 40,
     "metadata": {},
     "output_type": "execute_result"
    }
   ],
   "source": [
    "it.__next__()\n"
   ]
  },
  {
   "cell_type": "code",
   "execution_count": 41,
   "id": "cc4745a3",
   "metadata": {},
   "outputs": [
    {
     "ename": "StopIteration",
     "evalue": "",
     "output_type": "error",
     "traceback": [
      "\u001b[1;31m---------------------------------------------------------------------------\u001b[0m",
      "\u001b[1;31mStopIteration\u001b[0m                             Traceback (most recent call last)",
      "\u001b[1;32m<ipython-input-41-74e64ed6c80d>\u001b[0m in \u001b[0;36m<module>\u001b[1;34m\u001b[0m\n\u001b[1;32m----> 1\u001b[1;33m \u001b[0mit\u001b[0m\u001b[1;33m.\u001b[0m\u001b[0m__next__\u001b[0m\u001b[1;33m(\u001b[0m\u001b[1;33m)\u001b[0m\u001b[1;33m\u001b[0m\u001b[1;33m\u001b[0m\u001b[0m\n\u001b[0m",
      "\u001b[1;31mStopIteration\u001b[0m: "
     ]
    }
   ],
   "source": [
    "it.__next__()"
   ]
  },
  {
   "attachments": {
    "image.png": {
     "image/png": "[encoded data removed]"
    }
   },
   "cell_type": "markdown",
   "id": "2439c63a",
   "metadata": {},
   "source": [
    "![image.png](attachment:image.png)"
   ]
  },
  {
   "cell_type": "code",
   "execution_count": 45,
   "id": "465a7c6c",
   "metadata": {},
   "outputs": [],
   "source": [
    "d={\"a\":1,\"b\":2}\n",
    "t=d.__iter__()"
   ]
  },
  {
   "cell_type": "code",
   "execution_count": 46,
   "id": "09bcc9bc",
   "metadata": {},
   "outputs": [
    {
     "name": "stdout",
     "output_type": "stream",
     "text": [
      "1\n",
      "1\n"
     ]
    },
    {
     "ename": "StopIteration",
     "evalue": "",
     "output_type": "error",
     "traceback": [
      "\u001b[1;31m---------------------------------------------------------------------------\u001b[0m",
      "\u001b[1;31mStopIteration\u001b[0m                             Traceback (most recent call last)",
      "\u001b[1;32m<ipython-input-46-b7b24f2692f6>\u001b[0m in \u001b[0;36m<module>\u001b[1;34m\u001b[0m\n\u001b[1;32m----> 1\u001b[1;33m \u001b[1;32mwhile\u001b[0m \u001b[0mt\u001b[0m\u001b[1;33m.\u001b[0m\u001b[0m__next__\u001b[0m\u001b[1;33m(\u001b[0m\u001b[1;33m)\u001b[0m \u001b[1;33m:\u001b[0m\u001b[1;33m\u001b[0m\u001b[1;33m\u001b[0m\u001b[0m\n\u001b[0m\u001b[0;32m      2\u001b[0m     \u001b[0mprint\u001b[0m\u001b[1;33m(\u001b[0m\u001b[1;34m\"1\"\u001b[0m\u001b[1;33m)\u001b[0m\u001b[1;33m\u001b[0m\u001b[1;33m\u001b[0m\u001b[0m\n",
      "\u001b[1;31mStopIteration\u001b[0m: "
     ]
    }
   ],
   "source": [
    "while t.__next__() :\n",
    "    print(\"1\")"
   ]
  },
  {
   "cell_type": "code",
   "execution_count": 81,
   "id": "dbf65ba4",
   "metadata": {},
   "outputs": [
    {
     "ename": "TypeError",
     "evalue": "__next__() takes 0 positional arguments but 1 was given",
     "output_type": "error",
     "traceback": [
      "\u001b[1;31m---------------------------------------------------------------------------\u001b[0m",
      "\u001b[1;31mTypeError\u001b[0m                                 Traceback (most recent call last)",
      "\u001b[1;32m<ipython-input-81-1674277b2ca8>\u001b[0m in \u001b[0;36m<module>\u001b[1;34m\u001b[0m\n\u001b[0;32m     14\u001b[0m         \u001b[1;32melse\u001b[0m \u001b[1;33m:\u001b[0m\u001b[1;33m\u001b[0m\u001b[1;33m\u001b[0m\u001b[0m\n\u001b[0;32m     15\u001b[0m             \u001b[1;32mraise\u001b[0m \u001b[0mStopIteration\u001b[0m\u001b[1;33m\u001b[0m\u001b[1;33m\u001b[0m\u001b[0m\n\u001b[1;32m---> 16\u001b[1;33m \u001b[1;32mfor\u001b[0m \u001b[0mi\u001b[0m \u001b[1;32min\u001b[0m \u001b[0mmyrange\u001b[0m\u001b[1;33m(\u001b[0m\u001b[1;36m3\u001b[0m\u001b[1;33m)\u001b[0m\u001b[1;33m:\u001b[0m\u001b[1;33m\u001b[0m\u001b[1;33m\u001b[0m\u001b[0m\n\u001b[0m\u001b[0;32m     17\u001b[0m     \u001b[0mprint\u001b[0m\u001b[1;33m(\u001b[0m\u001b[0mi\u001b[0m\u001b[1;33m,\u001b[0m \u001b[0mend\u001b[0m\u001b[1;33m=\u001b[0m\u001b[1;34m' '\u001b[0m\u001b[1;33m)\u001b[0m\u001b[1;33m\u001b[0m\u001b[1;33m\u001b[0m\u001b[0m\n",
      "\u001b[1;31mTypeError\u001b[0m: __next__() takes 0 positional arguments but 1 was given"
     ]
    }
   ],
   "source": [
    "class myrange:\n",
    "    def __init__(self,stop):\n",
    "        self.current=0\n",
    "        self.stop=stop\n",
    "        \n",
    "    def __iter__(self):\n",
    "        return self\n",
    "    \n",
    "    def __next__():\n",
    "        if self.current < self.stop :\n",
    "            r= self.current \n",
    "            self.current += 1\n",
    "            return r\n",
    "        else :\n",
    "            raise StopIteration\n",
    "for i in myrange(3):\n",
    "    print(i, end=' ')"
   ]
  },
  {
   "cell_type": "code",
   "execution_count": 93,
   "id": "d1e4dce8",
   "metadata": {},
   "outputs": [],
   "source": [
    "class Counter:\n",
    "    def __init__(self, stop):\n",
    "        self.current = 0    # 현재 숫자 유지, 0부터 지정된 숫자 직전까지 반복\n",
    "        self.stop = stop    # 반복을 끝낼 숫자\n",
    " \n",
    "    def __iter__(self):\n",
    "        return self         # 현재 인스턴스를 반환\n",
    " \n",
    "    def __next__(self):\n",
    "        if self.current < self.stop:    # 현재 숫자가 반복을 끝낼 숫자보다 작을 때\n",
    "            r = self.current            # 반환할 숫자를 변수에 저장\n",
    "            self.current += 1           # 현재 숫자를 1 증가시킴\n",
    "            return r                    # 숫자를 반환\n",
    "        else:                           # 현재 숫자가 반복을 끝낼 숫자보다 크거나 같을 때\n",
    "            raise StopIteration         # 예외 발생\n",
    " \n"
   ]
  },
  {
   "cell_type": "code",
   "execution_count": 94,
   "id": "48041a13",
   "metadata": {},
   "outputs": [
    {
     "name": "stdout",
     "output_type": "stream",
     "text": [
      "0 1 2 "
     ]
    }
   ],
   "source": [
    "for i in Counter(3):\n",
    "    print(i, end=' ')"
   ]
  },
  {
   "cell_type": "code",
   "execution_count": 99,
   "id": "8ac94141",
   "metadata": {},
   "outputs": [],
   "source": [
    "class myrange:\n",
    "    def __init__(self,stop):\n",
    "        self.current = 0\n",
    "        self.stop = stop\n",
    "        \n",
    "    def __iter__(self):\n",
    "        return self\n",
    "    \n",
    "    \n",
    "    def __next__(self):\n",
    "        if self.current < self.stop :\n",
    "            r = self.current \n",
    "            self.current += 1\n",
    "            return r\n",
    "        else :\n",
    "            raise StopIteration\n"
   ]
  },
  {
   "cell_type": "code",
   "execution_count": 100,
   "id": "e83526b8",
   "metadata": {},
   "outputs": [
    {
     "name": "stdout",
     "output_type": "stream",
     "text": [
      "0 1 2 "
     ]
    }
   ],
   "source": [
    "for i in myrange(3):\n",
    "    print(i, end=' ')"
   ]
  },
  {
   "cell_type": "code",
   "execution_count": 103,
   "id": "2c3abb76",
   "metadata": {},
   "outputs": [],
   "source": [
    "class myrange:\n",
    "    def __init__(self,stop):\n",
    "        self.stop=stop\n",
    "    \n",
    "    def __getitem__(self,index) :\n",
    "        if index < self.stop:\n",
    "            return index\n",
    "        else:\n",
    "            raise IndexError\n",
    "    "
   ]
  },
  {
   "cell_type": "code",
   "execution_count": 104,
   "id": "a2cf155f",
   "metadata": {},
   "outputs": [
    {
     "data": {
      "text/plain": [
       "4"
      ]
     },
     "execution_count": 104,
     "metadata": {},
     "output_type": "execute_result"
    }
   ],
   "source": [
    "myrange(10)[4]"
   ]
  },
  {
   "cell_type": "markdown",
   "id": "90bfc925",
   "metadata": {},
   "source": [
    "# 제네레이터 \n",
    "- 이터레이터를 만들어 주는 또다른 방식(함수를 사용)\n",
    "- 제네레이터는 이터레이터를 생성해주는 함수\n",
    "- 이터레이터에서는 클래스 안에 iter(), next(), getitem() 메서드들을 구현해야 하지만\n",
    "- 제너레이터는 함수안에서 yield라는 키워드만 사용하면 간단히 작성할 수 있음"
   ]
  },
  {
   "cell_type": "code",
   "execution_count": 105,
   "id": "5611bad5",
   "metadata": {},
   "outputs": [],
   "source": [
    "def myrange2():\n",
    "    yield 0 \n",
    "    yield 1\n",
    "    yield 2"
   ]
  },
  {
   "cell_type": "code",
   "execution_count": 106,
   "id": "aea92e19",
   "metadata": {},
   "outputs": [
    {
     "name": "stdout",
     "output_type": "stream",
     "text": [
      "0\n",
      "1\n",
      "2\n"
     ]
    }
   ],
   "source": [
    "for i in myrange2():\n",
    "    print(i)"
   ]
  },
  {
   "cell_type": "markdown",
   "id": "7fd71384",
   "metadata": {},
   "source": [
    "# 모듈과 패키지\n",
    "- 패키지 안의 모듈 가져오는 방법\n",
    "- import 패키지.모듈1 패키지 모듈2\n",
    "- 패키지 안의 모듈 사용하는 방법\n",
    "- 패키지. 모듈.변수\n",
    "- 패키지.모듈.함수()\n",
    "- 패키지.모듈.클래스()\n"
   ]
  },
  {
   "cell_type": "code",
   "execution_count": 107,
   "id": "8ab99647",
   "metadata": {},
   "outputs": [],
   "source": [
    "import urllib.request"
   ]
  },
  {
   "cell_type": "code",
   "execution_count": 108,
   "id": "a7e30f70",
   "metadata": {},
   "outputs": [],
   "source": [
    "response=urllib.request.urlopen(\"https://www.youtube.com\")"
   ]
  },
  {
   "cell_type": "code",
   "execution_count": 109,
   "id": "3b926b2b",
   "metadata": {},
   "outputs": [
    {
     "data": {
      "text/plain": [
       "200"
      ]
     },
     "execution_count": 109,
     "metadata": {},
     "output_type": "execute_result"
    }
   ],
   "source": [
    "response.status"
   ]
  },
  {
   "cell_type": "code",
   "execution_count": 110,
   "id": "1567a935",
   "metadata": {},
   "outputs": [],
   "source": [
    "import urllib.request as r"
   ]
  },
  {
   "cell_type": "code",
   "execution_count": 111,
   "id": "ef52f0a3",
   "metadata": {},
   "outputs": [],
   "source": [
    "response=r.urlopen(\"https://www.youtube.com\")"
   ]
  },
  {
   "cell_type": "code",
   "execution_count": 112,
   "id": "9490f85e",
   "metadata": {},
   "outputs": [
    {
     "data": {
      "text/plain": [
       "200"
      ]
     },
     "execution_count": 112,
     "metadata": {},
     "output_type": "execute_result"
    }
   ],
   "source": [
    "response.status"
   ]
  },
  {
   "cell_type": "code",
   "execution_count": 113,
   "id": "338ab8c1",
   "metadata": {},
   "outputs": [],
   "source": [
    "from urllib.request import urlopen"
   ]
  },
  {
   "cell_type": "code",
   "execution_count": 114,
   "id": "938c2196",
   "metadata": {},
   "outputs": [],
   "source": [
    "respon=urlopen(\"http://www.google.co.kr\")"
   ]
  },
  {
   "cell_type": "markdown",
   "id": "35ae6b1a",
   "metadata": {},
   "source": [
    "from 패키지.모듈 import *"
   ]
  },
  {
   "cell_type": "markdown",
   "id": "eebbc8c7",
   "metadata": {},
   "source": [
    "**나만의 모듈을 만들어서 사용하기**"
   ]
  },
  {
   "cell_type": "code",
   "execution_count": 115,
   "id": "1a7dbb54",
   "metadata": {},
   "outputs": [],
   "source": [
    "import square2"
   ]
  },
  {
   "cell_type": "code",
   "execution_count": 116,
   "id": "fe5f9962",
   "metadata": {},
   "outputs": [
    {
     "data": {
      "text/plain": [
       "2"
      ]
     },
     "execution_count": 116,
     "metadata": {},
     "output_type": "execute_result"
    }
   ],
   "source": [
    "square2.base"
   ]
  },
  {
   "cell_type": "code",
   "execution_count": 117,
   "id": "ef1c584a",
   "metadata": {},
   "outputs": [
    {
     "data": {
      "text/plain": [
       "1024"
      ]
     },
     "execution_count": 117,
     "metadata": {},
     "output_type": "execute_result"
    }
   ],
   "source": [
    "square2.square2(10)"
   ]
  },
  {
   "cell_type": "code",
   "execution_count": 1,
   "id": "93cacd91",
   "metadata": {},
   "outputs": [],
   "source": [
    "import person"
   ]
  },
  {
   "cell_type": "code",
   "execution_count": 2,
   "id": "77fa2baa",
   "metadata": {},
   "outputs": [
    {
     "name": "stdout",
     "output_type": "stream",
     "text": [
      "안녕하세요\n",
      "저는 장경희입니다\n",
      "나이는 30살입니다.\n",
      "나이는 서울시 서초동살입니다.\n"
     ]
    }
   ],
   "source": [
    "me = person.Person(\"장경희\",30,\"서울시 서초동\")\n",
    "me.greeting()"
   ]
  },
  {
   "cell_type": "code",
   "execution_count": 3,
   "id": "b1781136",
   "metadata": {},
   "outputs": [
    {
     "name": "stdout",
     "output_type": "stream",
     "text": [
      "hello 모듈시작\n",
      "hello __name__ : hello2\n",
      "hello 모듈 끝\n"
     ]
    }
   ],
   "source": [
    "import hello2"
   ]
  },
  {
   "cell_type": "code",
   "execution_count": 4,
   "id": "9bbcb48e",
   "metadata": {},
   "outputs": [
    {
     "name": "stdout",
     "output_type": "stream",
     "text": [
      "hello 모듈시작\n",
      "hello __name__ : __main__\n",
      "hello 모듈 끝\n"
     ]
    }
   ],
   "source": [
    " %run hello2.py #anaconda propt에서 python hello2.py해도됨"
   ]
  },
  {
   "cell_type": "code",
   "execution_count": 1,
   "id": "b0ad6afe",
   "metadata": {},
   "outputs": [
    {
     "name": "stdout",
     "output_type": "stream",
     "text": [
      "hello 모듈시작\n",
      "hello __name__ : hello2\n",
      "hello 모듈 끝\n",
      "main 모듈시작\n",
      "main __name__:  __main__\n",
      "main 모듈 끝\n"
     ]
    }
   ],
   "source": [
    "%run main.py"
   ]
  },
  {
   "cell_type": "code",
   "execution_count": 4,
   "id": "cac607a9",
   "metadata": {},
   "outputs": [
    {
     "name": "stdout",
     "output_type": "stream",
     "text": [
      "test 모듈시작\n",
      "test __name__ :  __main__\n",
      "test 모듈끝\n"
     ]
    }
   ],
   "source": [
    "%run test.py"
   ]
  },
  {
   "cell_type": "code",
   "execution_count": 5,
   "id": "0928582d",
   "metadata": {},
   "outputs": [
    {
     "name": "stdout",
     "output_type": "stream",
     "text": [
      "30\n",
      "200\n"
     ]
    }
   ],
   "source": [
    "%run calc.py"
   ]
  },
  {
   "cell_type": "code",
   "execution_count": 6,
   "id": "670661aa",
   "metadata": {},
   "outputs": [],
   "source": [
    "import calc"
   ]
  },
  {
   "cell_type": "code",
   "execution_count": 7,
   "id": "00c42f8e",
   "metadata": {},
   "outputs": [
    {
     "data": {
      "text/plain": [
       "30"
      ]
     },
     "execution_count": 7,
     "metadata": {},
     "output_type": "execute_result"
    }
   ],
   "source": [
    "add(10,20)"
   ]
  },
  {
   "cell_type": "code",
   "execution_count": 8,
   "id": "3e41b019",
   "metadata": {},
   "outputs": [
    {
     "data": {
      "text/plain": [
       "200"
      ]
     },
     "execution_count": 8,
     "metadata": {},
     "output_type": "execute_result"
    }
   ],
   "source": [
    "mul(10,20)"
   ]
  },
  {
   "cell_type": "code",
   "execution_count": 9,
   "id": "66985353",
   "metadata": {},
   "outputs": [
    {
     "data": {
      "text/plain": [
       "30"
      ]
     },
     "execution_count": 9,
     "metadata": {},
     "output_type": "execute_result"
    }
   ],
   "source": [
    "calc.add(10,20)"
   ]
  },
  {
   "cell_type": "code",
   "execution_count": 10,
   "id": "69ff07fa",
   "metadata": {},
   "outputs": [
    {
     "data": {
      "text/plain": [
       "600"
      ]
     },
     "execution_count": 10,
     "metadata": {},
     "output_type": "execute_result"
    }
   ],
   "source": [
    "calc.mul(20,30)"
   ]
  },
  {
   "cell_type": "code",
   "execution_count": 11,
   "id": "aa8a91d8",
   "metadata": {},
   "outputs": [],
   "source": [
    "from calcpkg.operation import add,mul"
   ]
  },
  {
   "cell_type": "code",
   "execution_count": 12,
   "id": "42788516",
   "metadata": {},
   "outputs": [],
   "source": [
    "from calcpkg.geometry import *"
   ]
  },
  {
   "cell_type": "code",
   "execution_count": 13,
   "id": "3c478199",
   "metadata": {},
   "outputs": [
    {
     "data": {
      "text/plain": [
       "1.0"
      ]
     },
     "execution_count": 13,
     "metadata": {},
     "output_type": "execute_result"
    }
   ],
   "source": [
    "triangle_area(1,2)"
   ]
  },
  {
   "cell_type": "code",
   "execution_count": 14,
   "id": "53c77cd0",
   "metadata": {},
   "outputs": [
    {
     "data": {
      "text/plain": [
       "6"
      ]
     },
     "execution_count": 14,
     "metadata": {},
     "output_type": "execute_result"
    }
   ],
   "source": [
    "rectangle_area(2,3)"
   ]
  },
  {
   "cell_type": "code",
   "execution_count": null,
   "id": "f52b8dcc",
   "metadata": {},
   "outputs": [],
   "source": []
  }
 ],
 "metadata": {
  "kernelspec": {
   "display_name": "Python 3",
   "language": "python",
   "name": "python3"
  },
  "language_info": {
   "codemirror_mode": {
    "name": "ipython",
    "version": 3
   },
   "file_extension": ".py",
   "mimetype": "text/x-python",
   "name": "python",
   "nbconvert_exporter": "python",
   "pygments_lexer": "ipython3",
   "version": "3.8.8"
  }
 },
 "nbformat": 4,
 "nbformat_minor": 5
}
