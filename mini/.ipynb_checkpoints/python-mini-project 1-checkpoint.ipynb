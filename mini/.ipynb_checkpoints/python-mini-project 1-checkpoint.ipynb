{
 "cells": [
  {
   "cell_type": "code",
   "execution_count": 1,
   "id": "95ab469b",
   "metadata": {},
   "outputs": [],
   "source": [
    "import selenium\n",
    "import time #time.sleep에 필요"
   ]
  },
  {
   "cell_type": "code",
   "execution_count": 2,
   "id": "e775117d",
   "metadata": {},
   "outputs": [],
   "source": [
    "from selenium import webdriver\n",
    "from selenium.webdriver.common.keys import Keys\n",
    "from datetime import datetime # 날짜 관련 라이브러리\n",
    "from datetime import timedelta\n",
    "from dateutil import relativedelta\n",
    "\n",
    "# 아래부터는 뤱페이지 로딩 대기를 위해 필요한 라이브러리\n",
    "from selenium.webdriver.common.by import By\n",
    "from selenium.webdriver.support.ui import WebDriverWait\n",
    "from selenium.webdriver.support import expected_conditions as EC"
   ]
  },
  {
   "cell_type": "code",
   "execution_count": 3,
   "id": "23c9a18a",
   "metadata": {},
   "outputs": [],
   "source": [
    "options = webdriver.ChromeOptions()\n",
    "options.add_argument(\"user_agent=Mozilla/5.0 (Windows NT 10.0; Win64; x64) AppleWebKit/537.36 (KHTML, like Gecko) Chrome/106.0.0.0 Safari/537.36 Edg/106.0.1370.47\")\n",
    "\n",
    "driver = webdriver.Chrome(options=options)\n",
    "\n",
    "driver.get('https://www.kopis.or.kr/por/stats/perfo/perfoStatsTotal.do?menuId=MNU_000135&searchWord=&searchType=total')"
   ]
  },
  {
   "cell_type": "code",
   "execution_count": 4,
   "id": "7031a14b",
   "metadata": {
    "scrolled": true
   },
   "outputs": [],
   "source": [
    "# getMonthRange 함수 개요:\n",
    "# year와 month를 입력받는다 (2019, 01)\n",
    "# 해당 month의 시작일자와 마지막일자를 구한다. (1월31일, 2월28일....11월30일, 12월31일)\n",
    "# yyyy.mm.dd 형식으로 리턴 (2019.01.01)\n",
    "def getMonthRange(year, month): \n",
    "    year = int(year)\n",
    "    month = int(month)\n",
    "    this_month = datetime(year=year, month=month, day=1).date()\n",
    "    next_month = this_month + relativedelta.relativedelta(months=1)\n",
    "    first_day = this_month\n",
    "    last_day = next_month - timedelta(days=1)\n",
    "    month__=format(first_day.month,'02')+'.'\n",
    "    month__day=month__+format(first_day.day,'02')\n",
    "    day_left= '{}.{}'.format(year,month__day)\n",
    "    month__ = format(first_day.month, '02') + '.'\n",
    "    month__day = month__ + format(last_day.day, '02')\n",
    "    day_right = '{}.{}'.format(year, month__day)\n",
    "    return day_left, day_right"
   ]
  },
  {
   "cell_type": "code",
   "execution_count": 5,
   "id": "e649c26f",
   "metadata": {},
   "outputs": [
    {
     "name": "stdout",
     "output_type": "stream",
     "text": [
      "2019-01-01\n"
     ]
    }
   ],
   "source": [
    "this_month = datetime(year=2019, month=1, day=1).date()\n",
    "print(this_month)"
   ]
  },
  {
   "cell_type": "code",
   "execution_count": 6,
   "id": "f8592dfd",
   "metadata": {},
   "outputs": [],
   "source": [
    "# searchData 함수 개요 : \n",
    "# 검색 범위를 입력받는다 (dayleft, dayright) ex) 2019.01.01, 2019.01.31\n",
    "# selenium 으로 웹페이지를 컨트롤해서 조회 버튼 클릭\n",
    "# 결과로 나온 데이터 테이블을 crwaling 해서 result 변수에 담는다.\n",
    "# result 변수를 리턴해준다.\n",
    "def searchData(dayleft,dayright) : \n",
    "    elem = driver.find_element_by_id('startDate') #검색 시작 날짜\n",
    "    elem.send_keys(Keys.CONTROL + 'a') # ctrl + a : 커서가 올라간 범위내 모든 텍스트 선택\n",
    "    elem.send_keys(Keys.BACKSPACE) # backspace 키 입력으로 선택된 부분 clear\n",
    "    elem.send_keys(dayleft) # 검색시작일자 입력 (2019.01.01)\n",
    "    elem.send_keys(Keys.ENTER)\n",
    "    time.sleep(1) # 엔터키 누르고 바로 넘어가면 다음 입력이 안되는 경우가 있어서 1초간 대기\n",
    "\n",
    "    elem = driver.find_element_by_id('endDate') #검색 마지막 날짜\n",
    "    elem.send_keys(Keys.CONTROL + 'a')\n",
    "    elem.send_keys(Keys.BACKSPACE)\n",
    "    elem.send_keys(dayright)\n",
    "    elem.send_keys(Keys.ENTER)\n",
    "    time.sleep(1)\n",
    "\n",
    "    elem = driver.find_element_by_xpath('//*[@id=\"search_list\"]/div/a') # 클릭버튼 xpath\n",
    "    elem.click()\n",
    "    \n",
    "    # 페이지 로딩을 기다리는 내장함수, 로딩 아이콘이 사라질때 까지 대기\n",
    "    wait = WebDriverWait(driver, 60).until(\n",
    "        EC.invisibility_of_element_located((By.XPATH, '//*[@id=\"progress\"]'))\n",
    "    )\n",
    "\n",
    "    table = driver.find_element_by_xpath('//*[@id=\"su_con\"]/div[5]/table') # 결과 테이블 xpath\n",
    "    tbody = table.find_element_by_tag_name('tbody') # 테이블구조 : table > thead, tbody, tfoot> tr > td\n",
    "    result = ''                                     # 우리가 필요한 데이터는 tbody 에 존재하므로 tbody 선택\n",
    "    \n",
    "    for tr in tbody.find_elements_by_class_name(\"trTotal\"): # 테이블 tbody 에 있는 trTotal 행 선택\n",
    "        txt = tr.find_element_by_tag_name(\"th\").get_attribute(\"innerText\") # th는 가장 좌측에 있는 권역이름(서울, 경기도....)\n",
    "        txt += ' ' + dayleft + ' ' + dayright\n",
    "        for td in tr.find_elements_by_tag_name(\"td\")[1:]: # td[0] = 합계, td[1] = 공연건수(건), td[2] = 공연건수(%), td[3] = 개막편수\n",
    "            txt += ' ' + td.get_attribute(\"innerText\").replace(',', '') # innertext는 괄호와 괄호 사이에 있는 텍스트를 읽는다 <td> innerText </td> \n",
    "        result += txt + '\\n' # th + td[1], td[2].... td[마지막] 까지 문자열 데이터를 붙여서 결과 함수에 담는다. '\\n'은 줄바꿈\n",
    "    \n",
    "    #합계부분\n",
    "    #txt2 = ''\n",
    "    #for tr in tbody.find_elements_by_class_name('sum.brb_e.bg'):\n",
    "    #   for td in tr.find_elements_by_tag_name(\"td\"):\n",
    "    #       txt2 += td.get_attribute(\"innerText\") + ' '\n",
    "    #   #result += txt2 + '\\n'\n",
    "    #print(result)\n",
    "    \n",
    "    return result\n"
   ]
  },
  {
   "cell_type": "code",
   "execution_count": null,
   "id": "eb289223",
   "metadata": {},
   "outputs": [],
   "source": []
  },
  {
   "cell_type": "code",
   "execution_count": 7,
   "id": "e1434941",
   "metadata": {},
   "outputs": [
    {
     "name": "stdout",
     "output_type": "stream",
     "text": [
      "[(2019, 1), (2019, 2), (2019, 3), (2019, 4), (2019, 5), (2019, 6), (2019, 7), (2019, 8), (2019, 9), (2019, 10), (2019, 11), (2019, 12), (2020, 1), (2020, 2), (2020, 3), (2020, 4), (2020, 5), (2020, 6), (2020, 7), (2020, 8), (2020, 9), (2020, 10), (2020, 11), (2020, 12), (2021, 1), (2021, 2), (2021, 3), (2021, 4), (2021, 5), (2021, 6), (2021, 7), (2021, 8), (2021, 9), (2021, 10), (2021, 11), (2021, 12), (2022, 1), (2022, 2), (2022, 3), (2022, 4), (2022, 5), (2022, 6), (2022, 7), (2022, 8), (2022, 9), (2022, 10)]\n"
     ]
    }
   ],
   "source": [
    "# make_year_month 함수 개요:\n",
    "# 시작연도 입력시 현재 연+월 에서 1달을 뺀 전체 데이터를 리턴\n",
    "# ex) 2019 입력시 2019년01월부터 현재날짜인 2022년11월 바로 전달까지 리턴 (2019.01~~~~2022.10)\n",
    "def make_year_month(startyear) :\n",
    "    nowyear = datetime.now().year\n",
    "    nowmonth = datetime.now().month\n",
    "    year_month=[]\n",
    "    for year in range(startyear,nowyear) :\n",
    "        for month in range (1,13) :\n",
    "            year_month.append((year,month))\n",
    "    for month in range(1,nowmonth) :\n",
    "        year_month.append((nowyear,month))\n",
    "    return year_month\n",
    "\n",
    "make_year_month(2019)\n",
    "\n",
    "a=make_year_month(2019)\n",
    "print(a)"
   ]
  },
  {
   "cell_type": "code",
   "execution_count": 58,
   "id": "82c872fe",
   "metadata": {},
   "outputs": [],
   "source": [
    "# 연도 입력시 해당월의 전월까지 데이터를 가져오는 ㅂ주분\n",
    "year_start=2022\n",
    "year_month_list = make_year_month(year_start)\n",
    "total_data = []\n",
    "for ym in year_month_list :\n",
    "    dayleft, dayright = getMonthRange(ym[0], ym[1])\n",
    "    result = searchData(dayleft, dayright) # searchdata 함수를 반복 호출해서 result 변수에 담는다.\n",
    "    result = list(result.strip())\n",
    "    total_data.append(result)"
   ]
  },
  {
   "cell_type": "code",
   "execution_count": 64,
   "id": "051610b4",
   "metadata": {},
   "outputs": [
    {
     "name": "stdout",
     "output_type": "stream",
     "text": [
      "[]\n"
     ]
    }
   ],
   "source": [
    "#total_data = []\n",
    "print(total_data)"
   ]
  },
  {
   "cell_type": "code",
   "execution_count": 60,
   "id": "93730d1f",
   "metadata": {
    "scrolled": true
   },
   "outputs": [
    {
     "name": "stdout",
     "output_type": "stream",
     "text": [
      "서울 2019.03.01 2019.03.31 318 63.3 224 57.9 2654 79.2 239260 78.2 7491123 85.9\n",
      "경기도 2019.03.01 2019.03.31 49 9.8 48 12.4 146 4.4 23614 7.7 529882 6.1\n",
      "경상도 2019.03.01 2019.03.31 55 11.0 43 11.1 280 8.4 14137 4.6 241910 2.8\n",
      "전라도 2019.03.01 2019.03.31 43 8.6 40 10.3 159 4.7 17293 5.6 205829 2.4\n",
      "충청도 2019.03.01 2019.03.31 29 5.8 25 6.5 86 2.6 8092 2.6 156969 1.8\n",
      "강원도 2019.03.01 2019.03.31 6 1.2 6 1.6 21 0.6 3646 1.2 89088 1.0\n",
      "제주도 2019.03.01 2019.03.31 2 0.4 1 0.3 7 0.2 107 0.0 1858 0.0\n",
      "\n"
     ]
    }
   ],
   "source": [
    "dayleft, dayright = getMonthRange('2019', '03')\n",
    "result = searchData('2019.03.01', '2019.03.31')\n",
    "print(result)"
   ]
  },
  {
   "cell_type": "code",
   "execution_count": 18,
   "id": "6217ad4c",
   "metadata": {},
   "outputs": [
    {
     "name": "stdout",
     "output_type": "stream",
     "text": [
      "2019.03.01 2019.03.31\n"
     ]
    }
   ],
   "source": [
    "dayleft, dayright = getMonthRange('2019', '04')\n",
    "print(dayleft, dayright)"
   ]
  },
  {
   "cell_type": "code",
   "execution_count": 9,
   "id": "71e5a891",
   "metadata": {},
   "outputs": [],
   "source": [
    "import pymysql"
   ]
  },
  {
   "cell_type": "code",
   "execution_count": 10,
   "id": "a615d138",
   "metadata": {},
   "outputs": [],
   "source": [
    "db = pymysql.connect(host='localhost', port=3306, user='root', passwd='asdf12', db='mywork', charset='utf8')"
   ]
  },
  {
   "cell_type": "code",
   "execution_count": 11,
   "id": "010ab2e3",
   "metadata": {},
   "outputs": [
    {
     "data": {
      "text/plain": [
       "<pymysql.connections.Connection at 0x26ee90b7ac0>"
      ]
     },
     "execution_count": 11,
     "metadata": {},
     "output_type": "execute_result"
    }
   ],
   "source": [
    "db"
   ]
  },
  {
   "cell_type": "code",
   "execution_count": 34,
   "id": "80245c64",
   "metadata": {},
   "outputs": [],
   "source": [
    "db.close()"
   ]
  },
  {
   "cell_type": "code",
   "execution_count": 61,
   "id": "b87d8a82",
   "metadata": {
    "scrolled": true
   },
   "outputs": [
    {
     "name": "stdout",
     "output_type": "stream",
     "text": [
      "['서울', '2019.03.01', '2019.03.31', '318', '63.3', '224', '57.9', '2654', '79.2', '239260', '78.2', '7491123', '85.9']\n",
      "['경기도', '2019.03.01', '2019.03.31', '49', '9.8', '48', '12.4', '146', '4.4', '23614', '7.7', '529882', '6.1']\n",
      "['경상도', '2019.03.01', '2019.03.31', '55', '11.0', '43', '11.1', '280', '8.4', '14137', '4.6', '241910', '2.8']\n",
      "['전라도', '2019.03.01', '2019.03.31', '43', '8.6', '40', '10.3', '159', '4.7', '17293', '5.6', '205829', '2.4']\n",
      "['충청도', '2019.03.01', '2019.03.31', '29', '5.8', '25', '6.5', '86', '2.6', '8092', '2.6', '156969', '1.8']\n",
      "['강원도', '2019.03.01', '2019.03.31', '6', '1.2', '6', '1.6', '21', '0.6', '3646', '1.2', '89088', '1.0']\n",
      "['제주도', '2019.03.01', '2019.03.31', '2', '0.4', '1', '0.3', '7', '0.2', '107', '0.0', '1858', '0.0']\n"
     ]
    }
   ],
   "source": [
    "resultrow = result.strip().split('\\n')\n",
    "#print(resultrow)\n",
    "td = resultrow[0]\n",
    "td = td.split()\n",
    "#print(td)\n",
    "#print(len(resultrow))\n",
    "for i in range(0, len(resultrow)):\n",
    "    td = resultrow[i]\n",
    "    td = td.split()\n",
    "    print(td)\n",
    "    #print(len(td))\n"
   ]
  },
  {
   "cell_type": "code",
   "execution_count": 38,
   "id": "e1e97af2",
   "metadata": {},
   "outputs": [],
   "source": [
    "def isNumber(n):\n",
    "    if n != 'NULL':\n",
    "        try:\n",
    "            float(n) or int(n)\n",
    "        except ValueError:\n",
    "            return False\n",
    "\n",
    "    return True\n",
    "\n",
    "def createInsertQuery(tablename : str, data : dict):\n",
    "    sql= 'INSERT into `' + tablename + '` (`{}`) values ({})'\n",
    "    key = '`, `'.join(list(data.keys()))\n",
    "    value=', '.join(str(e) if isNumber(str(e)) else '\"'+str(e)+'\"' for e in data.values())\n",
    "    return(sql.format(key,value))\n",
    "tablename = 'kopis_data'\n",
    "\n",
    "# data = {\n",
    "#         'location' : location\n",
    "#         , 'start_date' : start_date\n",
    "#         , 'end_date' : end_date\n",
    "#         , 'perf_count' : perf_count\n",
    "#         , 'perf_per' : perf_per\n",
    "#         , 'opening_count' : opening_count\n",
    "#         , 'opening_per' : opening_per\n",
    "#         , 'play_count' : play_count\n",
    "#         , 'play_per' : play_per\n",
    "#         , 'ticket_sale_count' : ticket_sale_count\n",
    "#         , 'ticket_sale_per' : ticket_sale_per\n",
    "#         , 'ticket_sale_amt' : ticket_sale_amt\n",
    "#         , 'ticket_sale_amt_per' : ticket_sale_amt_per\n",
    "#     }"
   ]
  },
  {
   "cell_type": "code",
   "execution_count": 48,
   "id": "d1870492",
   "metadata": {},
   "outputs": [
    {
     "name": "stdout",
     "output_type": "stream",
     "text": [
      "서울 2019.05.01 2019.05.31 368 58.5 252 52.9 3119 74.9 279087 70.9 6502979 72.8\n",
      "경상도 2019.05.01 2019.05.31 84 13.4 68 14.3 504 12.1 46123 11.7 1479511 16.6\n",
      "경기도 2019.05.01 2019.05.31 66 10.5 58 12.2 183 4.4 32703 8.3 520154 5.8\n",
      "전라도 2019.05.01 2019.05.31 65 10.3 59 12.4 191 4.6 25361 6.4 293865 3.3\n",
      "충청도 2019.05.01 2019.05.31 38 6.0 33 6.9 145 3.5 9281 2.4 124649 1.4\n",
      "제주도 2019.05.01 2019.05.31 5 0.8 3 0.6 15 0.4 467 0.1 11750 0.1\n",
      "강원도 2019.05.01 2019.05.31 3 0.5 3 0.6 7 0.2 670 0.2 4856 0.1\n",
      "\n"
     ]
    }
   ],
   "source": [
    "dayleft, dayright = getMonthRange('2019', '03')\n",
    "result = searchData('2019.05.01', '2019.05.31')\n",
    "print(result)"
   ]
  },
  {
   "cell_type": "code",
   "execution_count": 63,
   "id": "611b50e5",
   "metadata": {
    "scrolled": true
   },
   "outputs": [
    {
     "name": "stdout",
     "output_type": "stream",
     "text": [
      "INSERT into `kopis_data` (`location`, `start_date`, `end_date`, `perf_count`, `perf_per`, `opening_count`, `opening_per`, `play_count`, `play_per`, `ticket_sale_count`, `ticket_sale_per`, `ticket_sale_amt`, `ticket_sale_amt_per`) values (\"서울\", \"2019.03.01\", \"2019.03.31\", 318, 63.3, 224, 57.9, 2654, 79.2, 239260, 78.2, 7491123, 85.9)\n",
      "INSERT into `kopis_data` (`location`, `start_date`, `end_date`, `perf_count`, `perf_per`, `opening_count`, `opening_per`, `play_count`, `play_per`, `ticket_sale_count`, `ticket_sale_per`, `ticket_sale_amt`, `ticket_sale_amt_per`) values (\"경기도\", \"2019.03.01\", \"2019.03.31\", 49, 9.8, 48, 12.4, 146, 4.4, 23614, 7.7, 529882, 6.1)\n",
      "INSERT into `kopis_data` (`location`, `start_date`, `end_date`, `perf_count`, `perf_per`, `opening_count`, `opening_per`, `play_count`, `play_per`, `ticket_sale_count`, `ticket_sale_per`, `ticket_sale_amt`, `ticket_sale_amt_per`) values (\"경상도\", \"2019.03.01\", \"2019.03.31\", 55, 11.0, 43, 11.1, 280, 8.4, 14137, 4.6, 241910, 2.8)\n",
      "INSERT into `kopis_data` (`location`, `start_date`, `end_date`, `perf_count`, `perf_per`, `opening_count`, `opening_per`, `play_count`, `play_per`, `ticket_sale_count`, `ticket_sale_per`, `ticket_sale_amt`, `ticket_sale_amt_per`) values (\"전라도\", \"2019.03.01\", \"2019.03.31\", 43, 8.6, 40, 10.3, 159, 4.7, 17293, 5.6, 205829, 2.4)\n",
      "INSERT into `kopis_data` (`location`, `start_date`, `end_date`, `perf_count`, `perf_per`, `opening_count`, `opening_per`, `play_count`, `play_per`, `ticket_sale_count`, `ticket_sale_per`, `ticket_sale_amt`, `ticket_sale_amt_per`) values (\"충청도\", \"2019.03.01\", \"2019.03.31\", 29, 5.8, 25, 6.5, 86, 2.6, 8092, 2.6, 156969, 1.8)\n",
      "INSERT into `kopis_data` (`location`, `start_date`, `end_date`, `perf_count`, `perf_per`, `opening_count`, `opening_per`, `play_count`, `play_per`, `ticket_sale_count`, `ticket_sale_per`, `ticket_sale_amt`, `ticket_sale_amt_per`) values (\"강원도\", \"2019.03.01\", \"2019.03.31\", 6, 1.2, 6, 1.6, 21, 0.6, 3646, 1.2, 89088, 1.0)\n",
      "INSERT into `kopis_data` (`location`, `start_date`, `end_date`, `perf_count`, `perf_per`, `opening_count`, `opening_per`, `play_count`, `play_per`, `ticket_sale_count`, `ticket_sale_per`, `ticket_sale_amt`, `ticket_sale_amt_per`) values (\"제주도\", \"2019.03.01\", \"2019.03.31\", 2, 0.4, 1, 0.3, 7, 0.2, 107, \"0.0\", 1858, \"0.0\")\n"
     ]
    }
   ],
   "source": [
    "#print(result)\n",
    "#resultrow = result.split('\\n')\n",
    "#print(resultrow)\n",
    "# location = ''\n",
    "# start_date = ''\n",
    "# end_date = ''\n",
    "# perf_count = 0\n",
    "# perf_per = 0\n",
    "# opening_count = 0\n",
    "# opening_per = 0        \n",
    "# play_count = 0\n",
    "# play_per = 0\n",
    "# ticket_sale_count \n",
    "# ticket_sale_per\n",
    "# ticket_sale_amt    \n",
    "# ticket_sale_amt_per\n",
    "\n",
    "db = pymysql.connect(host='127.0.0.1', port=3306, user='root', passwd='asdf12', db='mywork', charset='utf8')\n",
    "resultrow = result.strip().split('\\n')\n",
    "tablename = 'kopis_data'\n",
    "for i in range(0, len(resultrow)):\n",
    "    td = resultrow[i]\n",
    "    td = td.split()\n",
    "    #print(td)\n",
    "    \n",
    "    location = td[0]\n",
    "    start_date = td[1]\n",
    "    end_date = td[2]\n",
    "    perf_count = td[3]\n",
    "    perf_per = td[4]\n",
    "    opening_count = td[5]\n",
    "    opening_per = td[6]\n",
    "    play_count = td[7]\n",
    "    play_per = td[8]\n",
    "    ticket_sale_count = td[9]\n",
    "    ticket_sale_per = td[10]\n",
    "    ticket_sale_amt = td[11]\n",
    "    ticket_sale_amt_per = td[12]\n",
    "    \n",
    "    data = {\n",
    "        'location' : location\n",
    "        , 'start_date' : start_date\n",
    "        , 'end_date' : end_date\n",
    "        , 'perf_count' : perf_count\n",
    "        , 'perf_per' : perf_per\n",
    "        , 'opening_count' : opening_count\n",
    "        , 'opening_per' : opening_per\n",
    "        , 'play_count' : play_count\n",
    "        , 'play_per' : play_per\n",
    "        , 'ticket_sale_count' : ticket_sale_count\n",
    "        , 'ticket_sale_per' : ticket_sale_per\n",
    "        , 'ticket_sale_amt' : ticket_sale_amt\n",
    "        , 'ticket_sale_amt_per' : ticket_sale_amt_per\n",
    "    }\n",
    "    query = createInsertQuery(tablename, data)\n",
    "    print(query)\n",
    "    #cursor = db.cursor()\n",
    "    #cursor.execute(query)\n",
    "    #db.commit()    \n",
    "#db.close()\n",
    "\n"
   ]
  },
  {
   "cell_type": "code",
   "execution_count": 16,
   "id": "820b6b54",
   "metadata": {},
   "outputs": [
    {
     "data": {
      "text/plain": [
       "<bound method Connection.rollback of <pymysql.connections.Connection object at 0x0000026EE90B7AC0>>"
      ]
     },
     "execution_count": 16,
     "metadata": {},
     "output_type": "execute_result"
    }
   ],
   "source": [
    "db.rollback"
   ]
  },
  {
   "cell_type": "code",
   "execution_count": 95,
   "id": "2edc4035",
   "metadata": {},
   "outputs": [],
   "source": [
    "db = pymysql.connect(host='127.0.0.1', port=3306, user='root', passwd='asdf12', db='mywork', charset='utf8')\n",
    "\n",
    "cursor = db.cursor()\n",
    "cursor.execute(query)\n",
    "\n",
    "db.commit()\n",
    "db.close()"
   ]
  }
 ],
 "metadata": {
  "kernelspec": {
   "display_name": "Python 3",
   "language": "python",
   "name": "python3"
  },
  "language_info": {
   "codemirror_mode": {
    "name": "ipython",
    "version": 3
   },
   "file_extension": ".py",
   "mimetype": "text/x-python",
   "name": "python",
   "nbconvert_exporter": "python",
   "pygments_lexer": "ipython3",
   "version": "3.8.8"
  }
 },
 "nbformat": 4,
 "nbformat_minor": 5
}
