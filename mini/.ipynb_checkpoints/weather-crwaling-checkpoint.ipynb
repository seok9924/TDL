{
 "cells": [
  {
   "cell_type": "code",
   "execution_count": 12,
   "id": "37b80ca6",
   "metadata": {},
   "outputs": [],
   "source": [
    "import selenium\n",
    "import time"
   ]
  },
  {
   "cell_type": "code",
   "execution_count": 13,
   "id": "4936bd9b",
   "metadata": {},
   "outputs": [],
   "source": [
    "from selenium import webdriver\n",
    "from selenium.webdriver.common.keys import Keys\n",
    "from datetime import datetime\n",
    "from datetime import timedelta\n",
    "from dateutil import relativedelta"
   ]
  },
  {
   "cell_type": "code",
   "execution_count": 14,
   "id": "b6b741fe",
   "metadata": {},
   "outputs": [],
   "source": [
    "options = webdriver.ChromeOptions()\n",
    "options.add_argument(\"user_agent=Mozilla/5.0 (Windows NT 10.0; Win64; x64) AppleWebKit/537.36 (KHTML, like Gecko) Chrome/106.0.0.0 Safari/537.36 Edg/106.0.1370.47\")\n",
    "\n",
    "driver = webdriver.Chrome(options=options)\n",
    "\n",
    "driver.get('https://www.kopis.or.kr/por/stats/perfo/perfoStatsTotal.do?menuId=MNU_000135&searchWord=&searchType=total')"
   ]
  },
  {
   "cell_type": "code",
   "execution_count": 11,
   "id": "3e5bed01",
   "metadata": {
    "scrolled": true
   },
   "outputs": [
    {
     "name": "stdout",
     "output_type": "stream",
     "text": [
      "this month: 2022-11-01\n",
      "next month: 2022-12-01\n",
      "first day: 2022-11-01\n",
      "last day: 2022-11-30\n",
      "11\n"
     ]
    }
   ],
   "source": [
    "datetime_format = \"%Y.%m.%d\"\n",
    "basic_ym = ''2019.01''\n",
    "basic_sdate = '01'\n",
    "basic_edate_30 = '30'\n",
    "basic_edate_31 = '31'\n",
    "dayleft = basic_ym + '.' + basic_sdate\n",
    "dayright = basic_ym + '.' + basic_edate_31\n",
    "\n",
    "def getMonthRage(year, month):\n",
    "    this_month = datetime(year=year, month=month, day=1).date()\n",
    "    next_month = this_month + relativedelta.relativedelta(months=1)\n",
    "    print(f\"this month: {this_month}\")\n",
    "    print(f\"next month: {next_month}\")\n",
    "\n",
    "    first_day = this_month\n",
    "    last_day = next_month - timedelta(days=1)\n",
    "    print(f\"first day: {first_day}\")\n",
    "    print(f\"last day: {last_day}\")\n",
    "    return (last_day.day)\n",
    "\n",
    "\n",
    "month_range = getMonthRage(2022, 2)\n",
    "\n"
   ]
  },
  {
   "cell_type": "code",
   "execution_count": 17,
   "id": "d09e3c0c",
   "metadata": {},
   "outputs": [],
   "source": [
    "def insert_search(dayleft,dayright)\n",
    "    elem = driver.find_element_by_id('startDate')\n",
    "    elem.send_keys(Keys.CONTROL + 'a')\n",
    "    elem.send_keys(Keys.BACKSPACE)\n",
    "    elem.send_keys(dayleft)\n",
    "    elem.send_keys(Keys.ENTER)\n",
    "    time.sleep(1)\n",
    "\n",
    "    elem = driver.find_element_by_id('endDate')\n",
    "    elem.send_keys(Keys.CONTROL + 'a')\n",
    "    elem.send_keys(Keys.BACKSPACE)\n",
    "    elem.send_keys(dayright)\n",
    "    elem.send_keys(Keys.ENTER)\n",
    "\n",
    "    elem = driver.find_element_by_xpath('//*[@id=\"search_list\"]/div/a')\n",
    "    elem.click()\n",
    "#elem.find_element_by_class_name('class=\"btn_pink sdtl_clo')\n",
    "#elem.execute_script('fncSearch()')\n",
    "#search_list > div > a\n"
   ]
  },
  {
   "cell_type": "code",
   "execution_count": 18,
   "id": "75f80371",
   "metadata": {},
   "outputs": [
    {
     "name": "stdout",
     "output_type": "stream",
     "text": [
      "서울 235 66.8 138 60.8 2,935 81.9 256,170 87.5 6,119,350 90.6\n",
      "경기도 28 8.0 26 11.5 137 3.8 15,748 5.4 315,903 4.7\n",
      "경상도 37 10.5 20 8.8 318 8.9 10,175 3.5 160,708 2.4\n",
      "충청도 22 6.3 17 7.5 69 1.9 4,695 1.6 66,586 1.0\n",
      "전라도 24 6.8 22 9.7 101 2.8 4,531 1.5 66,167 1.0\n",
      "제주도 5 1.4 3 1.3 22 0.6 1,395 0.5 22,974 0.3\n",
      "강원도 1 0.3 1 0.4 2 0.1 169 0.1 1,908 0.0\n",
      "합계 352 100.0 227 100.0 3,584 100.0 292,883 100.0 6,753,595 100.0 \n",
      "\n"
     ]
    }
   ],
   "source": [
    "table = driver.find_element_by_xpath('//*[@id=\"su_con\"]/div[5]/table')\n",
    "tbody = table.find_element_by_tag_name('tbody')\n",
    "result = ''\n",
    "total = ''\n",
    "for tr in tbody.find_elements_by_class_name(\"trTotal\"):\n",
    "    txt = tr.find_element_by_tag_name(\"th\").get_attribute(\"innerText\")\n",
    "    for td in tr.find_elements_by_tag_name(\"td\")[1:]:\n",
    "        txt += ' ' + td.get_attribute(\"innerText\")\n",
    "    #print(txt)\n",
    "    result += txt + '\\n'\n",
    "\n",
    "txt2 = ''\n",
    "for tr in tbody.find_elements_by_class_name('sum.brb_e.bg'):\n",
    "    for td in tr.find_elements_by_tag_name(\"td\"):\n",
    "        txt2 += td.get_attribute(\"innerText\") + ' '\n",
    "    result += txt2 + '\\n'\n",
    "print(result)\n",
    "#print(total)"
   ]
  },
  {
   "cell_type": "code",
   "execution_count": 24,
   "id": "59efbf8a",
   "metadata": {},
   "outputs": [
    {
     "ename": "SyntaxError",
     "evalue": "invalid syntax (<ipython-input-24-8c7f9eb6e570>, line 1)",
     "output_type": "error",
     "traceback": [
      "\u001b[1;36m  File \u001b[1;32m\"<ipython-input-24-8c7f9eb6e570>\"\u001b[1;36m, line \u001b[1;32m1\u001b[0m\n\u001b[1;33m    def insert_search(dayleft,dayright)\u001b[0m\n\u001b[1;37m                                       ^\u001b[0m\n\u001b[1;31mSyntaxError\u001b[0m\u001b[1;31m:\u001b[0m invalid syntax\n"
     ]
    }
   ],
   "source": [
    "def insert_search(dayleft,dayright) :\n",
    "    elem = driver.find_element_by_id('startDate')\n",
    "    elem.send_keys(Keys.CONTROL + 'a')\n",
    "    elem.send_keys(Keys.BACKSPACE)\n",
    "    elem.send_keys(dayleft)\n",
    "    elem.send_keys(Keys.ENTER)\n",
    "    time.sleep(1)\n",
    "\n",
    "    elem = driver.find_element_by_id('endDate')\n",
    "    elem.send_keys(Keys.CONTROL + 'a')\n",
    "    elem.send_keys(Keys.BACKSPACE)\n",
    "    elem.send_keys(dayright)\n",
    "    elem.send_keys(Keys.ENTER)\n",
    "\n",
    "    elem = driver.find_element_by_xpath('//*[@id=\"search_list\"]/div/a')\n",
    "    elem.click()\n",
    "\n",
    "insert_search('2019.01.01','2019.01.31')"
   ]
  },
  {
   "cell_type": "code",
   "execution_count": null,
   "id": "61fe1e28",
   "metadata": {},
   "outputs": [],
   "source": []
  }
 ],
 "metadata": {
  "kernelspec": {
   "display_name": "Python 3",
   "language": "python",
   "name": "python3"
  },
  "language_info": {
   "codemirror_mode": {
    "name": "ipython",
    "version": 3
   },
   "file_extension": ".py",
   "mimetype": "text/x-python",
   "name": "python",
   "nbconvert_exporter": "python",
   "pygments_lexer": "ipython3",
   "version": "3.8.8"
  }
 },
 "nbformat": 4,
 "nbformat_minor": 5
}
