{
 "cells": [
  {
   "cell_type": "code",
   "execution_count": 116,
   "metadata": {},
   "outputs": [],
   "source": [
    "import selenium\n",
    "import time\n",
    "from bs4 import BeautifulSoup\n",
    "from selenium import webdriver\n",
    "import requests\n",
    "options = webdriver.ChromeOptions()\n",
    "options.add_argument('user-agent=Mozilla/5.0 (Windows NT 10.0; Win64; x64) AppleWebKit/537.36 (KHTML, like Gecko) Chrome/106.0.0.0 Safari/537.36 Edg/106.0.1370.47')\n"
   ]
  },
  {
   "cell_type": "code",
   "execution_count": 117,
   "metadata": {},
   "outputs": [],
   "source": [
    "driver = webdriver.Chrome(options=options)"
   ]
  },
  {
   "cell_type": "code",
   "execution_count": 118,
   "metadata": {},
   "outputs": [],
   "source": [
    "url= \"https://www.kopis.or.kr/por/stats/perfo/perfoStatsTotal.do?menuId=MNU_000135&searchWord=&searchType=total#\""
   ]
  },
  {
   "cell_type": "code",
   "execution_count": 119,
   "metadata": {},
   "outputs": [],
   "source": [
    "driver.get(url)"
   ]
  },
  {
   "cell_type": "code",
   "execution_count": 144,
   "metadata": {},
   "outputs": [],
   "source": [
    "soup = BeautifulSoup(driver.page_source, 'lxml')"
   ]
  },
  {
   "cell_type": "code",
   "execution_count": 145,
   "metadata": {},
   "outputs": [],
   "source": [
    "seoul=soup.find_all(id='서울0')"
   ]
  },
  {
   "cell_type": "code",
   "execution_count": 146,
   "metadata": {
    "scrolled": true
   },
   "outputs": [
    {
     "name": "stdout",
     "output_type": "stream",
     "text": [
      "<tr class=\"sub1\" id=\"서울0\" style=\"\"><td rowspan=\"7\" style=\"border-bottom: 1px solid #000;\"></td><th class=\"num\" style=\"position: sticky; left: 0; z-index: 1;\">연극</th><td class=\"num\">226</td><td class=\"num\">13.3</td><td class=\"num\">145</td><td class=\"num\">9.9</td><td class=\"num\">3,160</td><td class=\"num\">37.9</td><td class=\"num\">4,107,785</td><td class=\"num\">9.7</td><td class=\"num\">224,361</td><td class=\"num\">18.9</td></tr>\n"
     ]
    }
   ],
   "source": [
    "for i in seoul:\n",
    "    print(i)"
   ]
  },
  {
   "cell_type": "code",
   "execution_count": 152,
   "metadata": {},
   "outputs": [
    {
     "data": {
      "text/plain": [
       "[<tr class=\"sub1\" id=\"서울0\" style=\"\"><td rowspan=\"7\" style=\"border-bottom: 1px solid #000;\"></td><th class=\"num\" style=\"position: sticky; left: 0; z-index: 1;\">연극</th><td class=\"num\">226</td><td class=\"num\">13.3</td><td class=\"num\">145</td><td class=\"num\">9.9</td><td class=\"num\">3,160</td><td class=\"num\">37.9</td><td class=\"num\">4,107,785</td><td class=\"num\">9.7</td><td class=\"num\">224,361</td><td class=\"num\">18.9</td></tr>]"
      ]
     },
     "execution_count": 152,
     "metadata": {},
     "output_type": "execute_result"
    }
   ],
   "source": [
    "seoul"
   ]
  },
  {
   "cell_type": "code",
   "execution_count": 161,
   "metadata": {},
   "outputs": [
    {
     "name": "stdout",
     "output_type": "stream",
     "text": [
      "연극\n"
     ]
    }
   ],
   "source": [
    "for i in seoul:\n",
    "    print(i.find(class_='num').text)"
   ]
  },
  {
   "cell_type": "code",
   "execution_count": 137,
   "metadata": {},
   "outputs": [
    {
     "name": "stdout",
     "output_type": "stream",
     "text": [
      "연극22613.31459.83,16037.94,107,7859.7224,36118.9 w"
     ]
    }
   ],
   "source": []
  },
  {
   "cell_type": "code",
   "execution_count": 52,
   "metadata": {},
   "outputs": [],
   "source": [
    "city=['서울','경상도','경기도','전라도','충청도','강원도','제주도']"
   ]
  },
  {
   "cell_type": "code",
   "execution_count": 96,
   "metadata": {},
   "outputs": [
    {
     "name": "stdout",
     "output_type": "stream",
     "text": [
      "서울 합계  ▼펼치기 757 44.6 597 40.5 5,723 68.6 770,394 64.8 33,674,643 79.9\n",
      "경상도 합계  ▼펼치기 343 20.2 317 21.5 1,090 13.1 161,000 13.6 3,943,746 9.4\n",
      "경기도 합계  ▼펼치기 279 16.4 264 17.9 660 7.9 127,529 10.7 2,034,761 4.8\n",
      "전라도 합계  ▼펼치기 116 6.8 107 7.3 338 4.1 49,592 4.2 799,105 1.9\n",
      "충청도 합계  ▼펼치기 152 9.0 144 9.8 338 4.1 55,081 4.6 1,343,946 3.2\n",
      "강원도 합계  ▼펼치기 31 1.8 30 2.0 90 1.1 15,059 1.3 258,169 0.6\n",
      "제주도 합계  ▼펼치기 19 1.1 14 1.0 102 1.2 9,475 0.8 115,600 0.3\n"
     ]
    }
   ],
   "source": [
    "for a in city :\n",
    "    elem= driver.find_element_by_xpath('//*[@id=\"{}\"]'.format(a)) \n",
    "    print(elem.text)"
   ]
  },
  {
   "cell_type": "code",
   "execution_count": 50,
   "metadata": {},
   "outputs": [
    {
     "data": {
      "text/plain": [
       "'서울 합계  ▼펼치기 757 44.6 597 40.5 5,723 68.6 770,394 64.8 33,674,643 79.9'"
      ]
     },
     "execution_count": 50,
     "metadata": {},
     "output_type": "execute_result"
    }
   ],
   "source": []
  },
  {
   "cell_type": "code",
   "execution_count": 39,
   "metadata": {},
   "outputs": [
    {
     "data": {
      "text/plain": [
       "[]"
      ]
     },
     "execution_count": 39,
     "metadata": {},
     "output_type": "execute_result"
    }
   ],
   "source": []
  },
  {
   "cell_type": "code",
   "execution_count": 81,
   "metadata": {},
   "outputs": [],
   "source": [
    "tag=soup.find_all(id='listBox')\n",
    "t"
   ]
  },
  {
   "cell_type": "code",
   "execution_count": 86,
   "metadata": {},
   "outputs": [
    {
     "ename": "AttributeError",
     "evalue": "ResultSet object has no attribute 'find_all'. You're probably treating a list of elements like a single element. Did you call find_all() when you meant to call find()?",
     "output_type": "error",
     "traceback": [
      "\u001b[1;31m---------------------------------------------------------------------------\u001b[0m",
      "\u001b[1;31mAttributeError\u001b[0m                            Traceback (most recent call last)",
      "\u001b[1;32m<ipython-input-86-a582837fc7f5>\u001b[0m in \u001b[0;36m<module>\u001b[1;34m\u001b[0m\n\u001b[1;32m----> 1\u001b[1;33m \u001b[0mtag\u001b[0m\u001b[1;33m.\u001b[0m\u001b[0mfind_all\u001b[0m\u001b[1;33m(\u001b[0m\u001b[0mid\u001b[0m\u001b[1;33m=\u001b[0m\u001b[1;34m\"서울0\"\u001b[0m\u001b[1;33m)\u001b[0m\u001b[1;33m\u001b[0m\u001b[1;33m\u001b[0m\u001b[0m\n\u001b[0m",
      "\u001b[1;32m~\\anaconda3\\lib\\site-packages\\bs4\\element.py\u001b[0m in \u001b[0;36m__getattr__\u001b[1;34m(self, key)\u001b[0m\n\u001b[0;32m   2171\u001b[0m     \u001b[1;32mdef\u001b[0m \u001b[0m__getattr__\u001b[0m\u001b[1;33m(\u001b[0m\u001b[0mself\u001b[0m\u001b[1;33m,\u001b[0m \u001b[0mkey\u001b[0m\u001b[1;33m)\u001b[0m\u001b[1;33m:\u001b[0m\u001b[1;33m\u001b[0m\u001b[1;33m\u001b[0m\u001b[0m\n\u001b[0;32m   2172\u001b[0m         \u001b[1;34m\"\"\"Raise a helpful exception to explain a common code fix.\"\"\"\u001b[0m\u001b[1;33m\u001b[0m\u001b[1;33m\u001b[0m\u001b[0m\n\u001b[1;32m-> 2173\u001b[1;33m         raise AttributeError(\n\u001b[0m\u001b[0;32m   2174\u001b[0m             \u001b[1;34m\"ResultSet object has no attribute '%s'. You're probably treating a list of elements like a single element. Did you call find_all() when you meant to call find()?\"\u001b[0m \u001b[1;33m%\u001b[0m \u001b[0mkey\u001b[0m\u001b[1;33m\u001b[0m\u001b[1;33m\u001b[0m\u001b[0m\n\u001b[0;32m   2175\u001b[0m         )\n",
      "\u001b[1;31mAttributeError\u001b[0m: ResultSet object has no attribute 'find_all'. You're probably treating a list of elements like a single element. Did you call find_all() when you meant to call find()?"
     ]
    }
   ],
   "source": []
  },
  {
   "cell_type": "code",
   "execution_count": 114,
   "metadata": {},
   "outputs": [
    {
     "name": "stdout",
     "output_type": "stream",
     "text": [
      "-------------서울---------------------\n",
      "서울 합계  ▼펼치기 757 44.6 597 40.5 5,723 68.6 770,394 64.8 33,674,643 79.9\n",
      "\n",
      "\n",
      "\n",
      "\n",
      "\n",
      "\n",
      "\n",
      "\n",
      "\n",
      "\n",
      "\n",
      "\n",
      "\n",
      "\n",
      "-----------------------------------------------------------\n",
      "-------------경상도---------------------\n",
      "경상도 합계  ▼펼치기 343 20.2 317 21.5 1,090 13.1 161,000 13.6 3,943,746 9.4\n",
      "\n",
      "\n",
      "\n",
      "\n",
      "\n",
      "\n",
      "\n",
      "\n",
      "\n",
      "\n",
      "\n",
      "\n",
      "\n",
      "\n",
      "-----------------------------------------------------------\n",
      "-------------경기도---------------------\n",
      "경기도 합계  ▼펼치기 279 16.4 264 17.9 660 7.9 127,529 10.7 2,034,761 4.8\n",
      "\n",
      "\n",
      "\n",
      "\n",
      "\n",
      "\n",
      "\n",
      "\n",
      "\n",
      "\n",
      "\n",
      "\n",
      "\n",
      "\n",
      "-----------------------------------------------------------\n",
      "-------------전라도---------------------\n",
      "전라도 합계  ▼펼치기 116 6.8 107 7.3 338 4.1 49,592 4.2 799,105 1.9\n",
      "\n",
      "\n",
      "\n",
      "\n",
      "\n",
      "\n",
      "\n",
      "\n",
      "\n",
      "\n",
      "\n",
      "\n",
      "\n",
      "\n",
      "-----------------------------------------------------------\n",
      "-------------충청도---------------------\n",
      "충청도 합계  ▼펼치기 152 9.0 144 9.8 338 4.1 55,081 4.6 1,343,946 3.2\n",
      "\n",
      "\n",
      "\n",
      "\n",
      "\n",
      "\n",
      "\n",
      "\n",
      "\n",
      "\n",
      "\n",
      "\n",
      "\n",
      "\n",
      "-----------------------------------------------------------\n",
      "-------------강원도---------------------\n",
      "강원도 합계  ▼펼치기 31 1.8 30 2.0 90 1.1 15,059 1.3 258,169 0.6\n",
      "\n",
      "\n",
      "\n",
      "\n",
      "\n",
      "\n",
      "\n",
      "\n",
      "\n",
      "\n",
      "\n",
      "\n",
      "\n",
      "\n",
      "-----------------------------------------------------------\n",
      "-------------제주도---------------------\n",
      "제주도 합계  ▼펼치기 19 1.1 14 1.0 102 1.2 9,475 0.8 115,600 0.3\n",
      "\n",
      "\n",
      "\n",
      "\n",
      "\n",
      "\n",
      "\n",
      "\n",
      "\n",
      "\n",
      "\n",
      "\n",
      "\n",
      "\n",
      "-----------------------------------------------------------\n"
     ]
    }
   ],
   "source": [
    "city=['서울','경상도','경기도','전라도','충청도','강원도','제주도']\n",
    "numbers=['0','1','2','3','4','5','6']\n",
    "\n",
    "for a in city :\n",
    "    total= driver.find_element_by_xpath('//*[@id=\"{}\"]'.format(a)) \n",
    "    \n",
    "for a in city :\n",
    "    print(\"-------------{}---------------------\".format(a))\n",
    "    total= driver.find_element_by_xpath('//*[@id=\"{}\"]'.format(a))\n",
    "    print(total.text)\n",
    "    for number in numbers : \n",
    "        \n",
    "        elem= driver.find_element_by_xpath('//*[@id=\"{}{}\"]'.format(a,number)) \n",
    "        eeee= driver.find_element_by_css_selector('#{}{}'.format(a,number))\n",
    "        print(eeee.text)\n",
    "        print(elem.text)\n",
    "    print(\"-----------------------------------------------------------\")"
   ]
  },
  {
   "cell_type": "code",
   "execution_count": 115,
   "metadata": {},
   "outputs": [],
   "source": []
  },
  {
   "cell_type": "code",
   "execution_count": 169,
   "metadata": {},
   "outputs": [],
   "source": [
    "tablebox= soup.find(id='listBox')"
   ]
  },
  {
   "cell_type": "code",
   "execution_count": 174,
   "metadata": {},
   "outputs": [],
   "source": [
    "seoul=tablebox.find(id='서울')"
   ]
  },
  {
   "cell_type": "code",
   "execution_count": 180,
   "metadata": {},
   "outputs": [
    {
     "data": {
      "text/plain": [
       "<tr class=\"trTotal\" id=\"서울\"><th style=\"position: sticky; left: 0; z-index: 1;\">서울</th><td>합계<a href=\"javascript:;\" onclick=\"detail_toggle(this);\"><strong style=\"font-size:11px;\">  ▼펼치기</strong></a></td><td class=\"num\">757</td><td class=\"num\">44.6</td><td class=\"num\">597</td><td class=\"num\">40.6</td><td class=\"num\">5,723</td><td class=\"num\">68.6</td><td class=\"num\">770,394</td><td class=\"num\">64.8</td><td class=\"num\">33,674,643</td><td class=\"num\">79.9</td> </tr>"
      ]
     },
     "execution_count": 180,
     "metadata": {},
     "output_type": "execute_result"
    }
   ],
   "source": [
    "seoul"
   ]
  },
  {
   "cell_type": "code",
   "execution_count": 186,
   "metadata": {},
   "outputs": [],
   "source": [
    "numbers= seoul.find_all('td',class_='num')"
   ]
  },
  {
   "cell_type": "code",
   "execution_count": 188,
   "metadata": {},
   "outputs": [
    {
     "name": "stdout",
     "output_type": "stream",
     "text": [
      "757 44.6 597 40.6 5,723 68.6 770,394 64.8 33,674,643 79.9 "
     ]
    }
   ],
   "source": [
    "for number in numbers:\n",
    "    print(number.text, end = ' ')"
   ]
  },
  {
   "cell_type": "code",
   "execution_count": null,
   "metadata": {},
   "outputs": [],
   "source": []
  }
 ],
 "metadata": {
  "kernelspec": {
   "display_name": "Python 3",
   "language": "python",
   "name": "python3"
  },
  "language_info": {
   "codemirror_mode": {
    "name": "ipython",
    "version": 3
   },
   "file_extension": ".py",
   "mimetype": "text/x-python",
   "name": "python",
   "nbconvert_exporter": "python",
   "pygments_lexer": "ipython3",
   "version": "3.8.8"
  }
 },
 "nbformat": 4,
 "nbformat_minor": 4
}
